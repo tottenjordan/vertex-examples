{
 "cells": [
  {
   "cell_type": "code",
   "execution_count": null,
   "metadata": {
    "id": "ur8xi4C7S06n"
   },
   "outputs": [],
   "source": [
    "# Copyright 2022 Google LLC\n",
    "#\n",
    "# Licensed under the Apache License, Version 2.0 (the \"License\");\n",
    "# you may not use this file except in compliance with the License.\n",
    "# You may obtain a copy of the License at\n",
    "#\n",
    "#     https://www.apache.org/licenses/LICENSE-2.0\n",
    "#\n",
    "# Unless required by applicable law or agreed to in writing, software\n",
    "# distributed under the License is distributed on an \"AS IS\" BASIS,\n",
    "# WITHOUT WARRANTIES OR CONDITIONS OF ANY KIND, either express or implied.\n",
    "# See the License for the specific language governing permissions and\n",
    "# limitations under the License."
   ]
  },
  {
   "cell_type": "markdown",
   "metadata": {
    "tags": []
   },
   "source": [
    "# Notebook Setup"
   ]
  },
  {
   "cell_type": "markdown",
   "metadata": {
    "id": "JAPoU8Sm5E6e"
   },
   "source": [
    "<table align=\"left\">\n",
    "\n",
    "  <td>\n",
    "    <a href=\"https://colab.research.google.com/github/GoogleCloudPlatform/vertex-ai-samples/blob/main/notebooks/official/experiments/comparing_pipeline_runs.ipynb\">\n",
    "      <img src=\"https://cloud.google.com/ml-engine/images/colab-logo-32px.png\" alt=\"Colab logo\"> Run in Colab\n",
    "    </a>\n",
    "  </td>\n",
    "  <td>\n",
    "    <a href=\"https://github.com/GoogleCloudPlatform/vertex-ai-samples/blob/main/notebooks/official/experiments/comparing_pipeline_runs.ipynb\">\n",
    "      <img src=\"https://cloud.google.com/ml-engine/images/github-logo-32px.png\" alt=\"GitHub logo\">\n",
    "      View on GitHub\n",
    "    </a>\n",
    "  </td>\n",
    "  <td>\n",
    "    <a href=\"https://console.cloud.google.com/vertex-ai/workbench/deploy-notebook?download_url=https://github.com/GoogleCloudPlatform/vertex-ai-samples/blob/main/notebooks/official/experiments/comparing_pipeline_runs.ipynb\">\n",
    "      <img src=\"https://lh3.googleusercontent.com/UiNooY4LUgW_oTvpsNhPpQzsstV5W8F7rYgxgGBD85cWJoLmrOzhVs_ksK_vgx40SHs7jCqkTkCk=e14-rj-sc0xffffff-h130-w32\" alt=\"Vertex AI logo\">\n",
    "      Open in Vertex AI Workbench\n",
    "    </a>\n",
    "  </td>                                                                                               \n",
    "</table>"
   ]
  },
  {
   "cell_type": "markdown",
   "metadata": {
    "id": "tvgnzT1CKxrO",
    "tags": []
   },
   "source": [
    "## Overview\n",
    "\n",
    "Depending on the model life cycle of your data science team, you would like to experiment and track training Pipeline runs and its associated parameters. Then, you would to compare runs of these Pipelines to each others in order to figure out which is the best configuration generates the model you will register in the Vertex AI Model Registry.\n",
    "\n",
    "### Dataset\n",
    "\n",
    "The dataset used for this tutorial is the [Iris dataset](https://www.tensorflow.org/datasets/catalog/iris) from [TensorFlow Datasets](https://www.tensorflow.org/datasets/catalog/overview). This dataset does not require any feature engineering. The version of the dataset you will use in this tutorial is stored in a public Cloud Storage bucket. The trained model predicts the type of Iris flower species from a class of three species: setosa, virginica, or versicolor.\n",
    "\n",
    "\n",
    "### Objective\n",
    "\n",
    "This notebook shows two mehthods for tracking Vertex AI Experiments from Vertex Pipeline runs \n",
    "\n",
    "*   (1) Associate a `pipeline run` with an `experiment run`\n",
    "*   (2) Manually log metadata, params, & metrics in pipeline components\n",
    "\n",
    "The steps covered include:\n",
    "\n",
    "* Formalize a training component\n",
    "* Build a training pipeline\n",
    "* Run several Pipeline jobs and log their results\n",
    "* Compare different Pipeline jobs"
   ]
  },
  {
   "cell_type": "markdown",
   "metadata": {
    "id": "i7EUnXsZhAGF"
   },
   "source": [
    "#### Install additional packages\n",
    "\n",
    "Install additional package dependencies not installed in your notebook environment, such as Vertex AI SDK and KFP SDK. Use the latest major GA version of each package."
   ]
  },
  {
   "cell_type": "code",
   "execution_count": 1,
   "metadata": {
    "collapsed": true,
    "id": "2b4ef9b72d43",
    "jupyter": {
     "outputs_hidden": true
    },
    "tags": []
   },
   "outputs": [
    {
     "name": "stdout",
     "output_type": "stream",
     "text": [
      "\u001b[33m  WARNING: The scripts pyrsa-decrypt, pyrsa-encrypt, pyrsa-keygen, pyrsa-priv2pub, pyrsa-sign and pyrsa-verify are installed in '/home/jupyter/.local/bin' which is not on PATH.\n",
      "  Consider adding this directory to PATH or, if you prefer to suppress this warning, use --no-warn-script-location.\u001b[0m\u001b[33m\n",
      "\u001b[0m\u001b[33m  WARNING: The script normalizer is installed in '/home/jupyter/.local/bin' which is not on PATH.\n",
      "  Consider adding this directory to PATH or, if you prefer to suppress this warning, use --no-warn-script-location.\u001b[0m\u001b[33m\n",
      "\u001b[0m\u001b[33m  WARNING: The script tb-gcp-uploader is installed in '/home/jupyter/.local/bin' which is not on PATH.\n",
      "  Consider adding this directory to PATH or, if you prefer to suppress this warning, use --no-warn-script-location.\u001b[0m\u001b[33m\n",
      "\u001b[0m\u001b[31mERROR: pip's dependency resolver does not currently take into account all the packages that are installed. This behaviour is the source of the following dependency conflicts.\n",
      "tfx-bsl 1.9.0 requires google-api-python-client<2,>=1.7.11, but you have google-api-python-client 2.52.0 which is incompatible.\n",
      "tfx-bsl 1.9.0 requires pyarrow<6,>=1, but you have pyarrow 8.0.0 which is incompatible.\n",
      "tensorflow 2.9.0rc2 requires tensorboard<2.10,>=2.9, but you have tensorboard 2.8.0 which is incompatible.\n",
      "tensorflow-transform 1.9.0 requires pyarrow<6,>=1, but you have pyarrow 8.0.0 which is incompatible.\n",
      "tensorflow-serving-api 2.9.0 requires tensorflow<3,>=2.9.0, but you have tensorflow 2.9.0rc2 which is incompatible.\n",
      "google-cloud-recommendations-ai 0.2.0 requires google-api-core[grpc]<2.0.0dev,>=1.22.2, but you have google-api-core 2.8.2 which is incompatible.\n",
      "cloud-tpu-client 0.10 requires google-api-python-client==1.8.0, but you have google-api-python-client 2.52.0 which is incompatible.\n",
      "apache-beam 2.40.0 requires dill<0.3.2,>=0.3.1.1, but you have dill 0.3.5.1 which is incompatible.\n",
      "apache-beam 2.40.0 requires pyarrow<8.0.0,>=0.15.1, but you have pyarrow 8.0.0 which is incompatible.\u001b[0m\u001b[31m\n",
      "\u001b[0m\u001b[33m  WARNING: The script tabulate is installed in '/home/jupyter/.local/bin' which is not on PATH.\n",
      "  Consider adding this directory to PATH or, if you prefer to suppress this warning, use --no-warn-script-location.\u001b[0m\u001b[33m\n",
      "\u001b[0m\u001b[33m  WARNING: The script strip-hints is installed in '/home/jupyter/.local/bin' which is not on PATH.\n",
      "  Consider adding this directory to PATH or, if you prefer to suppress this warning, use --no-warn-script-location.\u001b[0m\u001b[33m\n",
      "\u001b[0m\u001b[33m  WARNING: The script jsonschema is installed in '/home/jupyter/.local/bin' which is not on PATH.\n",
      "  Consider adding this directory to PATH or, if you prefer to suppress this warning, use --no-warn-script-location.\u001b[0m\u001b[33m\n",
      "\u001b[0m\u001b[33m  WARNING: The scripts dsl-compile, dsl-compile-v2 and kfp are installed in '/home/jupyter/.local/bin' which is not on PATH.\n",
      "  Consider adding this directory to PATH or, if you prefer to suppress this warning, use --no-warn-script-location.\u001b[0m\u001b[33m\n",
      "\u001b[0m\u001b[31mERROR: pip's dependency resolver does not currently take into account all the packages that are installed. This behaviour is the source of the following dependency conflicts.\n",
      "tfx-bsl 1.9.0 requires pyarrow<6,>=1, but you have pyarrow 8.0.0 which is incompatible.\n",
      "tensorflow-transform 1.9.0 requires pyarrow<6,>=1, but you have pyarrow 8.0.0 which is incompatible.\n",
      "google-cloud-recommendations-ai 0.2.0 requires google-api-core[grpc]<2.0.0dev,>=1.22.2, but you have google-api-core 2.8.2 which is incompatible.\n",
      "cloud-tpu-client 0.10 requires google-api-python-client==1.8.0, but you have google-api-python-client 1.12.11 which is incompatible.\u001b[0m\u001b[31m\n",
      "\u001b[0m"
     ]
    }
   ],
   "source": [
    "import os\n",
    "\n",
    "# The Vertex AI Workbench Notebook product has specific requirements\n",
    "IS_WORKBENCH_NOTEBOOK = os.getenv(\"DL_ANACONDA_HOME\")\n",
    "IS_USER_MANAGED_WORKBENCH_NOTEBOOK = os.path.exists(\n",
    "    \"/opt/deeplearning/metadata/env_version\"\n",
    ")\n",
    "\n",
    "# Vertex AI Notebook requires dependencies to be installed with '--user'\n",
    "USER_FLAG = \"\"\n",
    "if IS_WORKBENCH_NOTEBOOK:\n",
    "    USER_FLAG = \"--user\"\n",
    "\n",
    "!pip3 install {USER_FLAG} --force-reinstall git+https://github.com/sasha-gitg/python-aiplatform@main -q\n",
    "!pip3 install {USER_FLAG} google-cloud-aiplatform[metadata] -q\n",
    "!pip3 install {USER_FLAG} kfp -q"
   ]
  },
  {
   "cell_type": "markdown",
   "metadata": {
    "id": "hhq5zEbGg0XX"
   },
   "source": [
    "#### Restart the kernel\n",
    "\n",
    "After you install the additional packages, you need to restart the notebook kernel so it can find the packages."
   ]
  },
  {
   "cell_type": "code",
   "execution_count": 2,
   "metadata": {
    "id": "EzrelQZ22IZj"
   },
   "outputs": [],
   "source": [
    "# Automatically restart kernel after installs\n",
    "import os\n",
    "\n",
    "if not os.getenv(\"IS_TESTING\"):\n",
    "    # Automatically restart kernel after installs\n",
    "    import IPython\n",
    "\n",
    "    app = IPython.Application.instance()\n",
    "    app.kernel.do_shutdown(True)"
   ]
  },
  {
   "cell_type": "markdown",
   "metadata": {
    "id": "WReHDGG5g0XY"
   },
   "source": [
    "Set project ID\n",
    "\n",
    "**If you don't know your project ID**, you may be able to get your project ID using `gcloud`."
   ]
  },
  {
   "cell_type": "code",
   "execution_count": 1,
   "metadata": {
    "id": "oM1iC_MfAts1"
   },
   "outputs": [
    {
     "name": "stdout",
     "output_type": "stream",
     "text": [
      "Project ID:  hybrid-vertex\n"
     ]
    }
   ],
   "source": [
    "import os\n",
    "\n",
    "PROJECT_ID = \"hybrid-vertex\" # TODO:\n",
    "REGION = \"us-central1\"   # TODO:\n",
    "\n",
    "from datetime import datetime\n",
    "\n",
    "TIMESTAMP = datetime.now().strftime(\"%Y%m%d%H%M%S\")"
   ]
  },
  {
   "cell_type": "code",
   "execution_count": 4,
   "metadata": {
    "id": "PyQmSRbKA8r-"
   },
   "outputs": [],
   "source": [
    "# If you are running this notebook in Colab, run this cell and follow the\n",
    "# instructions to authenticate your GCP account. This provides access to your\n",
    "# Cloud Storage bucket and lets you submit training jobs and prediction\n",
    "# requests.\n",
    "\n",
    "import os\n",
    "import sys\n",
    "\n",
    "# If on Vertex AI Workbench, then don't execute this code\n",
    "\n",
    "IS_COLAB = False\n",
    "\n",
    "if not os.path.exists(\"/opt/deeplearning/metadata/env_version\") and not os.getenv(\n",
    "    \"DL_ANACONDA_HOME\"\n",
    "):\n",
    "    if \"google.colab\" in sys.modules:\n",
    "\n",
    "        IS_COLAB = True\n",
    "\n",
    "        from google.colab import auth as google_auth\n",
    "\n",
    "        google_auth.authenticate_user()\n",
    "\n",
    "    # If you are running this notebook locally, replace the string below with the\n",
    "    # path to your service account key and run this cell to authenticate your GCP\n",
    "    # account.\n",
    "\n",
    "    elif not os.getenv(\"IS_TESTING\"):\n",
    "\n",
    "        %env GOOGLE_APPLICATION_CREDENTIALS ''"
   ]
  },
  {
   "cell_type": "code",
   "execution_count": 5,
   "metadata": {
    "id": "MzGDU7TWdts_"
   },
   "outputs": [],
   "source": [
    "BUCKET_NAME = \"test-us-central\"  # TODO:\n",
    "BUCKET_URI = f\"gs://{BUCKET_NAME}\""
   ]
  },
  {
   "cell_type": "markdown",
   "metadata": {
    "id": "-EcIXiGsCePi"
   },
   "source": [
    "**Only if your bucket doesn't already exist**: Run the following cell to create your Cloud Storage bucket."
   ]
  },
  {
   "cell_type": "code",
   "execution_count": 6,
   "metadata": {
    "id": "NIq7R4HZCfIc"
   },
   "outputs": [],
   "source": [
    "# ! gsutil mb -l $REGION -p $PROJECT_ID $BUCKET_URI"
   ]
  },
  {
   "cell_type": "markdown",
   "metadata": {
    "id": "ucvCsknMCims"
   },
   "source": [
    "Finally, validate access to your Cloud Storage bucket by examining its contents:"
   ]
  },
  {
   "cell_type": "code",
   "execution_count": 7,
   "metadata": {
    "id": "vhOb7YnwClBb"
   },
   "outputs": [
    {
     "name": "stdout",
     "output_type": "stream",
     "text": [
      "                                 gs://test-us-central/iris/\n",
      "                                 gs://test-us-central/model/\n",
      "                                 gs://test-us-central/pipelines/\n",
      "                                 gs://test-us-central/tensorboard-logs/\n"
     ]
    }
   ],
   "source": [
    "! gsutil ls -al $BUCKET_URI"
   ]
  },
  {
   "cell_type": "markdown",
   "metadata": {
    "id": "fXUqOdIaLbjf"
   },
   "source": [
    "#### Download training dataset\n"
   ]
  },
  {
   "cell_type": "code",
   "execution_count": 8,
   "metadata": {
    "id": "9fYX14c0LfmU"
   },
   "outputs": [],
   "source": [
    "DATASET_URI = \"gs://cloud-samples-data/ai-platform/iris\""
   ]
  },
  {
   "cell_type": "code",
   "execution_count": 9,
   "metadata": {
    "id": "z5WFzPetLl3Y"
   },
   "outputs": [
    {
     "name": "stdout",
     "output_type": "stream",
     "text": [
      "Copying gs://cloud-samples-data/ai-platform/iris/classification/evaluate.csv [Content-Type=text/csv]...\n",
      "Copying gs://cloud-samples-data/ai-platform/iris/classification/train.csv [Content-Type=text/csv]...\n",
      "Copying gs://cloud-samples-data/ai-platform/iris/iris_data.csv [Content-Type=application/octet-stream]...\n",
      "Copying gs://cloud-samples-data/ai-platform/iris/iris_predict.csv [Content-Type=text/csv]...\n",
      "- [4 files][  5.4 KiB/  5.4 KiB]                                                \n",
      "==> NOTE: You are performing a sequence of gsutil operations that may\n",
      "run significantly faster if you instead use gsutil -m cp ... Please\n",
      "see the -m section under \"gsutil help options\" for further information\n",
      "about when gsutil -m can be advantageous.\n",
      "\n",
      "Copying gs://cloud-samples-data/ai-platform/iris/iris_target.csv [Content-Type=application/octet-stream]...\n",
      "Copying gs://cloud-samples-data/ai-platform/iris/iris_test.csv [Content-Type=text/csv]...\n",
      "Copying gs://cloud-samples-data/ai-platform/iris/iris_training.csv [Content-Type=text/csv]...\n",
      "\\ [7 files][  8.4 KiB/  8.4 KiB]                                                \n",
      "Operation completed over 7 objects/8.4 KiB.                                      \n"
     ]
    }
   ],
   "source": [
    "!gsutil cp -r $DATASET_URI $BUCKET_URI"
   ]
  },
  {
   "cell_type": "markdown",
   "metadata": {
    "id": "XoEqT2Y4DJmf"
   },
   "source": [
    "## Import libraries and define constants"
   ]
  },
  {
   "cell_type": "code",
   "execution_count": 9,
   "metadata": {
    "id": "pRUOFELefqf1"
   },
   "outputs": [],
   "source": [
    "import logging\n",
    "# General\n",
    "import os\n",
    "import time\n",
    "\n",
    "logger = logging.getLogger(\"logger\")\n",
    "logging.basicConfig(level=logging.INFO)\n",
    "\n",
    "import kfp.v2.compiler as compiler\n",
    "\n",
    "# Pipeline Experiments\n",
    "import kfp.v2.dsl as dsl\n",
    "\n",
    "# Vertex AI\n",
    "from google.cloud import aiplatform as vertex_ai\n",
    "from kfp.v2.dsl import Metrics, Model, Output, component"
   ]
  },
  {
   "cell_type": "markdown",
   "metadata": {},
   "source": [
    "**Create experiment for tracking training related metadata**\n",
    "* First, create an experiment using the `init()` method and then initialize a run within the `experiment` using `start_run()`.\n",
    "\n",
    "* `vertex_ai.init()` - Create an experiment instance\n",
    "* `vertex_ai.start_run()` - Track a specific run within the experiment"
   ]
  },
  {
   "cell_type": "markdown",
   "metadata": {},
   "source": [
    "# (1) Associate `pipeline run` with a Vertex Experiment\n",
    "\n",
    "Add [PipelineJob](https://github.com/googleapis/python-aiplatform/blob/main/google/cloud/aiplatform/pipeline_jobs.py) metadata to `Vertex Experiment`\n",
    "* experiment (Union[str, experiments_resource.Experiment]) - *optional*\n",
    "* The Vertex AI experiment name or instance to associate to this PipelineJob.\n",
    "* Metrics produced by the `PipelineJob` as `system.Metric Artifacts` will be associated as metrics to the current Experiment Run.\n",
    "* Pipeline parameters will be associated as parameters to the current Experiment Run.\n"
   ]
  },
  {
   "cell_type": "code",
   "execution_count": 29,
   "metadata": {
    "id": "OAY0QKZD8qNP"
   },
   "outputs": [],
   "source": [
    "TIMESTAMP = datetime.now().strftime(\"%Y%m%d%H%M%S\")\n",
    "VERSION = 'v1'\n",
    "\n",
    "# Experiments\n",
    "TASK = \"associated-experiment\"\n",
    "MODEL_TYPE = \"xgboost\"\n",
    "EXPERIMENT_NAME = f\"pipe-run-{TASK}-{VERSION}-{MODEL_TYPE}-{TIMESTAMP}\"\n",
    "\n",
    "# Pipeline\n",
    "PIPELINE_URI = f\"{BUCKET_URI}/pipelines\"\n",
    "TRAIN_URI = f\"{BUCKET_URI}/iris/iris_data.csv\"\n",
    "LABEL_URI = f\"{BUCKET_URI}/iris/iris_target.csv\"\n",
    "MODEL_URI = f\"{BUCKET_URI}/model\""
   ]
  },
  {
   "cell_type": "markdown",
   "metadata": {
    "id": "inR70nh38PeK"
   },
   "source": [
    "### Initialize Vertex AI SDK for Python\n",
    "\n",
    "Initialize the Vertex AI SDK for Python for your project and corresponding bucket."
   ]
  },
  {
   "cell_type": "code",
   "execution_count": 30,
   "metadata": {
    "id": "Nz0nasrh8T3c"
   },
   "outputs": [],
   "source": [
    "vertex_ai.init(project=PROJECT_ID, staging_bucket=BUCKET_URI)"
   ]
  },
  {
   "cell_type": "markdown",
   "metadata": {
    "id": "container:training,prediction,xgboost"
   },
   "source": [
    "### Set pre-built containers\n",
    "\n",
    "Set the pre-built Docker container image for training and prediction.\n",
    "\n",
    "\n",
    "For the latest list, see [Pre-built containers for training](https://cloud.google.com/ai-platform-unified/docs/training/pre-built-containers).\n",
    "\n",
    "\n",
    "For the latest list, see [Pre-built containers for prediction](https://cloud.google.com/ai-platform-unified/docs/predictions/pre-built-containers)."
   ]
  },
  {
   "cell_type": "code",
   "execution_count": 31,
   "metadata": {
    "id": "XujRA5ueox9U"
   },
   "outputs": [],
   "source": [
    "TRAIN_IMAGE = vertex_ai.helpers.get_prebuilt_prediction_container_uri(\n",
    "    framework=\"xgboost\", framework_version=\"1.1\", accelerator=\"cpu\"\n",
    ")"
   ]
  },
  {
   "cell_type": "markdown",
   "metadata": {
    "id": "t1NLYz1R-KWv"
   },
   "source": [
    "## Formalize your training as pipeline component\n"
   ]
  },
  {
   "cell_type": "markdown",
   "metadata": {
    "id": "jnfKxpj0-Z0H"
   },
   "source": [
    "Before you start running your pipeline experiments, you have to formalize your training as pipeline component.\n",
    "\n",
    "To do that, you will use the `kfp.v2.dsl.component` decorator to convert your training task into a pipeline component. "
   ]
  },
  {
   "cell_type": "code",
   "execution_count": 32,
   "metadata": {
    "id": "jv_-vU46_eFN"
   },
   "outputs": [],
   "source": [
    "@component(\n",
    "    packages_to_install=[\n",
    "        \"numpy==1.18.5\",\n",
    "        \"pandas==1.0.4\",\n",
    "        \"scikit-learn==0.23.1\",\n",
    "        \"xgboost==1.1.1\",\n",
    "    ]\n",
    ")\n",
    "def custom_trainer(\n",
    "    train_uri: str,\n",
    "    label_uri: str,\n",
    "    max_depth: int,\n",
    "    learning_rate: float,\n",
    "    boost_rounds: int,\n",
    "    model_uri: str,\n",
    "    metrics: Output[Metrics],\n",
    "    model_metadata: Output[Model],\n",
    "):\n",
    "\n",
    "    # import libraries\n",
    "    import logging\n",
    "    import uuid\n",
    "    from pathlib import Path as path\n",
    "\n",
    "    import pandas as pd\n",
    "    import xgboost as xgb\n",
    "    from sklearn.metrics import accuracy_score\n",
    "    from sklearn.model_selection import train_test_split\n",
    "\n",
    "    # variables\n",
    "    gs_prefix = \"gs://\"\n",
    "    gcsfuse_prefix = \"/gcs/\"\n",
    "    train_path = train_uri.replace(gs_prefix, gcsfuse_prefix)\n",
    "    label_path = label_uri.replace(gs_prefix, gcsfuse_prefix)\n",
    "    model_path = model_uri.replace(gs_prefix, gcsfuse_prefix)\n",
    "\n",
    "    def get_logger():\n",
    "        \"\"\"\n",
    "        Get the logger\n",
    "        \"\"\"\n",
    "        logger = logging.getLogger(__name__)\n",
    "        logger.setLevel(logging.INFO)\n",
    "        handler = logging.StreamHandler()\n",
    "        handler.setFormatter(\n",
    "            logging.Formatter(\"%(asctime)s - %(name)s - %(levelname)s - %(message)s\")\n",
    "        )\n",
    "        logger.addHandler(handler)\n",
    "        return logger\n",
    "\n",
    "    def get_data(\n",
    "        train_path: str, label_path: str\n",
    "    ) -> (xgb.DMatrix, pd.DataFrame, pd.DataFrame):\n",
    "        \"\"\"\n",
    "        Get the data\n",
    "        Args:\n",
    "            train_path: the path of the train data\n",
    "            label_path: the path of the label data\n",
    "        Returns:\n",
    "            the train data and the label data\n",
    "        \"\"\"\n",
    "        # Load data into pandas, then use `.values` to get NumPy arrays\n",
    "        data = pd.read_csv(train_path).values\n",
    "        labels = pd.read_csv(label_path).values\n",
    "\n",
    "        # Convert one-column 2D array into 1D array for use with XGBoost\n",
    "        labels = labels.reshape((labels.size,))\n",
    "        train_data, test_data, train_labels, test_labels = train_test_split(\n",
    "            data, labels, test_size=0.2, random_state=7\n",
    "        )\n",
    "\n",
    "        # Load data into DMatrix object\n",
    "        dtrain = xgb.DMatrix(train_data, label=train_labels)\n",
    "        return dtrain, test_data, test_labels\n",
    "\n",
    "    def train_model(max_depth: int, eta: int, boost_rounds, dtrain: xgb.DMatrix):\n",
    "        \"\"\"\n",
    "        Train the model\n",
    "        Args:\n",
    "            max_depth: the max depth of the model\n",
    "            eta: the eta of the model\n",
    "            boost_rounds: the boost rounds of the model\n",
    "            dtrain: the train data\n",
    "        Returns:\n",
    "            the trained model\n",
    "        \"\"\"\n",
    "        # Train XGBoost model\n",
    "        param = {\"max_depth\": max_depth, \"eta\": eta}\n",
    "        model = xgb.train(param, dtrain, num_boost_round=boost_rounds)\n",
    "        return model\n",
    "\n",
    "    def evaluate_model(model, test_data, test_labels):\n",
    "        \"\"\"\n",
    "        Evaluate the model\n",
    "        Args:\n",
    "            model: the trained model\n",
    "            test_data: the test data\n",
    "            test_labels: the test labels\n",
    "        Returns:\n",
    "            the accuracy of the model\n",
    "        \"\"\"\n",
    "        dtest = xgb.DMatrix(test_data)\n",
    "        pred = model.predict(dtest)\n",
    "        predictions = [round(value) for value in pred]\n",
    "        # Evaluate predictions\n",
    "        accuracy = accuracy_score(test_labels, predictions)\n",
    "        return accuracy\n",
    "\n",
    "    def save_model(model, model_path):\n",
    "        \"\"\"\n",
    "        Save the model\n",
    "        Args:\n",
    "            model: the trained model\n",
    "            model_path: the path of the model\n",
    "        \"\"\"\n",
    "        model_id = str(uuid.uuid1())\n",
    "        model_path = f\"{model_path}/{model_id}/model.bst\"\n",
    "        path(model_path).parent.mkdir(parents=True, exist_ok=True)\n",
    "        model.save_model(model_path)\n",
    "\n",
    "    # Main ----------------------------------------------\n",
    "\n",
    "    dtrain, test_data, test_labels = get_data(train_path, label_path)\n",
    "    model = train_model(max_depth, learning_rate, boost_rounds, dtrain)\n",
    "    accuracy = evaluate_model(model, test_data, test_labels)\n",
    "    save_model(model, model_path)\n",
    "\n",
    "    # Metadata ------------------------------------------\n",
    "    metrics.log_metric(\"accurancy\", accuracy)\n",
    "    model_metadata.uri = model_uri"
   ]
  },
  {
   "cell_type": "markdown",
   "metadata": {
    "id": "U1UiTZhkVoFM"
   },
   "source": [
    "## Build a pipeline"
   ]
  },
  {
   "cell_type": "markdown",
   "metadata": {
    "id": "7ABYbPz5UmJQ"
   },
   "source": [
    "### Define your workflow using Kubeflow Pipelines DSL package\n",
    "\n",
    "> These parameters will automatically be logged to the `Experiment`"
   ]
  },
  {
   "cell_type": "code",
   "execution_count": 33,
   "metadata": {
    "id": "9Gfr6pNLU-dB"
   },
   "outputs": [],
   "source": [
    "@dsl.pipeline(name=f\"pipeline-run-{TASK}-{VERSION}\")\n",
    "def pipeline(\n",
    "    train_uri: str,\n",
    "    label_uri: str,\n",
    "    max_depth: int,\n",
    "    learning_rate: float,\n",
    "    boost_rounds: int,\n",
    "    model_uri: str,\n",
    "):\n",
    "\n",
    "    custom_trainer(\n",
    "        train_uri, label_uri, max_depth, learning_rate, boost_rounds, model_uri\n",
    "    )"
   ]
  },
  {
   "cell_type": "markdown",
   "metadata": {
    "id": "RkfZ7qVAVjBO"
   },
   "source": [
    "#### Compile pipeline into a JSON file"
   ]
  },
  {
   "cell_type": "code",
   "execution_count": 34,
   "metadata": {
    "id": "oYlLBGUSVibG"
   },
   "outputs": [],
   "source": [
    "compiler.Compiler().compile(pipeline_func=pipeline, package_path=\"pipeline.json\")"
   ]
  },
  {
   "cell_type": "markdown",
   "metadata": {
    "id": "95vG4-zPWc0B"
   },
   "source": [
    "### Submit and track pipeline runs"
   ]
  },
  {
   "cell_type": "markdown",
   "metadata": {
    "id": "ZNb6kZ2l5t-O"
   },
   "source": [
    "#### Submit Pipeline runs\n",
    "\n",
    "Now that you have the pipeline, you define its training configuration depending on the defined parameters. Below you have an example and how you can submit several pipeline runs. "
   ]
  },
  {
   "cell_type": "code",
   "execution_count": 35,
   "metadata": {
    "id": "XPy0Jc8xXgpa"
   },
   "outputs": [],
   "source": [
    "runs = [\n",
    "    {\"max_depth\": 4, \"learning_rate\": 0.2, \"boost_rounds\": 10},\n",
    "    {\"max_depth\": 5, \"learning_rate\": 0.3, \"boost_rounds\": 20},\n",
    "    {\"max_depth\": 3, \"learning_rate\": 0.1, \"boost_rounds\": 30},\n",
    "    {\"max_depth\": 6, \"learning_rate\": 0.5, \"boost_rounds\": 40},\n",
    "    {\"max_depth\": 5, \"learning_rate\": 0.4, \"boost_rounds\": 30},\n",
    "]"
   ]
  },
  {
   "cell_type": "code",
   "execution_count": 36,
   "metadata": {
    "collapsed": true,
    "id": "G0hm1no_WY8o",
    "jupyter": {
     "outputs_hidden": true
    },
    "tags": []
   },
   "outputs": [
    {
     "name": "stdout",
     "output_type": "stream",
     "text": [
      "Creating PipelineJob\n"
     ]
    },
    {
     "name": "stderr",
     "output_type": "stream",
     "text": [
      "INFO:google.cloud.aiplatform.pipeline_jobs:Creating PipelineJob\n"
     ]
    },
    {
     "name": "stdout",
     "output_type": "stream",
     "text": [
      "PipelineJob created. Resource name: projects/934903580331/locations/us-central1/pipelineJobs/pipe-run-associated-experiment-v1x-xgboost-20220729055009-pipeline-run-0\n"
     ]
    },
    {
     "name": "stderr",
     "output_type": "stream",
     "text": [
      "INFO:google.cloud.aiplatform.pipeline_jobs:PipelineJob created. Resource name: projects/934903580331/locations/us-central1/pipelineJobs/pipe-run-associated-experiment-v1x-xgboost-20220729055009-pipeline-run-0\n"
     ]
    },
    {
     "name": "stdout",
     "output_type": "stream",
     "text": [
      "To use this PipelineJob in another session:\n"
     ]
    },
    {
     "name": "stderr",
     "output_type": "stream",
     "text": [
      "INFO:google.cloud.aiplatform.pipeline_jobs:To use this PipelineJob in another session:\n"
     ]
    },
    {
     "name": "stdout",
     "output_type": "stream",
     "text": [
      "pipeline_job = aiplatform.PipelineJob.get('projects/934903580331/locations/us-central1/pipelineJobs/pipe-run-associated-experiment-v1x-xgboost-20220729055009-pipeline-run-0')\n"
     ]
    },
    {
     "name": "stderr",
     "output_type": "stream",
     "text": [
      "INFO:google.cloud.aiplatform.pipeline_jobs:pipeline_job = aiplatform.PipelineJob.get('projects/934903580331/locations/us-central1/pipelineJobs/pipe-run-associated-experiment-v1x-xgboost-20220729055009-pipeline-run-0')\n"
     ]
    },
    {
     "name": "stdout",
     "output_type": "stream",
     "text": [
      "View Pipeline Job:\n",
      "https://console.cloud.google.com/vertex-ai/locations/us-central1/pipelines/runs/pipe-run-associated-experiment-v1x-xgboost-20220729055009-pipeline-run-0?project=934903580331\n"
     ]
    },
    {
     "name": "stderr",
     "output_type": "stream",
     "text": [
      "INFO:google.cloud.aiplatform.pipeline_jobs:View Pipeline Job:\n",
      "https://console.cloud.google.com/vertex-ai/locations/us-central1/pipelines/runs/pipe-run-associated-experiment-v1x-xgboost-20220729055009-pipeline-run-0?project=934903580331\n"
     ]
    },
    {
     "name": "stdout",
     "output_type": "stream",
     "text": [
      "Associating projects/934903580331/locations/us-central1/pipelineJobs/pipe-run-associated-experiment-v1x-xgboost-20220729055009-pipeline-run-0 to Experiment: pipe-run-associated-experiment-v1x-xgboost-20220729055009\n"
     ]
    },
    {
     "name": "stderr",
     "output_type": "stream",
     "text": [
      "INFO:google.cloud.aiplatform.metadata.experiment_resources:Associating projects/934903580331/locations/us-central1/pipelineJobs/pipe-run-associated-experiment-v1x-xgboost-20220729055009-pipeline-run-0 to Experiment: pipe-run-associated-experiment-v1x-xgboost-20220729055009\n"
     ]
    },
    {
     "name": "stdout",
     "output_type": "stream",
     "text": [
      "Creating PipelineJob\n"
     ]
    },
    {
     "name": "stderr",
     "output_type": "stream",
     "text": [
      "INFO:google.cloud.aiplatform.pipeline_jobs:Creating PipelineJob\n"
     ]
    },
    {
     "name": "stdout",
     "output_type": "stream",
     "text": [
      "PipelineJob created. Resource name: projects/934903580331/locations/us-central1/pipelineJobs/pipe-run-associated-experiment-v1x-xgboost-20220729055009-pipeline-run-1\n"
     ]
    },
    {
     "name": "stderr",
     "output_type": "stream",
     "text": [
      "INFO:google.cloud.aiplatform.pipeline_jobs:PipelineJob created. Resource name: projects/934903580331/locations/us-central1/pipelineJobs/pipe-run-associated-experiment-v1x-xgboost-20220729055009-pipeline-run-1\n"
     ]
    },
    {
     "name": "stdout",
     "output_type": "stream",
     "text": [
      "To use this PipelineJob in another session:\n"
     ]
    },
    {
     "name": "stderr",
     "output_type": "stream",
     "text": [
      "INFO:google.cloud.aiplatform.pipeline_jobs:To use this PipelineJob in another session:\n"
     ]
    },
    {
     "name": "stdout",
     "output_type": "stream",
     "text": [
      "pipeline_job = aiplatform.PipelineJob.get('projects/934903580331/locations/us-central1/pipelineJobs/pipe-run-associated-experiment-v1x-xgboost-20220729055009-pipeline-run-1')\n"
     ]
    },
    {
     "name": "stderr",
     "output_type": "stream",
     "text": [
      "INFO:google.cloud.aiplatform.pipeline_jobs:pipeline_job = aiplatform.PipelineJob.get('projects/934903580331/locations/us-central1/pipelineJobs/pipe-run-associated-experiment-v1x-xgboost-20220729055009-pipeline-run-1')\n"
     ]
    },
    {
     "name": "stdout",
     "output_type": "stream",
     "text": [
      "View Pipeline Job:\n",
      "https://console.cloud.google.com/vertex-ai/locations/us-central1/pipelines/runs/pipe-run-associated-experiment-v1x-xgboost-20220729055009-pipeline-run-1?project=934903580331\n"
     ]
    },
    {
     "name": "stderr",
     "output_type": "stream",
     "text": [
      "INFO:google.cloud.aiplatform.pipeline_jobs:View Pipeline Job:\n",
      "https://console.cloud.google.com/vertex-ai/locations/us-central1/pipelines/runs/pipe-run-associated-experiment-v1x-xgboost-20220729055009-pipeline-run-1?project=934903580331\n"
     ]
    },
    {
     "name": "stdout",
     "output_type": "stream",
     "text": [
      "Associating projects/934903580331/locations/us-central1/pipelineJobs/pipe-run-associated-experiment-v1x-xgboost-20220729055009-pipeline-run-1 to Experiment: pipe-run-associated-experiment-v1x-xgboost-20220729055009\n"
     ]
    },
    {
     "name": "stderr",
     "output_type": "stream",
     "text": [
      "INFO:google.cloud.aiplatform.metadata.experiment_resources:Associating projects/934903580331/locations/us-central1/pipelineJobs/pipe-run-associated-experiment-v1x-xgboost-20220729055009-pipeline-run-1 to Experiment: pipe-run-associated-experiment-v1x-xgboost-20220729055009\n"
     ]
    },
    {
     "name": "stdout",
     "output_type": "stream",
     "text": [
      "Creating PipelineJob\n"
     ]
    },
    {
     "name": "stderr",
     "output_type": "stream",
     "text": [
      "INFO:google.cloud.aiplatform.pipeline_jobs:Creating PipelineJob\n"
     ]
    },
    {
     "name": "stdout",
     "output_type": "stream",
     "text": [
      "PipelineJob created. Resource name: projects/934903580331/locations/us-central1/pipelineJobs/pipe-run-associated-experiment-v1x-xgboost-20220729055009-pipeline-run-2\n"
     ]
    },
    {
     "name": "stderr",
     "output_type": "stream",
     "text": [
      "INFO:google.cloud.aiplatform.pipeline_jobs:PipelineJob created. Resource name: projects/934903580331/locations/us-central1/pipelineJobs/pipe-run-associated-experiment-v1x-xgboost-20220729055009-pipeline-run-2\n"
     ]
    },
    {
     "name": "stdout",
     "output_type": "stream",
     "text": [
      "To use this PipelineJob in another session:\n"
     ]
    },
    {
     "name": "stderr",
     "output_type": "stream",
     "text": [
      "INFO:google.cloud.aiplatform.pipeline_jobs:To use this PipelineJob in another session:\n"
     ]
    },
    {
     "name": "stdout",
     "output_type": "stream",
     "text": [
      "pipeline_job = aiplatform.PipelineJob.get('projects/934903580331/locations/us-central1/pipelineJobs/pipe-run-associated-experiment-v1x-xgboost-20220729055009-pipeline-run-2')\n"
     ]
    },
    {
     "name": "stderr",
     "output_type": "stream",
     "text": [
      "INFO:google.cloud.aiplatform.pipeline_jobs:pipeline_job = aiplatform.PipelineJob.get('projects/934903580331/locations/us-central1/pipelineJobs/pipe-run-associated-experiment-v1x-xgboost-20220729055009-pipeline-run-2')\n"
     ]
    },
    {
     "name": "stdout",
     "output_type": "stream",
     "text": [
      "View Pipeline Job:\n",
      "https://console.cloud.google.com/vertex-ai/locations/us-central1/pipelines/runs/pipe-run-associated-experiment-v1x-xgboost-20220729055009-pipeline-run-2?project=934903580331\n"
     ]
    },
    {
     "name": "stderr",
     "output_type": "stream",
     "text": [
      "INFO:google.cloud.aiplatform.pipeline_jobs:View Pipeline Job:\n",
      "https://console.cloud.google.com/vertex-ai/locations/us-central1/pipelines/runs/pipe-run-associated-experiment-v1x-xgboost-20220729055009-pipeline-run-2?project=934903580331\n"
     ]
    },
    {
     "name": "stdout",
     "output_type": "stream",
     "text": [
      "Associating projects/934903580331/locations/us-central1/pipelineJobs/pipe-run-associated-experiment-v1x-xgboost-20220729055009-pipeline-run-2 to Experiment: pipe-run-associated-experiment-v1x-xgboost-20220729055009\n"
     ]
    },
    {
     "name": "stderr",
     "output_type": "stream",
     "text": [
      "INFO:google.cloud.aiplatform.metadata.experiment_resources:Associating projects/934903580331/locations/us-central1/pipelineJobs/pipe-run-associated-experiment-v1x-xgboost-20220729055009-pipeline-run-2 to Experiment: pipe-run-associated-experiment-v1x-xgboost-20220729055009\n"
     ]
    },
    {
     "name": "stdout",
     "output_type": "stream",
     "text": [
      "Creating PipelineJob\n"
     ]
    },
    {
     "name": "stderr",
     "output_type": "stream",
     "text": [
      "INFO:google.cloud.aiplatform.pipeline_jobs:Creating PipelineJob\n"
     ]
    },
    {
     "name": "stdout",
     "output_type": "stream",
     "text": [
      "PipelineJob created. Resource name: projects/934903580331/locations/us-central1/pipelineJobs/pipe-run-associated-experiment-v1x-xgboost-20220729055009-pipeline-run-3\n"
     ]
    },
    {
     "name": "stderr",
     "output_type": "stream",
     "text": [
      "INFO:google.cloud.aiplatform.pipeline_jobs:PipelineJob created. Resource name: projects/934903580331/locations/us-central1/pipelineJobs/pipe-run-associated-experiment-v1x-xgboost-20220729055009-pipeline-run-3\n"
     ]
    },
    {
     "name": "stdout",
     "output_type": "stream",
     "text": [
      "To use this PipelineJob in another session:\n"
     ]
    },
    {
     "name": "stderr",
     "output_type": "stream",
     "text": [
      "INFO:google.cloud.aiplatform.pipeline_jobs:To use this PipelineJob in another session:\n"
     ]
    },
    {
     "name": "stdout",
     "output_type": "stream",
     "text": [
      "pipeline_job = aiplatform.PipelineJob.get('projects/934903580331/locations/us-central1/pipelineJobs/pipe-run-associated-experiment-v1x-xgboost-20220729055009-pipeline-run-3')\n"
     ]
    },
    {
     "name": "stderr",
     "output_type": "stream",
     "text": [
      "INFO:google.cloud.aiplatform.pipeline_jobs:pipeline_job = aiplatform.PipelineJob.get('projects/934903580331/locations/us-central1/pipelineJobs/pipe-run-associated-experiment-v1x-xgboost-20220729055009-pipeline-run-3')\n"
     ]
    },
    {
     "name": "stdout",
     "output_type": "stream",
     "text": [
      "View Pipeline Job:\n",
      "https://console.cloud.google.com/vertex-ai/locations/us-central1/pipelines/runs/pipe-run-associated-experiment-v1x-xgboost-20220729055009-pipeline-run-3?project=934903580331\n"
     ]
    },
    {
     "name": "stderr",
     "output_type": "stream",
     "text": [
      "INFO:google.cloud.aiplatform.pipeline_jobs:View Pipeline Job:\n",
      "https://console.cloud.google.com/vertex-ai/locations/us-central1/pipelines/runs/pipe-run-associated-experiment-v1x-xgboost-20220729055009-pipeline-run-3?project=934903580331\n"
     ]
    },
    {
     "name": "stdout",
     "output_type": "stream",
     "text": [
      "Associating projects/934903580331/locations/us-central1/pipelineJobs/pipe-run-associated-experiment-v1x-xgboost-20220729055009-pipeline-run-3 to Experiment: pipe-run-associated-experiment-v1x-xgboost-20220729055009\n"
     ]
    },
    {
     "name": "stderr",
     "output_type": "stream",
     "text": [
      "INFO:google.cloud.aiplatform.metadata.experiment_resources:Associating projects/934903580331/locations/us-central1/pipelineJobs/pipe-run-associated-experiment-v1x-xgboost-20220729055009-pipeline-run-3 to Experiment: pipe-run-associated-experiment-v1x-xgboost-20220729055009\n"
     ]
    },
    {
     "name": "stdout",
     "output_type": "stream",
     "text": [
      "Creating PipelineJob\n"
     ]
    },
    {
     "name": "stderr",
     "output_type": "stream",
     "text": [
      "INFO:google.cloud.aiplatform.pipeline_jobs:Creating PipelineJob\n"
     ]
    },
    {
     "name": "stdout",
     "output_type": "stream",
     "text": [
      "PipelineJob created. Resource name: projects/934903580331/locations/us-central1/pipelineJobs/pipe-run-associated-experiment-v1x-xgboost-20220729055009-pipeline-run-4\n"
     ]
    },
    {
     "name": "stderr",
     "output_type": "stream",
     "text": [
      "INFO:google.cloud.aiplatform.pipeline_jobs:PipelineJob created. Resource name: projects/934903580331/locations/us-central1/pipelineJobs/pipe-run-associated-experiment-v1x-xgboost-20220729055009-pipeline-run-4\n"
     ]
    },
    {
     "name": "stdout",
     "output_type": "stream",
     "text": [
      "To use this PipelineJob in another session:\n"
     ]
    },
    {
     "name": "stderr",
     "output_type": "stream",
     "text": [
      "INFO:google.cloud.aiplatform.pipeline_jobs:To use this PipelineJob in another session:\n"
     ]
    },
    {
     "name": "stdout",
     "output_type": "stream",
     "text": [
      "pipeline_job = aiplatform.PipelineJob.get('projects/934903580331/locations/us-central1/pipelineJobs/pipe-run-associated-experiment-v1x-xgboost-20220729055009-pipeline-run-4')\n"
     ]
    },
    {
     "name": "stderr",
     "output_type": "stream",
     "text": [
      "INFO:google.cloud.aiplatform.pipeline_jobs:pipeline_job = aiplatform.PipelineJob.get('projects/934903580331/locations/us-central1/pipelineJobs/pipe-run-associated-experiment-v1x-xgboost-20220729055009-pipeline-run-4')\n"
     ]
    },
    {
     "name": "stdout",
     "output_type": "stream",
     "text": [
      "View Pipeline Job:\n",
      "https://console.cloud.google.com/vertex-ai/locations/us-central1/pipelines/runs/pipe-run-associated-experiment-v1x-xgboost-20220729055009-pipeline-run-4?project=934903580331\n"
     ]
    },
    {
     "name": "stderr",
     "output_type": "stream",
     "text": [
      "INFO:google.cloud.aiplatform.pipeline_jobs:View Pipeline Job:\n",
      "https://console.cloud.google.com/vertex-ai/locations/us-central1/pipelines/runs/pipe-run-associated-experiment-v1x-xgboost-20220729055009-pipeline-run-4?project=934903580331\n"
     ]
    },
    {
     "name": "stdout",
     "output_type": "stream",
     "text": [
      "Associating projects/934903580331/locations/us-central1/pipelineJobs/pipe-run-associated-experiment-v1x-xgboost-20220729055009-pipeline-run-4 to Experiment: pipe-run-associated-experiment-v1x-xgboost-20220729055009\n"
     ]
    },
    {
     "name": "stderr",
     "output_type": "stream",
     "text": [
      "INFO:google.cloud.aiplatform.metadata.experiment_resources:Associating projects/934903580331/locations/us-central1/pipelineJobs/pipe-run-associated-experiment-v1x-xgboost-20220729055009-pipeline-run-4 to Experiment: pipe-run-associated-experiment-v1x-xgboost-20220729055009\n"
     ]
    }
   ],
   "source": [
    "for i, run in enumerate(runs):\n",
    "\n",
    "    job = vertex_ai.PipelineJob(\n",
    "        display_name=f\"{EXPERIMENT_NAME}-pipeline-run-{i}\",\n",
    "        template_path=\"pipeline.json\",\n",
    "        pipeline_root=PIPELINE_URI,\n",
    "        job_id=f\"{EXPERIMENT_NAME}-pipeline-run-{i}\",\n",
    "        enable_caching=False,\n",
    "        parameter_values={\n",
    "            \"train_uri\": TRAIN_URI,\n",
    "            \"label_uri\": LABEL_URI,\n",
    "            \"model_uri\": MODEL_URI,\n",
    "            **run,\n",
    "        },\n",
    "    )\n",
    "    job.submit(experiment=EXPERIMENT_NAME)"
   ]
  },
  {
   "cell_type": "markdown",
   "metadata": {
    "id": "O8TV4q535c2M"
   },
   "source": [
    "### Check Pipeline run states\n",
    "\n",
    "Vertex AI SDK provides you `get_experiment_df` method to monitor the status of pipeline runs. You can use it either to return parameters and metrics of the Pipeline Runs in the Vertex AI Experiment or in combination with `get` method of `PipelineJob` to return the pipeline job in Vertex AI Pipeline.\n"
   ]
  },
  {
   "cell_type": "code",
   "execution_count": 37,
   "metadata": {
    "id": "dlCEJKfH5xR7"
   },
   "outputs": [
    {
     "data": {
      "text/html": [
       "<div>\n",
       "<style scoped>\n",
       "    .dataframe tbody tr th:only-of-type {\n",
       "        vertical-align: middle;\n",
       "    }\n",
       "\n",
       "    .dataframe tbody tr th {\n",
       "        vertical-align: top;\n",
       "    }\n",
       "\n",
       "    .dataframe thead th {\n",
       "        text-align: right;\n",
       "    }\n",
       "</style>\n",
       "<table border=\"1\" class=\"dataframe\">\n",
       "  <thead>\n",
       "    <tr style=\"text-align: right;\">\n",
       "      <th></th>\n",
       "      <th>experiment_name</th>\n",
       "      <th>run_name</th>\n",
       "      <th>run_type</th>\n",
       "      <th>state</th>\n",
       "      <th>param.boost_rounds</th>\n",
       "      <th>param.model_uri</th>\n",
       "      <th>param.max_depth</th>\n",
       "      <th>param.label_uri</th>\n",
       "      <th>param.learning_rate</th>\n",
       "      <th>param.train_uri</th>\n",
       "      <th>metric.accurancy</th>\n",
       "    </tr>\n",
       "  </thead>\n",
       "  <tbody>\n",
       "    <tr>\n",
       "      <th>0</th>\n",
       "      <td>pipe-run-associated-experiment-v1x-xgboost-202...</td>\n",
       "      <td>pipe-run-associated-experiment-v1x-xgboost-202...</td>\n",
       "      <td>system.PipelineRun</td>\n",
       "      <td>RUNNING</td>\n",
       "      <td>30</td>\n",
       "      <td>gs://test-us-central/model</td>\n",
       "      <td>5</td>\n",
       "      <td>gs://test-us-central/iris/iris_target.csv</td>\n",
       "      <td>0.4</td>\n",
       "      <td>gs://test-us-central/iris/iris_data.csv</td>\n",
       "      <td>NaN</td>\n",
       "    </tr>\n",
       "    <tr>\n",
       "      <th>1</th>\n",
       "      <td>pipe-run-associated-experiment-v1x-xgboost-202...</td>\n",
       "      <td>pipe-run-associated-experiment-v1x-xgboost-202...</td>\n",
       "      <td>system.PipelineRun</td>\n",
       "      <td>RUNNING</td>\n",
       "      <td>40</td>\n",
       "      <td>gs://test-us-central/model</td>\n",
       "      <td>6</td>\n",
       "      <td>gs://test-us-central/iris/iris_target.csv</td>\n",
       "      <td>0.5</td>\n",
       "      <td>gs://test-us-central/iris/iris_data.csv</td>\n",
       "      <td>NaN</td>\n",
       "    </tr>\n",
       "    <tr>\n",
       "      <th>2</th>\n",
       "      <td>pipe-run-associated-experiment-v1x-xgboost-202...</td>\n",
       "      <td>pipe-run-associated-experiment-v1x-xgboost-202...</td>\n",
       "      <td>system.PipelineRun</td>\n",
       "      <td>COMPLETE</td>\n",
       "      <td>30</td>\n",
       "      <td>gs://test-us-central/model</td>\n",
       "      <td>3</td>\n",
       "      <td>gs://test-us-central/iris/iris_target.csv</td>\n",
       "      <td>0.1</td>\n",
       "      <td>gs://test-us-central/iris/iris_data.csv</td>\n",
       "      <td>0.9</td>\n",
       "    </tr>\n",
       "    <tr>\n",
       "      <th>3</th>\n",
       "      <td>pipe-run-associated-experiment-v1x-xgboost-202...</td>\n",
       "      <td>pipe-run-associated-experiment-v1x-xgboost-202...</td>\n",
       "      <td>system.PipelineRun</td>\n",
       "      <td>RUNNING</td>\n",
       "      <td>20</td>\n",
       "      <td>gs://test-us-central/model</td>\n",
       "      <td>5</td>\n",
       "      <td>gs://test-us-central/iris/iris_target.csv</td>\n",
       "      <td>0.3</td>\n",
       "      <td>gs://test-us-central/iris/iris_data.csv</td>\n",
       "      <td>NaN</td>\n",
       "    </tr>\n",
       "    <tr>\n",
       "      <th>4</th>\n",
       "      <td>pipe-run-associated-experiment-v1x-xgboost-202...</td>\n",
       "      <td>pipe-run-associated-experiment-v1x-xgboost-202...</td>\n",
       "      <td>system.PipelineRun</td>\n",
       "      <td>RUNNING</td>\n",
       "      <td>10</td>\n",
       "      <td>gs://test-us-central/model</td>\n",
       "      <td>4</td>\n",
       "      <td>gs://test-us-central/iris/iris_target.csv</td>\n",
       "      <td>0.2</td>\n",
       "      <td>gs://test-us-central/iris/iris_data.csv</td>\n",
       "      <td>NaN</td>\n",
       "    </tr>\n",
       "  </tbody>\n",
       "</table>\n",
       "</div>"
      ],
      "text/plain": [
       "                                     experiment_name  \\\n",
       "0  pipe-run-associated-experiment-v1x-xgboost-202...   \n",
       "1  pipe-run-associated-experiment-v1x-xgboost-202...   \n",
       "2  pipe-run-associated-experiment-v1x-xgboost-202...   \n",
       "3  pipe-run-associated-experiment-v1x-xgboost-202...   \n",
       "4  pipe-run-associated-experiment-v1x-xgboost-202...   \n",
       "\n",
       "                                            run_name            run_type  \\\n",
       "0  pipe-run-associated-experiment-v1x-xgboost-202...  system.PipelineRun   \n",
       "1  pipe-run-associated-experiment-v1x-xgboost-202...  system.PipelineRun   \n",
       "2  pipe-run-associated-experiment-v1x-xgboost-202...  system.PipelineRun   \n",
       "3  pipe-run-associated-experiment-v1x-xgboost-202...  system.PipelineRun   \n",
       "4  pipe-run-associated-experiment-v1x-xgboost-202...  system.PipelineRun   \n",
       "\n",
       "      state param.boost_rounds             param.model_uri param.max_depth  \\\n",
       "0   RUNNING                 30  gs://test-us-central/model               5   \n",
       "1   RUNNING                 40  gs://test-us-central/model               6   \n",
       "2  COMPLETE                 30  gs://test-us-central/model               3   \n",
       "3   RUNNING                 20  gs://test-us-central/model               5   \n",
       "4   RUNNING                 10  gs://test-us-central/model               4   \n",
       "\n",
       "                             param.label_uri  param.learning_rate  \\\n",
       "0  gs://test-us-central/iris/iris_target.csv                  0.4   \n",
       "1  gs://test-us-central/iris/iris_target.csv                  0.5   \n",
       "2  gs://test-us-central/iris/iris_target.csv                  0.1   \n",
       "3  gs://test-us-central/iris/iris_target.csv                  0.3   \n",
       "4  gs://test-us-central/iris/iris_target.csv                  0.2   \n",
       "\n",
       "                           param.train_uri  metric.accurancy  \n",
       "0  gs://test-us-central/iris/iris_data.csv               NaN  \n",
       "1  gs://test-us-central/iris/iris_data.csv               NaN  \n",
       "2  gs://test-us-central/iris/iris_data.csv               0.9  \n",
       "3  gs://test-us-central/iris/iris_data.csv               NaN  \n",
       "4  gs://test-us-central/iris/iris_data.csv               NaN  "
      ]
     },
     "execution_count": 37,
     "metadata": {},
     "output_type": "execute_result"
    }
   ],
   "source": [
    "# see state of all pipelineJob\n",
    "vertex_ai.get_experiment_df(EXPERIMENT_NAME)"
   ]
  },
  {
   "cell_type": "code",
   "execution_count": 38,
   "metadata": {
    "id": "FA9W85vs7LLD"
   },
   "outputs": [
    {
     "name": "stdout",
     "output_type": "stream",
     "text": [
      "Pipeline experiment runs have completed\n"
     ]
    }
   ],
   "source": [
    "while True:\n",
    "    pipeline_experiments_df = vertex_ai.get_experiment_df(EXPERIMENT_NAME)\n",
    "    if all(\n",
    "        pipeline_state != \"COMPLETE\" for pipeline_state in pipeline_experiments_df.state\n",
    "    ):\n",
    "        print(\"Pipeline runs are still running...\")\n",
    "        if any(\n",
    "            pipeline_state == \"FAILED\"\n",
    "            for pipeline_state in pipeline_experiments_df.state\n",
    "        ):\n",
    "            print(\"At least one Pipeline run failed\")\n",
    "            break\n",
    "    else:\n",
    "        print(\"Pipeline experiment runs have completed\")\n",
    "        break\n",
    "    time.sleep(60)"
   ]
  },
  {
   "cell_type": "code",
   "execution_count": 39,
   "metadata": {
    "id": "ISsK9Msi-Kqs"
   },
   "outputs": [
    {
     "name": "stdout",
     "output_type": "stream",
     "text": [
      "projects/934903580331/locations/us-central1/pipelineJobs/pipe-run-associated-experiment-v1x-xgboost-20220729055009-pipeline-run-4\n",
      "https://console.cloud.google.com/vertex-ai/locations/us-central1/pipelines/runs/pipe-run-associated-experiment-v1x-xgboost-20220729055009-pipeline-run-4?project=934903580331\n"
     ]
    }
   ],
   "source": [
    "# Get the PipelineJob resource using the experiment run name\n",
    "pipeline_experiments_df = vertex_ai.get_experiment_df(EXPERIMENT_NAME)\n",
    "job = vertex_ai.PipelineJob.get(pipeline_experiments_df.run_name[0])\n",
    "print(job.resource_name)\n",
    "print(job._dashboard_uri())"
   ]
  },
  {
   "cell_type": "markdown",
   "metadata": {},
   "source": [
    "# (2) Manually log Experiment metadata\n",
    "* explictly start / stop experiment runs\n",
    "* explicitly log params and metrics (as opposed to associating the pipeline run)"
   ]
  },
  {
   "cell_type": "code",
   "execution_count": 55,
   "metadata": {},
   "outputs": [
    {
     "name": "stdout",
     "output_type": "stream",
     "text": [
      "EXPERIMENT_NAME: explicit-logging-v1-xgboost-20220729065531\n"
     ]
    }
   ],
   "source": [
    "TIMESTAMP = datetime.now().strftime(\"%Y%m%d%H%M%S\")\n",
    "VERSION = 'v1'\n",
    "\n",
    "# Experiments\n",
    "TASK = \"explicit-logging\"\n",
    "MODEL_TYPE = \"xgboost\"\n",
    "EXPERIMENT_NAME = f\"{TASK}-{VERSION}-{MODEL_TYPE}-{TIMESTAMP}\"\n",
    "\n",
    "# Pipeline\n",
    "PIPELINE_URI = f\"{BUCKET_URI}/pipelines\"\n",
    "TRAIN_URI = f\"{BUCKET_URI}/iris/iris_data.csv\"\n",
    "LABEL_URI = f\"{BUCKET_URI}/iris/iris_target.csv\"\n",
    "MODEL_URI = f\"{BUCKET_URI}/model\"\n",
    "\n",
    "print(f\"EXPERIMENT_NAME: {EXPERIMENT_NAME}\")"
   ]
  },
  {
   "cell_type": "markdown",
   "metadata": {},
   "source": [
    "#### See new code under `Variables`, `Experiments`, and `Experiment Run`"
   ]
  },
  {
   "cell_type": "code",
   "execution_count": 56,
   "metadata": {},
   "outputs": [],
   "source": [
    "@component(\n",
    "    packages_to_install=[\n",
    "        \"numpy==1.18.5\",\n",
    "        \"pandas==1.0.4\",\n",
    "        \"scikit-learn==0.23.1\",\n",
    "        \"xgboost==1.1.1\",\n",
    "        \"google-cloud-aiplatform\",\n",
    "    ]\n",
    ")\n",
    "def custom_trainer(\n",
    "    project: str,\n",
    "    location: str,\n",
    "    staging_bucket: str,\n",
    "    train_uri: str,\n",
    "    label_uri: str,\n",
    "    max_depth: int,\n",
    "    learning_rate: float,\n",
    "    epochs: int,\n",
    "    batch_size: int,\n",
    "    boost_rounds: int,\n",
    "    model_uri: str,\n",
    "    experiment_name: str,\n",
    "    experiment_run: str,\n",
    "    pipeline_name: str,\n",
    "    metrics: Output[Metrics],\n",
    "    model_metadata: Output[Model],\n",
    "):\n",
    "\n",
    "    # import libraries\n",
    "    import logging\n",
    "    import uuid\n",
    "    from pathlib import Path as path\n",
    "\n",
    "    import pandas as pd\n",
    "    import xgboost as xgb\n",
    "    from sklearn.metrics import accuracy_score\n",
    "    from sklearn.model_selection import train_test_split\n",
    "    import google.cloud.aiplatform as vertex_ai\n",
    "    \n",
    "    vertex_ai.init(project=project, location=location, staging_bucket=staging_bucket) # TODO\n",
    "\n",
    "    # ====================================================\n",
    "    # variables\n",
    "    # ====================================================\n",
    "    gs_prefix = \"gs://\"\n",
    "    gcsfuse_prefix = \"/gcs/\"\n",
    "    train_path = train_uri.replace(gs_prefix, gcsfuse_prefix)\n",
    "    label_path = label_uri.replace(gs_prefix, gcsfuse_prefix)\n",
    "    model_path = model_uri.replace(gs_prefix, gcsfuse_prefix)\n",
    "    \n",
    "    metaparams = {}\n",
    "    metaparams[\"train_uri\"] = train_uri\n",
    "    metaparams[\"label_uri\"] = label_uri\n",
    "    metaparams[\"model_uri\"] = model_uri\n",
    "    metaparams[\"experiment_name\"] = experiment_name\n",
    "    metaparams[\"experiment_run\"] = experiment_run\n",
    "    \n",
    "    hyperparams = {}\n",
    "    hyperparams[\"epochs\"] = epochs\n",
    "    hyperparams[\"batch_size\"] = batch_size\n",
    "    hyperparams[\"learning_rate\"] = learning_rate\n",
    "    hyperparams[\"max_depth\"] = max_depth\n",
    "    hyperparams[\"boost_rounds\"] = boost_rounds\n",
    "    \n",
    "    # ====================================================\n",
    "    # Experiments\n",
    "    # ====================================================\n",
    "    \n",
    "    EXPERIMENT_NAME = f\"{experiment_name}\"\n",
    "    RUN_NAME = f\"{experiment_run}\"\n",
    "    \n",
    "    logging.info(f\"Creating run: {RUN_NAME}; for experiment: {EXPERIMENT_NAME}\")\n",
    "    \n",
    "    # Create experiment\n",
    "    vertex_ai.init(experiment=EXPERIMENT_NAME)\n",
    "    # vertex_ai.start_run(RUN_NAME,resume=True) # RUN_NAME\n",
    "    \n",
    "    with vertex_ai.start_run(RUN_NAME) as my_run:\n",
    "        logging.info(f\"logging metaparams\")\n",
    "        my_run.log_params(metaparams)\n",
    "        \n",
    "        logging.info(f\"logging hyperparams\")\n",
    "        my_run.log_params(hyperparams)\n",
    "    \n",
    "    # ====================================================\n",
    "\n",
    "    def get_logger():\n",
    "        \"\"\"\n",
    "        Get the logger\n",
    "        \"\"\"\n",
    "        logger = logging.getLogger(__name__)\n",
    "        logger.setLevel(logging.INFO)\n",
    "        handler = logging.StreamHandler()\n",
    "        handler.setFormatter(\n",
    "            logging.Formatter(\"%(asctime)s - %(name)s - %(levelname)s - %(message)s\")\n",
    "        )\n",
    "        logger.addHandler(handler)\n",
    "        return logger\n",
    "\n",
    "    def get_data(\n",
    "        train_path: str, label_path: str\n",
    "    ) -> (xgb.DMatrix, pd.DataFrame, pd.DataFrame):\n",
    "        \"\"\"\n",
    "        Get the data\n",
    "        Args:\n",
    "            train_path: the path of the train data\n",
    "            label_path: the path of the label data\n",
    "        Returns:\n",
    "            the train data and the label data\n",
    "        \"\"\"\n",
    "        # Load data into pandas, then use `.values` to get NumPy arrays\n",
    "        data = pd.read_csv(train_path).values\n",
    "        labels = pd.read_csv(label_path).values\n",
    "\n",
    "        # Convert one-column 2D array into 1D array for use with XGBoost\n",
    "        labels = labels.reshape((labels.size,))\n",
    "        train_data, test_data, train_labels, test_labels = train_test_split(\n",
    "            data, labels, test_size=0.2, random_state=7\n",
    "        )\n",
    "\n",
    "        # Load data into DMatrix object\n",
    "        dtrain = xgb.DMatrix(train_data, label=train_labels)\n",
    "        return dtrain, test_data, test_labels\n",
    "\n",
    "    def train_model(max_depth: int, eta: int, boost_rounds, dtrain: xgb.DMatrix):\n",
    "        \"\"\"\n",
    "        Train the model\n",
    "        Args:\n",
    "            max_depth: the max depth of the model\n",
    "            eta: the eta of the model\n",
    "            boost_rounds: the boost rounds of the model\n",
    "            dtrain: the train data\n",
    "        Returns:\n",
    "            the trained model\n",
    "        \"\"\"\n",
    "        # Train XGBoost model\n",
    "        param = {\"max_depth\": max_depth, \"eta\": eta}\n",
    "        model = xgb.train(param, dtrain, num_boost_round=boost_rounds)\n",
    "        return model\n",
    "\n",
    "    def evaluate_model(model, test_data, test_labels):\n",
    "        \"\"\"\n",
    "        Evaluate the model\n",
    "        Args:\n",
    "            model: the trained model\n",
    "            test_data: the test data\n",
    "            test_labels: the test labels\n",
    "        Returns:\n",
    "            the accuracy of the model\n",
    "        \"\"\"\n",
    "        dtest = xgb.DMatrix(test_data)\n",
    "        pred = model.predict(dtest)\n",
    "        predictions = [round(value) for value in pred]\n",
    "        # Evaluate predictions\n",
    "        accuracy = accuracy_score(test_labels, predictions)\n",
    "        return accuracy\n",
    "\n",
    "    def save_model(model, model_path):\n",
    "        \"\"\"\n",
    "        Save the model\n",
    "        Args:\n",
    "            model: the trained model\n",
    "            model_path: the path of the model\n",
    "        \"\"\"\n",
    "        model_id = str(uuid.uuid1())\n",
    "        model_path = f\"{model_path}/{model_id}/model.bst\"\n",
    "        path(model_path).parent.mkdir(parents=True, exist_ok=True)\n",
    "        model.save_model(model_path)\n",
    "\n",
    "    # Main ----------------------------------------------\n",
    "\n",
    "    dtrain, test_data, test_labels = get_data(train_path, label_path)\n",
    "    model = train_model(max_depth, learning_rate, boost_rounds, dtrain)\n",
    "    accuracy = evaluate_model(model, test_data, test_labels)\n",
    "    save_model(model, model_path)\n",
    "\n",
    "    # Metadata ------------------------------------------\n",
    "    logging.info(f\"logging metrics\")\n",
    "    metrics.log_metric(\"accuracy\", accuracy)\n",
    "    model_metadata.uri = model_uri\n",
    "    \n",
    "    # ====================================================\n",
    "    # Experiment Run\n",
    "    # ====================================================\n",
    "\n",
    "    with vertex_ai.start_run(RUN_NAME,resume=True) as my_run:\n",
    "        logging.info(f\"logging accuracy to experiment run {RUN_NAME}\")\n",
    "        my_run.log_metrics({\"accuracy\": accuracy})\n",
    "    \n",
    "    # logging.info(f\"Ending experiment run: {RUN_NAME}\")\n",
    "    # vertex_ai.end_run()"
   ]
  },
  {
   "cell_type": "code",
   "execution_count": 57,
   "metadata": {},
   "outputs": [],
   "source": [
    "@dsl.pipeline(name=f\"pipeline-run-{TASK}-{VERSION}\")\n",
    "def pipeline(\n",
    "    train_uri: str,\n",
    "    label_uri: str,\n",
    "    max_depth: int,\n",
    "    learning_rate: float,\n",
    "    boost_rounds: int,\n",
    "    model_uri: str,\n",
    "    experiment_name: str,\n",
    "    experiment_run: str,\n",
    "    epochs: int,\n",
    "    batch_size: int,\n",
    "    pipeline_name: str,\n",
    "    project: str,\n",
    "    location: str,\n",
    "    staging_bucket: str,\n",
    "):\n",
    "\n",
    "    custom_trainer(\n",
    "        project=project,\n",
    "        location=location,\n",
    "        staging_bucket=staging_bucket,\n",
    "        train_uri=train_uri, \n",
    "        label_uri=label_uri, \n",
    "        max_depth=max_depth, \n",
    "        learning_rate=learning_rate, \n",
    "        epochs=epochs, \n",
    "        pipeline_name=pipeline_name,\n",
    "        batch_size=batch_size, \n",
    "        boost_rounds=boost_rounds, \n",
    "        model_uri=model_uri, \n",
    "        experiment_name=experiment_name,\n",
    "        experiment_run=experiment_run,\n",
    "    )"
   ]
  },
  {
   "cell_type": "code",
   "execution_count": 59,
   "metadata": {},
   "outputs": [],
   "source": [
    "compiler.Compiler().compile(pipeline_func=pipeline, package_path=\"pipeline.json\")"
   ]
  },
  {
   "cell_type": "code",
   "execution_count": 60,
   "metadata": {},
   "outputs": [],
   "source": [
    "runs = [\n",
    "    {\"experiment_name\": f'{EXPERIMENT_NAME}', \"run_name\": 'run-1', \"max_depth\": 4, \"learning_rate\": 0.2, \"boost_rounds\": 10, \"epochs\": 10, \"batch_size\": 200},\n",
    "    {\"experiment_name\": f'{EXPERIMENT_NAME}', \"run_name\": 'run-2', \"max_depth\": 5, \"learning_rate\": 0.3, \"boost_rounds\": 20, \"epochs\": 12, \"batch_size\": 250},\n",
    "    {\"experiment_name\": f'{EXPERIMENT_NAME}', \"run_name\": 'run-3', \"max_depth\": 3, \"learning_rate\": 0.1, \"boost_rounds\": 30, \"epochs\": 14, \"batch_size\": 300},\n",
    "    {\"experiment_name\": f'{EXPERIMENT_NAME}', \"run_name\": 'run-4', \"max_depth\": 6, \"learning_rate\": 0.5, \"boost_rounds\": 40, \"epochs\": 16, \"batch_size\": 350},\n",
    "    {\"experiment_name\": f'{EXPERIMENT_NAME}', \"run_name\": 'run-5', \"max_depth\": 5, \"learning_rate\": 0.4, \"boost_rounds\": 30, \"epochs\": 18, \"batch_size\": 400},\n",
    "]"
   ]
  },
  {
   "cell_type": "code",
   "execution_count": 61,
   "metadata": {},
   "outputs": [
    {
     "name": "stdout",
     "output_type": "stream",
     "text": [
      "Creating PipelineJob\n"
     ]
    },
    {
     "name": "stderr",
     "output_type": "stream",
     "text": [
      "INFO:google.cloud.aiplatform.pipeline_jobs:Creating PipelineJob\n"
     ]
    },
    {
     "name": "stdout",
     "output_type": "stream",
     "text": [
      "PipelineJob created. Resource name: projects/934903580331/locations/us-central1/pipelineJobs/explicit-logging-v1-xgboost-20220729065531-pipeline-run-0\n"
     ]
    },
    {
     "name": "stderr",
     "output_type": "stream",
     "text": [
      "INFO:google.cloud.aiplatform.pipeline_jobs:PipelineJob created. Resource name: projects/934903580331/locations/us-central1/pipelineJobs/explicit-logging-v1-xgboost-20220729065531-pipeline-run-0\n"
     ]
    },
    {
     "name": "stdout",
     "output_type": "stream",
     "text": [
      "To use this PipelineJob in another session:\n"
     ]
    },
    {
     "name": "stderr",
     "output_type": "stream",
     "text": [
      "INFO:google.cloud.aiplatform.pipeline_jobs:To use this PipelineJob in another session:\n"
     ]
    },
    {
     "name": "stdout",
     "output_type": "stream",
     "text": [
      "pipeline_job = aiplatform.PipelineJob.get('projects/934903580331/locations/us-central1/pipelineJobs/explicit-logging-v1-xgboost-20220729065531-pipeline-run-0')\n"
     ]
    },
    {
     "name": "stderr",
     "output_type": "stream",
     "text": [
      "INFO:google.cloud.aiplatform.pipeline_jobs:pipeline_job = aiplatform.PipelineJob.get('projects/934903580331/locations/us-central1/pipelineJobs/explicit-logging-v1-xgboost-20220729065531-pipeline-run-0')\n"
     ]
    },
    {
     "name": "stdout",
     "output_type": "stream",
     "text": [
      "View Pipeline Job:\n",
      "https://console.cloud.google.com/vertex-ai/locations/us-central1/pipelines/runs/explicit-logging-v1-xgboost-20220729065531-pipeline-run-0?project=934903580331\n"
     ]
    },
    {
     "name": "stderr",
     "output_type": "stream",
     "text": [
      "INFO:google.cloud.aiplatform.pipeline_jobs:View Pipeline Job:\n",
      "https://console.cloud.google.com/vertex-ai/locations/us-central1/pipelines/runs/explicit-logging-v1-xgboost-20220729065531-pipeline-run-0?project=934903580331\n"
     ]
    },
    {
     "name": "stdout",
     "output_type": "stream",
     "text": [
      "Creating PipelineJob\n"
     ]
    },
    {
     "name": "stderr",
     "output_type": "stream",
     "text": [
      "INFO:google.cloud.aiplatform.pipeline_jobs:Creating PipelineJob\n"
     ]
    },
    {
     "name": "stdout",
     "output_type": "stream",
     "text": [
      "PipelineJob created. Resource name: projects/934903580331/locations/us-central1/pipelineJobs/explicit-logging-v1-xgboost-20220729065531-pipeline-run-1\n"
     ]
    },
    {
     "name": "stderr",
     "output_type": "stream",
     "text": [
      "INFO:google.cloud.aiplatform.pipeline_jobs:PipelineJob created. Resource name: projects/934903580331/locations/us-central1/pipelineJobs/explicit-logging-v1-xgboost-20220729065531-pipeline-run-1\n"
     ]
    },
    {
     "name": "stdout",
     "output_type": "stream",
     "text": [
      "To use this PipelineJob in another session:\n"
     ]
    },
    {
     "name": "stderr",
     "output_type": "stream",
     "text": [
      "INFO:google.cloud.aiplatform.pipeline_jobs:To use this PipelineJob in another session:\n"
     ]
    },
    {
     "name": "stdout",
     "output_type": "stream",
     "text": [
      "pipeline_job = aiplatform.PipelineJob.get('projects/934903580331/locations/us-central1/pipelineJobs/explicit-logging-v1-xgboost-20220729065531-pipeline-run-1')\n"
     ]
    },
    {
     "name": "stderr",
     "output_type": "stream",
     "text": [
      "INFO:google.cloud.aiplatform.pipeline_jobs:pipeline_job = aiplatform.PipelineJob.get('projects/934903580331/locations/us-central1/pipelineJobs/explicit-logging-v1-xgboost-20220729065531-pipeline-run-1')\n"
     ]
    },
    {
     "name": "stdout",
     "output_type": "stream",
     "text": [
      "View Pipeline Job:\n",
      "https://console.cloud.google.com/vertex-ai/locations/us-central1/pipelines/runs/explicit-logging-v1-xgboost-20220729065531-pipeline-run-1?project=934903580331\n"
     ]
    },
    {
     "name": "stderr",
     "output_type": "stream",
     "text": [
      "INFO:google.cloud.aiplatform.pipeline_jobs:View Pipeline Job:\n",
      "https://console.cloud.google.com/vertex-ai/locations/us-central1/pipelines/runs/explicit-logging-v1-xgboost-20220729065531-pipeline-run-1?project=934903580331\n"
     ]
    },
    {
     "name": "stdout",
     "output_type": "stream",
     "text": [
      "Creating PipelineJob\n"
     ]
    },
    {
     "name": "stderr",
     "output_type": "stream",
     "text": [
      "INFO:google.cloud.aiplatform.pipeline_jobs:Creating PipelineJob\n"
     ]
    },
    {
     "name": "stdout",
     "output_type": "stream",
     "text": [
      "PipelineJob created. Resource name: projects/934903580331/locations/us-central1/pipelineJobs/explicit-logging-v1-xgboost-20220729065531-pipeline-run-2\n"
     ]
    },
    {
     "name": "stderr",
     "output_type": "stream",
     "text": [
      "INFO:google.cloud.aiplatform.pipeline_jobs:PipelineJob created. Resource name: projects/934903580331/locations/us-central1/pipelineJobs/explicit-logging-v1-xgboost-20220729065531-pipeline-run-2\n"
     ]
    },
    {
     "name": "stdout",
     "output_type": "stream",
     "text": [
      "To use this PipelineJob in another session:\n"
     ]
    },
    {
     "name": "stderr",
     "output_type": "stream",
     "text": [
      "INFO:google.cloud.aiplatform.pipeline_jobs:To use this PipelineJob in another session:\n"
     ]
    },
    {
     "name": "stdout",
     "output_type": "stream",
     "text": [
      "pipeline_job = aiplatform.PipelineJob.get('projects/934903580331/locations/us-central1/pipelineJobs/explicit-logging-v1-xgboost-20220729065531-pipeline-run-2')\n"
     ]
    },
    {
     "name": "stderr",
     "output_type": "stream",
     "text": [
      "INFO:google.cloud.aiplatform.pipeline_jobs:pipeline_job = aiplatform.PipelineJob.get('projects/934903580331/locations/us-central1/pipelineJobs/explicit-logging-v1-xgboost-20220729065531-pipeline-run-2')\n"
     ]
    },
    {
     "name": "stdout",
     "output_type": "stream",
     "text": [
      "View Pipeline Job:\n",
      "https://console.cloud.google.com/vertex-ai/locations/us-central1/pipelines/runs/explicit-logging-v1-xgboost-20220729065531-pipeline-run-2?project=934903580331\n"
     ]
    },
    {
     "name": "stderr",
     "output_type": "stream",
     "text": [
      "INFO:google.cloud.aiplatform.pipeline_jobs:View Pipeline Job:\n",
      "https://console.cloud.google.com/vertex-ai/locations/us-central1/pipelines/runs/explicit-logging-v1-xgboost-20220729065531-pipeline-run-2?project=934903580331\n"
     ]
    },
    {
     "name": "stdout",
     "output_type": "stream",
     "text": [
      "Creating PipelineJob\n"
     ]
    },
    {
     "name": "stderr",
     "output_type": "stream",
     "text": [
      "INFO:google.cloud.aiplatform.pipeline_jobs:Creating PipelineJob\n"
     ]
    },
    {
     "name": "stdout",
     "output_type": "stream",
     "text": [
      "PipelineJob created. Resource name: projects/934903580331/locations/us-central1/pipelineJobs/explicit-logging-v1-xgboost-20220729065531-pipeline-run-3\n"
     ]
    },
    {
     "name": "stderr",
     "output_type": "stream",
     "text": [
      "INFO:google.cloud.aiplatform.pipeline_jobs:PipelineJob created. Resource name: projects/934903580331/locations/us-central1/pipelineJobs/explicit-logging-v1-xgboost-20220729065531-pipeline-run-3\n"
     ]
    },
    {
     "name": "stdout",
     "output_type": "stream",
     "text": [
      "To use this PipelineJob in another session:\n"
     ]
    },
    {
     "name": "stderr",
     "output_type": "stream",
     "text": [
      "INFO:google.cloud.aiplatform.pipeline_jobs:To use this PipelineJob in another session:\n"
     ]
    },
    {
     "name": "stdout",
     "output_type": "stream",
     "text": [
      "pipeline_job = aiplatform.PipelineJob.get('projects/934903580331/locations/us-central1/pipelineJobs/explicit-logging-v1-xgboost-20220729065531-pipeline-run-3')\n"
     ]
    },
    {
     "name": "stderr",
     "output_type": "stream",
     "text": [
      "INFO:google.cloud.aiplatform.pipeline_jobs:pipeline_job = aiplatform.PipelineJob.get('projects/934903580331/locations/us-central1/pipelineJobs/explicit-logging-v1-xgboost-20220729065531-pipeline-run-3')\n"
     ]
    },
    {
     "name": "stdout",
     "output_type": "stream",
     "text": [
      "View Pipeline Job:\n",
      "https://console.cloud.google.com/vertex-ai/locations/us-central1/pipelines/runs/explicit-logging-v1-xgboost-20220729065531-pipeline-run-3?project=934903580331\n"
     ]
    },
    {
     "name": "stderr",
     "output_type": "stream",
     "text": [
      "INFO:google.cloud.aiplatform.pipeline_jobs:View Pipeline Job:\n",
      "https://console.cloud.google.com/vertex-ai/locations/us-central1/pipelines/runs/explicit-logging-v1-xgboost-20220729065531-pipeline-run-3?project=934903580331\n"
     ]
    },
    {
     "name": "stdout",
     "output_type": "stream",
     "text": [
      "Creating PipelineJob\n"
     ]
    },
    {
     "name": "stderr",
     "output_type": "stream",
     "text": [
      "INFO:google.cloud.aiplatform.pipeline_jobs:Creating PipelineJob\n"
     ]
    },
    {
     "name": "stdout",
     "output_type": "stream",
     "text": [
      "PipelineJob created. Resource name: projects/934903580331/locations/us-central1/pipelineJobs/explicit-logging-v1-xgboost-20220729065531-pipeline-run-4\n"
     ]
    },
    {
     "name": "stderr",
     "output_type": "stream",
     "text": [
      "INFO:google.cloud.aiplatform.pipeline_jobs:PipelineJob created. Resource name: projects/934903580331/locations/us-central1/pipelineJobs/explicit-logging-v1-xgboost-20220729065531-pipeline-run-4\n"
     ]
    },
    {
     "name": "stdout",
     "output_type": "stream",
     "text": [
      "To use this PipelineJob in another session:\n"
     ]
    },
    {
     "name": "stderr",
     "output_type": "stream",
     "text": [
      "INFO:google.cloud.aiplatform.pipeline_jobs:To use this PipelineJob in another session:\n"
     ]
    },
    {
     "name": "stdout",
     "output_type": "stream",
     "text": [
      "pipeline_job = aiplatform.PipelineJob.get('projects/934903580331/locations/us-central1/pipelineJobs/explicit-logging-v1-xgboost-20220729065531-pipeline-run-4')\n"
     ]
    },
    {
     "name": "stderr",
     "output_type": "stream",
     "text": [
      "INFO:google.cloud.aiplatform.pipeline_jobs:pipeline_job = aiplatform.PipelineJob.get('projects/934903580331/locations/us-central1/pipelineJobs/explicit-logging-v1-xgboost-20220729065531-pipeline-run-4')\n"
     ]
    },
    {
     "name": "stdout",
     "output_type": "stream",
     "text": [
      "View Pipeline Job:\n",
      "https://console.cloud.google.com/vertex-ai/locations/us-central1/pipelines/runs/explicit-logging-v1-xgboost-20220729065531-pipeline-run-4?project=934903580331\n"
     ]
    },
    {
     "name": "stderr",
     "output_type": "stream",
     "text": [
      "INFO:google.cloud.aiplatform.pipeline_jobs:View Pipeline Job:\n",
      "https://console.cloud.google.com/vertex-ai/locations/us-central1/pipelines/runs/explicit-logging-v1-xgboost-20220729065531-pipeline-run-4?project=934903580331\n"
     ]
    }
   ],
   "source": [
    "import google.cloud.aiplatform as vertex_ai\n",
    "    \n",
    "for i, run in enumerate(runs):\n",
    "\n",
    "    job = vertex_ai.PipelineJob(\n",
    "        display_name=f\"{EXPERIMENT_NAME}-pipeline-run-{i}\",\n",
    "        template_path=\"pipeline.json\",\n",
    "        pipeline_root=f'{PIPELINE_URI}',\n",
    "        job_id=f\"{EXPERIMENT_NAME}-pipeline-run-{i}\",\n",
    "        enable_caching=False,\n",
    "        parameter_values={\n",
    "            'project': PROJECT_ID,\n",
    "            'location': REGION,\n",
    "            'staging_bucket': 'gs://test-us-central',\n",
    "            \"train_uri\": TRAIN_URI,\n",
    "            \"label_uri\": LABEL_URI,\n",
    "            \"model_uri\": MODEL_URI,\n",
    "            \"experiment_name\": run[\"experiment_name\"],\n",
    "            \"experiment_run\": run[\"run_name\"],\n",
    "            \"max_depth\": run[\"max_depth\"],\n",
    "            \"learning_rate\": run[\"learning_rate\"],\n",
    "            \"boost_rounds\": run[\"boost_rounds\"],\n",
    "            \"epochs\": run[\"epochs\"],\n",
    "            \"batch_size\": run[\"batch_size\"],\n",
    "            \"pipeline_name\": f\"{EXPERIMENT_NAME}-pipeline-run-{i}\",\n",
    "        },\n",
    "    )\n",
    "    # job.submit(experiment=EXPERIMENT_NAME)\n",
    "    job.submit()"
   ]
  },
  {
   "cell_type": "code",
   "execution_count": 62,
   "metadata": {},
   "outputs": [
    {
     "data": {
      "text/html": [
       "<div>\n",
       "<style scoped>\n",
       "    .dataframe tbody tr th:only-of-type {\n",
       "        vertical-align: middle;\n",
       "    }\n",
       "\n",
       "    .dataframe tbody tr th {\n",
       "        vertical-align: top;\n",
       "    }\n",
       "\n",
       "    .dataframe thead th {\n",
       "        text-align: right;\n",
       "    }\n",
       "</style>\n",
       "<table border=\"1\" class=\"dataframe\">\n",
       "  <thead>\n",
       "    <tr style=\"text-align: right;\">\n",
       "      <th></th>\n",
       "      <th>experiment_name</th>\n",
       "      <th>run_name</th>\n",
       "      <th>run_type</th>\n",
       "      <th>state</th>\n",
       "      <th>param.experiment_run</th>\n",
       "      <th>param.max_depth</th>\n",
       "      <th>param.train_uri</th>\n",
       "      <th>param.boost_rounds</th>\n",
       "      <th>param.learning_rate</th>\n",
       "      <th>param.epochs</th>\n",
       "      <th>param.model_uri</th>\n",
       "      <th>param.experiment_name</th>\n",
       "      <th>param.batch_size</th>\n",
       "      <th>param.label_uri</th>\n",
       "      <th>metric.accuracy</th>\n",
       "    </tr>\n",
       "  </thead>\n",
       "  <tbody>\n",
       "    <tr>\n",
       "      <th>0</th>\n",
       "      <td>explicit-logging-v1-xgboost-20220729065531</td>\n",
       "      <td>run-4</td>\n",
       "      <td>system.ExperimentRun</td>\n",
       "      <td>COMPLETE</td>\n",
       "      <td>run-4</td>\n",
       "      <td>6.0</td>\n",
       "      <td>gs://test-us-central/iris/iris_data.csv</td>\n",
       "      <td>40.0</td>\n",
       "      <td>0.5</td>\n",
       "      <td>16.0</td>\n",
       "      <td>gs://test-us-central/model</td>\n",
       "      <td>explicit-logging-v1-xgboost-20220729065531</td>\n",
       "      <td>350.0</td>\n",
       "      <td>gs://test-us-central/iris/iris_target.csv</td>\n",
       "      <td>0.9</td>\n",
       "    </tr>\n",
       "    <tr>\n",
       "      <th>1</th>\n",
       "      <td>explicit-logging-v1-xgboost-20220729065531</td>\n",
       "      <td>run-3</td>\n",
       "      <td>system.ExperimentRun</td>\n",
       "      <td>COMPLETE</td>\n",
       "      <td>run-3</td>\n",
       "      <td>3.0</td>\n",
       "      <td>gs://test-us-central/iris/iris_data.csv</td>\n",
       "      <td>30.0</td>\n",
       "      <td>0.1</td>\n",
       "      <td>14.0</td>\n",
       "      <td>gs://test-us-central/model</td>\n",
       "      <td>explicit-logging-v1-xgboost-20220729065531</td>\n",
       "      <td>300.0</td>\n",
       "      <td>gs://test-us-central/iris/iris_target.csv</td>\n",
       "      <td>0.9</td>\n",
       "    </tr>\n",
       "    <tr>\n",
       "      <th>2</th>\n",
       "      <td>explicit-logging-v1-xgboost-20220729065531</td>\n",
       "      <td>run-1</td>\n",
       "      <td>system.ExperimentRun</td>\n",
       "      <td>COMPLETE</td>\n",
       "      <td>run-1</td>\n",
       "      <td>4.0</td>\n",
       "      <td>gs://test-us-central/iris/iris_data.csv</td>\n",
       "      <td>10.0</td>\n",
       "      <td>0.2</td>\n",
       "      <td>10.0</td>\n",
       "      <td>gs://test-us-central/model</td>\n",
       "      <td>explicit-logging-v1-xgboost-20220729065531</td>\n",
       "      <td>200.0</td>\n",
       "      <td>gs://test-us-central/iris/iris_target.csv</td>\n",
       "      <td>0.9</td>\n",
       "    </tr>\n",
       "  </tbody>\n",
       "</table>\n",
       "</div>"
      ],
      "text/plain": [
       "                              experiment_name run_name              run_type  \\\n",
       "0  explicit-logging-v1-xgboost-20220729065531    run-4  system.ExperimentRun   \n",
       "1  explicit-logging-v1-xgboost-20220729065531    run-3  system.ExperimentRun   \n",
       "2  explicit-logging-v1-xgboost-20220729065531    run-1  system.ExperimentRun   \n",
       "\n",
       "      state param.experiment_run  param.max_depth  \\\n",
       "0  COMPLETE                run-4              6.0   \n",
       "1  COMPLETE                run-3              3.0   \n",
       "2  COMPLETE                run-1              4.0   \n",
       "\n",
       "                           param.train_uri  param.boost_rounds  \\\n",
       "0  gs://test-us-central/iris/iris_data.csv                40.0   \n",
       "1  gs://test-us-central/iris/iris_data.csv                30.0   \n",
       "2  gs://test-us-central/iris/iris_data.csv                10.0   \n",
       "\n",
       "   param.learning_rate  param.epochs             param.model_uri  \\\n",
       "0                  0.5          16.0  gs://test-us-central/model   \n",
       "1                  0.1          14.0  gs://test-us-central/model   \n",
       "2                  0.2          10.0  gs://test-us-central/model   \n",
       "\n",
       "                        param.experiment_name  param.batch_size  \\\n",
       "0  explicit-logging-v1-xgboost-20220729065531             350.0   \n",
       "1  explicit-logging-v1-xgboost-20220729065531             300.0   \n",
       "2  explicit-logging-v1-xgboost-20220729065531             200.0   \n",
       "\n",
       "                             param.label_uri  metric.accuracy  \n",
       "0  gs://test-us-central/iris/iris_target.csv              0.9  \n",
       "1  gs://test-us-central/iris/iris_target.csv              0.9  \n",
       "2  gs://test-us-central/iris/iris_target.csv              0.9  "
      ]
     },
     "execution_count": 62,
     "metadata": {},
     "output_type": "execute_result"
    }
   ],
   "source": [
    "# see state of all pipelineJob\n",
    "vertex_ai.get_experiment_df(EXPERIMENT_NAME)"
   ]
  },
  {
   "cell_type": "markdown",
   "metadata": {
    "id": "TpV-iwP9qw9c"
   },
   "source": [
    "## Cleaning up\n",
    "\n",
    "To clean up all Google Cloud resources used in this project, you can [delete the Google Cloud\n",
    "project](https://cloud.google.com/resource-manager/docs/creating-managing-projects#shutting_down_projects) you used for the tutorial.\n",
    "\n",
    "Otherwise, you can delete the individual resources you created in this tutorial"
   ]
  },
  {
   "cell_type": "code",
   "execution_count": null,
   "metadata": {
    "id": "6xbYQn5t5Noe"
   },
   "outputs": [],
   "source": [
    "# Delete the pipeline\n",
    "for i in range(0, len(runs)):\n",
    "    pipeline_job = vertex_ai.PipelineJob.get(pipeline_experiments_df.run_name[i])\n",
    "    pipeline_job.delete()"
   ]
  },
  {
   "cell_type": "code",
   "execution_count": null,
   "metadata": {
    "id": "eRC5iZOh_I8B"
   },
   "outputs": [],
   "source": [
    "# Delete experiment\n",
    "exp = vertex_ai.Experiment(EXPERIMENT_NAME)\n",
    "exp.delete()"
   ]
  },
  {
   "cell_type": "code",
   "execution_count": null,
   "metadata": {
    "id": "sx_vKniMq9ZX"
   },
   "outputs": [],
   "source": [
    "delete_bucket = False\n",
    "\n",
    "if delete_bucket or os.getenv(\"IS_TESTING\"):\n",
    "    ! gsutil rm -rf {BUCKET_URI}"
   ]
  }
 ],
 "metadata": {
  "colab": {
   "collapsed_sections": [],
   "name": "comparing_pipeline_runs.ipynb",
   "toc_visible": true
  },
  "environment": {
   "kernel": "python3",
   "name": "tf2-gpu.2-9.m94",
   "type": "gcloud",
   "uri": "gcr.io/deeplearning-platform-release/tf2-gpu.2-9:m94"
  },
  "kernelspec": {
   "display_name": "Python 3",
   "language": "python",
   "name": "python3"
  },
  "language_info": {
   "codemirror_mode": {
    "name": "ipython",
    "version": 3
   },
   "file_extension": ".py",
   "mimetype": "text/x-python",
   "name": "python",
   "nbconvert_exporter": "python",
   "pygments_lexer": "ipython3",
   "version": "3.7.12"
  }
 },
 "nbformat": 4,
 "nbformat_minor": 4
}
