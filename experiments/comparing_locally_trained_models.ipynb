{
 "cells": [
  {
   "cell_type": "code",
   "execution_count": null,
   "metadata": {
    "id": "ur8xi4C7S06n"
   },
   "outputs": [],
   "source": [
    "# Copyright 2022 Google LLC\n",
    "#\n",
    "# Licensed under the Apache License, Version 2.0 (the \"License\");\n",
    "# you may not use this file except in compliance with the License.\n",
    "# You may obtain a copy of the License at\n",
    "#\n",
    "#     https://www.apache.org/licenses/LICENSE-2.0\n",
    "#\n",
    "# Unless required by applicable law or agreed to in writing, software\n",
    "# distributed under the License is distributed on an \"AS IS\" BASIS,\n",
    "# WITHOUT WARRANTIES OR CONDITIONS OF ANY KIND, either express or implied.\n",
    "# See the License for the specific language governing permissions and\n",
    "# limitations under the License."
   ]
  },
  {
   "cell_type": "markdown",
   "metadata": {
    "tags": []
   },
   "source": [
    "# Notebook Setup"
   ]
  },
  {
   "cell_type": "markdown",
   "metadata": {
    "id": "JAPoU8Sm5E6e"
   },
   "source": [
    "<table align=\"left\">\n",
    "\n",
    "  <td>\n",
    "    <a href=\"https://colab.research.google.com/github/GoogleCloudPlatform/vertex-ai-samples/blob/main/notebooks/official/experiments/comparing_pipeline_runs.ipynb\">\n",
    "      <img src=\"https://cloud.google.com/ml-engine/images/colab-logo-32px.png\" alt=\"Colab logo\"> Run in Colab\n",
    "    </a>\n",
    "  </td>\n",
    "  <td>\n",
    "    <a href=\"https://github.com/GoogleCloudPlatform/vertex-ai-samples/blob/main/notebooks/official/experiments/comparing_pipeline_runs.ipynb\">\n",
    "      <img src=\"https://cloud.google.com/ml-engine/images/github-logo-32px.png\" alt=\"GitHub logo\">\n",
    "      View on GitHub\n",
    "    </a>\n",
    "  </td>\n",
    "  <td>\n",
    "    <a href=\"https://console.cloud.google.com/vertex-ai/workbench/deploy-notebook?download_url=https://github.com/GoogleCloudPlatform/vertex-ai-samples/blob/main/notebooks/official/experiments/comparing_pipeline_runs.ipynb\">\n",
    "      <img src=\"https://lh3.googleusercontent.com/UiNooY4LUgW_oTvpsNhPpQzsstV5W8F7rYgxgGBD85cWJoLmrOzhVs_ksK_vgx40SHs7jCqkTkCk=e14-rj-sc0xffffff-h130-w32\" alt=\"Vertex AI logo\">\n",
    "      Open in Vertex AI Workbench\n",
    "    </a>\n",
    "  </td>                                                                                               \n",
    "</table>"
   ]
  },
  {
   "cell_type": "markdown",
   "metadata": {
    "id": "tvgnzT1CKxrO"
   },
   "source": [
    "## Overview\n",
    "\n",
    "As a Data Scientist, you probably start running model experiments locally on your notebook. Depending on the framework you use, you would need to track parameters, training time series and evaluation metrics. In this way, you would be able to explain the modelling approach you would choose.\n",
    "\n",
    "### Dataset\n",
    "\n",
    "The dataset is the Tensorflow Dataset's Large Yelp Review Dataset. The Yelp reviews dataset consists of reviews from Yelp. For more information, please refer to [this](http://www.yelp.com/dataset) link.\n",
    "\n",
    "\n",
    "### Objective\n",
    "* log the model parameters\n",
    "* log the loss and metrics on every epoch to TensorBoard\n",
    "* log the evaluation metrics\n",
    "* compare two experiments\n"
   ]
  },
  {
   "cell_type": "markdown",
   "metadata": {
    "id": "i7EUnXsZhAGF"
   },
   "source": [
    "### Install additional packages\n",
    "\n",
    "Install additional package dependencies not installed in your notebook environment, such as Vertex AI SDK and KFP SDK. Use the latest major GA version of each package."
   ]
  },
  {
   "cell_type": "code",
   "execution_count": 1,
   "metadata": {
    "collapsed": true,
    "id": "2b4ef9b72d43",
    "jupyter": {
     "outputs_hidden": true
    },
    "tags": []
   },
   "outputs": [
    {
     "name": "stdout",
     "output_type": "stream",
     "text": [
      "\u001b[33m  WARNING: The scripts pyrsa-decrypt, pyrsa-encrypt, pyrsa-keygen, pyrsa-priv2pub, pyrsa-sign and pyrsa-verify are installed in '/home/jupyter/.local/bin' which is not on PATH.\n",
      "  Consider adding this directory to PATH or, if you prefer to suppress this warning, use --no-warn-script-location.\u001b[0m\u001b[33m\n",
      "\u001b[0m\u001b[33m  WARNING: The script normalizer is installed in '/home/jupyter/.local/bin' which is not on PATH.\n",
      "  Consider adding this directory to PATH or, if you prefer to suppress this warning, use --no-warn-script-location.\u001b[0m\u001b[33m\n",
      "\u001b[0m\u001b[33m  WARNING: The script tb-gcp-uploader is installed in '/home/jupyter/.local/bin' which is not on PATH.\n",
      "  Consider adding this directory to PATH or, if you prefer to suppress this warning, use --no-warn-script-location.\u001b[0m\u001b[33m\n",
      "\u001b[0m\u001b[31mERROR: pip's dependency resolver does not currently take into account all the packages that are installed. This behaviour is the source of the following dependency conflicts.\n",
      "tfx-bsl 1.9.0 requires google-api-python-client<2,>=1.7.11, but you have google-api-python-client 2.52.0 which is incompatible.\n",
      "tfx-bsl 1.9.0 requires pyarrow<6,>=1, but you have pyarrow 8.0.0 which is incompatible.\n",
      "tensorflow 2.9.0rc2 requires tensorboard<2.10,>=2.9, but you have tensorboard 2.8.0 which is incompatible.\n",
      "tensorflow-transform 1.9.0 requires pyarrow<6,>=1, but you have pyarrow 8.0.0 which is incompatible.\n",
      "tensorflow-serving-api 2.9.0 requires tensorflow<3,>=2.9.0, but you have tensorflow 2.9.0rc2 which is incompatible.\n",
      "google-cloud-recommendations-ai 0.2.0 requires google-api-core[grpc]<2.0.0dev,>=1.22.2, but you have google-api-core 2.8.2 which is incompatible.\n",
      "cloud-tpu-client 0.10 requires google-api-python-client==1.8.0, but you have google-api-python-client 2.52.0 which is incompatible.\n",
      "apache-beam 2.40.0 requires dill<0.3.2,>=0.3.1.1, but you have dill 0.3.5.1 which is incompatible.\n",
      "apache-beam 2.40.0 requires pyarrow<8.0.0,>=0.15.1, but you have pyarrow 8.0.0 which is incompatible.\u001b[0m\u001b[31m\n",
      "\u001b[0m\u001b[33m  WARNING: The script tabulate is installed in '/home/jupyter/.local/bin' which is not on PATH.\n",
      "  Consider adding this directory to PATH or, if you prefer to suppress this warning, use --no-warn-script-location.\u001b[0m\u001b[33m\n",
      "\u001b[0m\u001b[33m  WARNING: The script strip-hints is installed in '/home/jupyter/.local/bin' which is not on PATH.\n",
      "  Consider adding this directory to PATH or, if you prefer to suppress this warning, use --no-warn-script-location.\u001b[0m\u001b[33m\n",
      "\u001b[0m\u001b[33m  WARNING: The script jsonschema is installed in '/home/jupyter/.local/bin' which is not on PATH.\n",
      "  Consider adding this directory to PATH or, if you prefer to suppress this warning, use --no-warn-script-location.\u001b[0m\u001b[33m\n",
      "\u001b[0m\u001b[33m  WARNING: The scripts dsl-compile, dsl-compile-v2 and kfp are installed in '/home/jupyter/.local/bin' which is not on PATH.\n",
      "  Consider adding this directory to PATH or, if you prefer to suppress this warning, use --no-warn-script-location.\u001b[0m\u001b[33m\n",
      "\u001b[0m\u001b[31mERROR: pip's dependency resolver does not currently take into account all the packages that are installed. This behaviour is the source of the following dependency conflicts.\n",
      "tfx-bsl 1.9.0 requires pyarrow<6,>=1, but you have pyarrow 8.0.0 which is incompatible.\n",
      "tensorflow-transform 1.9.0 requires pyarrow<6,>=1, but you have pyarrow 8.0.0 which is incompatible.\n",
      "google-cloud-recommendations-ai 0.2.0 requires google-api-core[grpc]<2.0.0dev,>=1.22.2, but you have google-api-core 2.8.2 which is incompatible.\n",
      "cloud-tpu-client 0.10 requires google-api-python-client==1.8.0, but you have google-api-python-client 1.12.11 which is incompatible.\u001b[0m\u001b[31m\n",
      "\u001b[0m"
     ]
    }
   ],
   "source": [
    "import os\n",
    "\n",
    "# The Vertex AI Workbench Notebook product has specific requirements\n",
    "IS_WORKBENCH_NOTEBOOK = os.getenv(\"DL_ANACONDA_HOME\")\n",
    "IS_USER_MANAGED_WORKBENCH_NOTEBOOK = os.path.exists(\n",
    "    \"/opt/deeplearning/metadata/env_version\"\n",
    ")\n",
    "\n",
    "# Vertex AI Notebook requires dependencies to be installed with '--user'\n",
    "USER_FLAG = \"\"\n",
    "if IS_WORKBENCH_NOTEBOOK:\n",
    "    USER_FLAG = \"--user\"\n",
    "\n",
    "!pip3 install {USER_FLAG} --force-reinstall git+https://github.com/sasha-gitg/python-aiplatform@main -q\n",
    "!pip3 install {USER_FLAG} google-cloud-aiplatform[metadata] -q\n",
    "!pip3 install {USER_FLAG} kfp -q"
   ]
  },
  {
   "cell_type": "markdown",
   "metadata": {
    "id": "hhq5zEbGg0XX"
   },
   "source": [
    "### Restart the kernel\n",
    "\n",
    "After you install the additional packages, you need to restart the notebook kernel so it can find the packages."
   ]
  },
  {
   "cell_type": "code",
   "execution_count": 2,
   "metadata": {
    "id": "EzrelQZ22IZj"
   },
   "outputs": [],
   "source": [
    "# Automatically restart kernel after installs\n",
    "import os\n",
    "\n",
    "if not os.getenv(\"IS_TESTING\"):\n",
    "    # Automatically restart kernel after installs\n",
    "    import IPython\n",
    "\n",
    "    app = IPython.Application.instance()\n",
    "    app.kernel.do_shutdown(True)"
   ]
  },
  {
   "cell_type": "markdown",
   "metadata": {
    "id": "WReHDGG5g0XY"
   },
   "source": [
    "#### Set your project ID\n",
    "\n",
    "**If you don't know your project ID**, you may be able to get your project ID using `gcloud`."
   ]
  },
  {
   "cell_type": "code",
   "execution_count": 1,
   "metadata": {
    "id": "oM1iC_MfAts1"
   },
   "outputs": [
    {
     "name": "stdout",
     "output_type": "stream",
     "text": [
      "Project ID:  hybrid-vertex\n"
     ]
    }
   ],
   "source": [
    "import os\n",
    "\n",
    "PROJECT_ID = \"hybrid-vertex\" # TODO:\n",
    "REGION = \"us-central1\"   # TODO:\n",
    "\n",
    "from datetime import datetime\n",
    "\n",
    "TIMESTAMP = datetime.now().strftime(\"%Y%m%d%H%M%S\")"
   ]
  },
  {
   "cell_type": "code",
   "execution_count": 5,
   "metadata": {
    "id": "PyQmSRbKA8r-"
   },
   "outputs": [],
   "source": [
    "# If you are running this notebook in Colab, run this cell and follow the\n",
    "# instructions to authenticate your GCP account. This provides access to your\n",
    "# Cloud Storage bucket and lets you submit training jobs and prediction\n",
    "# requests.\n",
    "\n",
    "import os\n",
    "import sys\n",
    "\n",
    "# If on Vertex AI Workbench, then don't execute this code\n",
    "\n",
    "IS_COLAB = False\n",
    "\n",
    "if not os.path.exists(\"/opt/deeplearning/metadata/env_version\") and not os.getenv(\n",
    "    \"DL_ANACONDA_HOME\"\n",
    "):\n",
    "    if \"google.colab\" in sys.modules:\n",
    "\n",
    "        IS_COLAB = True\n",
    "\n",
    "        from google.colab import auth as google_auth\n",
    "\n",
    "        google_auth.authenticate_user()\n",
    "\n",
    "    # If you are running this notebook locally, replace the string below with the\n",
    "    # path to your service account key and run this cell to authenticate your GCP\n",
    "    # account.\n",
    "\n",
    "    elif not os.getenv(\"IS_TESTING\"):\n",
    "\n",
    "        %env GOOGLE_APPLICATION_CREDENTIALS ''"
   ]
  },
  {
   "cell_type": "code",
   "execution_count": 6,
   "metadata": {
    "id": "MzGDU7TWdts_"
   },
   "outputs": [],
   "source": [
    "BUCKET_NAME = \"test-us-central\"  # TODO:\n",
    "BUCKET_URI = f\"gs://{BUCKET_NAME}\""
   ]
  },
  {
   "cell_type": "markdown",
   "metadata": {
    "id": "-EcIXiGsCePi"
   },
   "source": [
    "**Only if your bucket doesn't already exist**: Run the following cell to create your Cloud Storage bucket."
   ]
  },
  {
   "cell_type": "code",
   "execution_count": null,
   "metadata": {
    "id": "NIq7R4HZCfIc"
   },
   "outputs": [],
   "source": [
    "# ! gsutil mb -l $REGION -p $PROJECT_ID $BUCKET_URI"
   ]
  },
  {
   "cell_type": "markdown",
   "metadata": {
    "id": "ucvCsknMCims"
   },
   "source": [
    "Finally, validate access to your Cloud Storage bucket by examining its contents:"
   ]
  },
  {
   "cell_type": "code",
   "execution_count": 7,
   "metadata": {
    "id": "vhOb7YnwClBb"
   },
   "outputs": [
    {
     "name": "stdout",
     "output_type": "stream",
     "text": [
      "                                 gs://test-us-central/tensorboard-logs/\n"
     ]
    }
   ],
   "source": [
    "! gsutil ls -al $BUCKET_URI"
   ]
  },
  {
   "cell_type": "markdown",
   "metadata": {
    "id": "fXUqOdIaLbjf"
   },
   "source": [
    "### Download training dataset\n"
   ]
  },
  {
   "cell_type": "code",
   "execution_count": 8,
   "metadata": {
    "id": "9fYX14c0LfmU"
   },
   "outputs": [],
   "source": [
    "DATASET_URI = \"gs://cloud-samples-data/ai-platform/iris\""
   ]
  },
  {
   "cell_type": "code",
   "execution_count": 9,
   "metadata": {
    "id": "z5WFzPetLl3Y"
   },
   "outputs": [
    {
     "name": "stdout",
     "output_type": "stream",
     "text": [
      "Copying gs://cloud-samples-data/ai-platform/iris/classification/evaluate.csv [Content-Type=text/csv]...\n",
      "Copying gs://cloud-samples-data/ai-platform/iris/classification/train.csv [Content-Type=text/csv]...\n",
      "Copying gs://cloud-samples-data/ai-platform/iris/iris_data.csv [Content-Type=application/octet-stream]...\n",
      "Copying gs://cloud-samples-data/ai-platform/iris/iris_predict.csv [Content-Type=text/csv]...\n",
      "- [4 files][  5.4 KiB/  5.4 KiB]                                                \n",
      "==> NOTE: You are performing a sequence of gsutil operations that may\n",
      "run significantly faster if you instead use gsutil -m cp ... Please\n",
      "see the -m section under \"gsutil help options\" for further information\n",
      "about when gsutil -m can be advantageous.\n",
      "\n",
      "Copying gs://cloud-samples-data/ai-platform/iris/iris_target.csv [Content-Type=application/octet-stream]...\n",
      "Copying gs://cloud-samples-data/ai-platform/iris/iris_test.csv [Content-Type=text/csv]...\n",
      "Copying gs://cloud-samples-data/ai-platform/iris/iris_training.csv [Content-Type=text/csv]...\n",
      "\\ [7 files][  8.4 KiB/  8.4 KiB]                                                \n",
      "Operation completed over 7 objects/8.4 KiB.                                      \n"
     ]
    }
   ],
   "source": [
    "!gsutil cp -r $DATASET_URI $BUCKET_URI"
   ]
  },
  {
   "cell_type": "markdown",
   "metadata": {
    "id": "XoEqT2Y4DJmf"
   },
   "source": [
    "### Import libraries and define constants"
   ]
  },
  {
   "cell_type": "code",
   "execution_count": 10,
   "metadata": {
    "id": "pRUOFELefqf1"
   },
   "outputs": [],
   "source": [
    "import logging\n",
    "# General\n",
    "import os\n",
    "import time\n",
    "\n",
    "logger = logging.getLogger(\"logger\")\n",
    "logging.basicConfig(level=logging.INFO)\n",
    "\n",
    "import kfp.v2.compiler as compiler\n",
    "\n",
    "# Pipeline Experiments\n",
    "import kfp.v2.dsl as dsl\n",
    "\n",
    "# Vertex AI\n",
    "from google.cloud import aiplatform as vertex_ai\n",
    "from kfp.v2.dsl import Metrics, Model, Output, component"
   ]
  },
  {
   "cell_type": "markdown",
   "metadata": {},
   "source": [
    "# Example 1 - Local "
   ]
  },
  {
   "cell_type": "markdown",
   "metadata": {},
   "source": [
    "**Create experiment for tracking training related metadata**\n",
    "* First, create an experiment using the `init()` method and then initialize a run within the `experiment` using `start_run()`.\n",
    "\n",
    "* `vertex_ai.init()` - Create an experiment instance\n",
    "* `vertex_ai.start_run()` - Track a specific run within the experiment"
   ]
  },
  {
   "cell_type": "code",
   "execution_count": 122,
   "metadata": {},
   "outputs": [
    {
     "name": "stdout",
     "output_type": "stream",
     "text": [
      "Associating projects/934903580331/locations/us-central1/metadataStores/default/contexts/test-experiment-name-run-1 to Experiment: test-experiment-name\n"
     ]
    },
    {
     "name": "stderr",
     "output_type": "stream",
     "text": [
      "INFO:google.cloud.aiplatform.metadata.experiment_resources:Associating projects/934903580331/locations/us-central1/metadataStores/default/contexts/test-experiment-name-run-1 to Experiment: test-experiment-name\n"
     ]
    },
    {
     "data": {
      "text/plain": [
       "<google.cloud.aiplatform.metadata.experiment_run_resource.ExperimentRun at 0x7f1b7e0aad10>"
      ]
     },
     "execution_count": 122,
     "metadata": {},
     "output_type": "execute_result"
    }
   ],
   "source": [
    "vertex_ai.init(project=PROJECT_ID, location=REGION, staging_bucket=BUCKET_URI)\n",
    "    \n",
    "    # Specify a name for the experiment\n",
    "EXPERIMENT_NAME = \"test-experiment-name\"\n",
    "\n",
    "# Create experiment\n",
    "vertex_ai.init(experiment=EXPERIMENT_NAME)\n",
    "\n",
    "vertex_ai.start_run(\"run-1\")"
   ]
  },
  {
   "cell_type": "markdown",
   "metadata": {},
   "source": [
    "### Log parameters for the experiment\n",
    "Typically, an experiment is associated with a specific dataset and a model architecture. Within an experiment, you may have multiple training runs, where each run tries a different configuration. For example:\n",
    "\n",
    "* Data feeding, such as:\n",
    "> * Dataset split\n",
    "> * Dataset sampling and boosting\n",
    "* Metaparameters, such as:\n",
    "> * Depth and width of layers\n",
    "* Hyperparameters, such as:\n",
    "> * batch size\n",
    "> * learning rate\n",
    "\n",
    "\n",
    "These configuration settings are referred to as parameters, which you store as key-value pairs using the method `log_params()`"
   ]
  },
  {
   "cell_type": "code",
   "execution_count": 123,
   "metadata": {},
   "outputs": [],
   "source": [
    "metaparams = {}\n",
    "metaparams[\"units\"] = 128\n",
    "vertex_ai.log_params(metaparams)\n",
    "\n",
    "hyperparams = {}\n",
    "hyperparams[\"epochs\"] = 100\n",
    "hyperparams[\"batch_size\"] = 32\n",
    "hyperparams[\"learning_rate\"] = 0.01\n",
    "vertex_ai.log_params(hyperparams)"
   ]
  },
  {
   "cell_type": "markdown",
   "metadata": {},
   "source": [
    "### Log metrics for the experiment\n",
    "At the completion or termination of a run within an experiment, you can log results that you use to compare runs. For example:\n",
    "\n",
    "* Evaluation metrics\n",
    "* Hyperparameter search selection\n",
    "* Time to train the model\n",
    "* Early stop trigger"
   ]
  },
  {
   "cell_type": "code",
   "execution_count": 124,
   "metadata": {},
   "outputs": [],
   "source": [
    "metrics = {}\n",
    "metrics[\"test_acc\"] = 98.7\n",
    "metrics[\"train_acc\"] = 99.3\n",
    "vertex_ai.log_metrics(metrics)"
   ]
  },
  {
   "cell_type": "code",
   "execution_count": 125,
   "metadata": {},
   "outputs": [
    {
     "data": {
      "text/html": [
       "<div>\n",
       "<style scoped>\n",
       "    .dataframe tbody tr th:only-of-type {\n",
       "        vertical-align: middle;\n",
       "    }\n",
       "\n",
       "    .dataframe tbody tr th {\n",
       "        vertical-align: top;\n",
       "    }\n",
       "\n",
       "    .dataframe thead th {\n",
       "        text-align: right;\n",
       "    }\n",
       "</style>\n",
       "<table border=\"1\" class=\"dataframe\">\n",
       "  <thead>\n",
       "    <tr style=\"text-align: right;\">\n",
       "      <th></th>\n",
       "      <th>0</th>\n",
       "    </tr>\n",
       "  </thead>\n",
       "  <tbody>\n",
       "    <tr>\n",
       "      <th>experiment_name</th>\n",
       "      <td>test-experiment-name</td>\n",
       "    </tr>\n",
       "    <tr>\n",
       "      <th>run_name</th>\n",
       "      <td>run-1</td>\n",
       "    </tr>\n",
       "    <tr>\n",
       "      <th>run_type</th>\n",
       "      <td>system.ExperimentRun</td>\n",
       "    </tr>\n",
       "    <tr>\n",
       "      <th>state</th>\n",
       "      <td>COMPLETE</td>\n",
       "    </tr>\n",
       "    <tr>\n",
       "      <th>param.epochs</th>\n",
       "      <td>100.0</td>\n",
       "    </tr>\n",
       "    <tr>\n",
       "      <th>param.batch_size</th>\n",
       "      <td>32.0</td>\n",
       "    </tr>\n",
       "    <tr>\n",
       "      <th>param.learning_rate</th>\n",
       "      <td>0.01</td>\n",
       "    </tr>\n",
       "    <tr>\n",
       "      <th>param.units</th>\n",
       "      <td>128.0</td>\n",
       "    </tr>\n",
       "    <tr>\n",
       "      <th>metric.test_acc</th>\n",
       "      <td>98.7</td>\n",
       "    </tr>\n",
       "    <tr>\n",
       "      <th>metric.train_acc</th>\n",
       "      <td>99.3</td>\n",
       "    </tr>\n",
       "  </tbody>\n",
       "</table>\n",
       "</div>"
      ],
      "text/plain": [
       "                                        0\n",
       "experiment_name      test-experiment-name\n",
       "run_name                            run-1\n",
       "run_type             system.ExperimentRun\n",
       "state                            COMPLETE\n",
       "param.epochs                        100.0\n",
       "param.batch_size                     32.0\n",
       "param.learning_rate                  0.01\n",
       "param.units                         128.0\n",
       "metric.test_acc                      98.7\n",
       "metric.train_acc                     99.3"
      ]
     },
     "execution_count": 125,
     "metadata": {},
     "output_type": "execute_result"
    }
   ],
   "source": [
    "vertex_ai.end_run()\n",
    "\n",
    "experiment_df = vertex_ai.get_experiment_df()\n",
    "experiment_df = experiment_df[experiment_df.experiment_name == EXPERIMENT_NAME]\n",
    "experiment_df.T"
   ]
  },
  {
   "cell_type": "markdown",
   "metadata": {},
   "source": [
    "### Start subsequent run in an experiment"
   ]
  },
  {
   "cell_type": "code",
   "execution_count": 126,
   "metadata": {},
   "outputs": [
    {
     "name": "stdout",
     "output_type": "stream",
     "text": [
      "Associating projects/934903580331/locations/us-central1/metadataStores/default/contexts/test-experiment-name-run-2 to Experiment: test-experiment-name\n"
     ]
    },
    {
     "name": "stderr",
     "output_type": "stream",
     "text": [
      "INFO:google.cloud.aiplatform.metadata.experiment_resources:Associating projects/934903580331/locations/us-central1/metadataStores/default/contexts/test-experiment-name-run-2 to Experiment: test-experiment-name\n"
     ]
    }
   ],
   "source": [
    "vertex_ai.start_run(\"run-2\")\n",
    "\n",
    "metaparams = {}\n",
    "metaparams[\"units\"] = 256  # changed the value\n",
    "vertex_ai.log_params(metaparams)\n",
    "\n",
    "hyperparams = {}\n",
    "hyperparams[\"epochs\"] = 100\n",
    "hyperparams[\"batch_size\"] = 32\n",
    "hyperparams[\"learning_rate\"] = 0.01\n",
    "vertex_ai.log_params(hyperparams)\n",
    "\n",
    "metrics = {}\n",
    "metrics[\"test_acc\"] = 98.8  # value changed\n",
    "metrics[\"train_acc\"] = 99.5  # value changed\n",
    "vertex_ai.log_metrics(metrics)"
   ]
  },
  {
   "cell_type": "markdown",
   "metadata": {},
   "source": [
    "### Comparing runs in the same experiment\n",
    "Finally, you use the experiment name as a parameter to the method `get_experiment_df()` to get the results of all the runs within the experiment as a pandas dataframe."
   ]
  },
  {
   "cell_type": "code",
   "execution_count": 127,
   "metadata": {},
   "outputs": [
    {
     "data": {
      "text/html": [
       "<div>\n",
       "<style scoped>\n",
       "    .dataframe tbody tr th:only-of-type {\n",
       "        vertical-align: middle;\n",
       "    }\n",
       "\n",
       "    .dataframe tbody tr th {\n",
       "        vertical-align: top;\n",
       "    }\n",
       "\n",
       "    .dataframe thead th {\n",
       "        text-align: right;\n",
       "    }\n",
       "</style>\n",
       "<table border=\"1\" class=\"dataframe\">\n",
       "  <thead>\n",
       "    <tr style=\"text-align: right;\">\n",
       "      <th></th>\n",
       "      <th>0</th>\n",
       "      <th>1</th>\n",
       "    </tr>\n",
       "  </thead>\n",
       "  <tbody>\n",
       "    <tr>\n",
       "      <th>experiment_name</th>\n",
       "      <td>test-experiment-name</td>\n",
       "      <td>test-experiment-name</td>\n",
       "    </tr>\n",
       "    <tr>\n",
       "      <th>run_name</th>\n",
       "      <td>run-2</td>\n",
       "      <td>run-1</td>\n",
       "    </tr>\n",
       "    <tr>\n",
       "      <th>run_type</th>\n",
       "      <td>system.ExperimentRun</td>\n",
       "      <td>system.ExperimentRun</td>\n",
       "    </tr>\n",
       "    <tr>\n",
       "      <th>state</th>\n",
       "      <td>COMPLETE</td>\n",
       "      <td>COMPLETE</td>\n",
       "    </tr>\n",
       "    <tr>\n",
       "      <th>param.units</th>\n",
       "      <td>256.0</td>\n",
       "      <td>128.0</td>\n",
       "    </tr>\n",
       "    <tr>\n",
       "      <th>param.epochs</th>\n",
       "      <td>100.0</td>\n",
       "      <td>100.0</td>\n",
       "    </tr>\n",
       "    <tr>\n",
       "      <th>param.learning_rate</th>\n",
       "      <td>0.01</td>\n",
       "      <td>0.01</td>\n",
       "    </tr>\n",
       "    <tr>\n",
       "      <th>param.batch_size</th>\n",
       "      <td>32.0</td>\n",
       "      <td>32.0</td>\n",
       "    </tr>\n",
       "    <tr>\n",
       "      <th>metric.train_acc</th>\n",
       "      <td>99.5</td>\n",
       "      <td>99.3</td>\n",
       "    </tr>\n",
       "    <tr>\n",
       "      <th>metric.test_acc</th>\n",
       "      <td>98.8</td>\n",
       "      <td>98.7</td>\n",
       "    </tr>\n",
       "  </tbody>\n",
       "</table>\n",
       "</div>"
      ],
      "text/plain": [
       "                                        0                     1\n",
       "experiment_name      test-experiment-name  test-experiment-name\n",
       "run_name                            run-2                 run-1\n",
       "run_type             system.ExperimentRun  system.ExperimentRun\n",
       "state                            COMPLETE              COMPLETE\n",
       "param.units                         256.0                 128.0\n",
       "param.epochs                        100.0                 100.0\n",
       "param.learning_rate                  0.01                  0.01\n",
       "param.batch_size                     32.0                  32.0\n",
       "metric.train_acc                     99.5                  99.3\n",
       "metric.test_acc                      98.8                  98.7"
      ]
     },
     "execution_count": 127,
     "metadata": {},
     "output_type": "execute_result"
    }
   ],
   "source": [
    "vertex_ai.end_run()\n",
    "\n",
    "experiment_df = vertex_ai.get_experiment_df()\n",
    "experiment_df = experiment_df[experiment_df.experiment_name == EXPERIMENT_NAME]\n",
    "experiment_df.T"
   ]
  },
  {
   "cell_type": "markdown",
   "metadata": {},
   "source": [
    "# Example 2 - compare locally trained models\n",
    "\n",
    "> Run experiment and evaluate experiment runs using `with` statement"
   ]
  },
  {
   "cell_type": "code",
   "execution_count": 263,
   "metadata": {},
   "outputs": [
    {
     "name": "stdout",
     "output_type": "stream",
     "text": [
      "Creating Tensorboard\n"
     ]
    },
    {
     "name": "stderr",
     "output_type": "stream",
     "text": [
      "INFO:google.cloud.aiplatform.tensorboard.tensorboard_resource:Creating Tensorboard\n"
     ]
    },
    {
     "name": "stdout",
     "output_type": "stream",
     "text": [
      "Create Tensorboard backing LRO: projects/934903580331/locations/us-central1/tensorboards/7825760816556146688/operations/2378638994029150208\n"
     ]
    },
    {
     "name": "stderr",
     "output_type": "stream",
     "text": [
      "INFO:google.cloud.aiplatform.tensorboard.tensorboard_resource:Create Tensorboard backing LRO: projects/934903580331/locations/us-central1/tensorboards/7825760816556146688/operations/2378638994029150208\n"
     ]
    },
    {
     "name": "stdout",
     "output_type": "stream",
     "text": [
      "Tensorboard created. Resource name: projects/934903580331/locations/us-central1/tensorboards/7825760816556146688\n"
     ]
    },
    {
     "name": "stderr",
     "output_type": "stream",
     "text": [
      "INFO:google.cloud.aiplatform.tensorboard.tensorboard_resource:Tensorboard created. Resource name: projects/934903580331/locations/us-central1/tensorboards/7825760816556146688\n"
     ]
    },
    {
     "name": "stdout",
     "output_type": "stream",
     "text": [
      "To use this Tensorboard in another session:\n"
     ]
    },
    {
     "name": "stderr",
     "output_type": "stream",
     "text": [
      "INFO:google.cloud.aiplatform.tensorboard.tensorboard_resource:To use this Tensorboard in another session:\n"
     ]
    },
    {
     "name": "stdout",
     "output_type": "stream",
     "text": [
      "tb = aiplatform.Tensorboard('projects/934903580331/locations/us-central1/tensorboards/7825760816556146688')\n"
     ]
    },
    {
     "name": "stderr",
     "output_type": "stream",
     "text": [
      "INFO:google.cloud.aiplatform.tensorboard.tensorboard_resource:tb = aiplatform.Tensorboard('projects/934903580331/locations/us-central1/tensorboards/7825760816556146688')\n"
     ]
    }
   ],
   "source": [
    "TIMESTAMP = datetime.now().strftime(\"%Y%m%d%H%M%S\")\n",
    "VERSION = 'v1'\n",
    "\n",
    "# Training\n",
    "DATA_DIR = \"data\"\n",
    "LOG_DIR = \"logs\"\n",
    "\n",
    "# Experiments\n",
    "TASK = \"compare-local\"\n",
    "MODEL_TYPE = \"rnn\"\n",
    "EXPERIMENT_NAME = f\"{TASK}-{VERSION}-{MODEL_TYPE}-{TIMESTAMP}\"\n",
    "\n",
    "vertex_ai_tb = vertex_ai.Tensorboard.create()\n",
    "vertex_ai.init(experiment=EXPERIMENT_NAME, experiment_tensorboard=vertex_ai_tb)"
   ]
  },
  {
   "cell_type": "code",
   "execution_count": null,
   "metadata": {},
   "outputs": [],
   "source": [
    "!mkdir -p -m 777 $DATA_DIR $LOG_DIR"
   ]
  },
  {
   "cell_type": "markdown",
   "metadata": {},
   "source": [
    "### Helper functions for model, training, eval"
   ]
  },
  {
   "cell_type": "code",
   "execution_count": 264,
   "metadata": {},
   "outputs": [],
   "source": [
    "import tensorflow_datasets as tfds\n",
    "\n",
    "tfds.disable_progress_bar()\n",
    "import tensorflow as tf\n",
    "\n",
    "\n",
    "# Helpers ----------------------------------------------------------------------\n",
    "def get_dataset(data_dir, buffer_size, batch_size):\n",
    "    \"\"\"\n",
    "    Returns a tf.data.Dataset object containing the training data\n",
    "    Returns:\n",
    "        tf.data.Dataset: A tf.data.Dataset object containing the training data\n",
    "        buffer_size: The buffer size for prefetch data\n",
    "        batch_size: The batch size of dataset\n",
    "    \"\"\"\n",
    "\n",
    "    dataset = tfds.load(\n",
    "        \"imdb_reviews\",\n",
    "        download=True,\n",
    "        data_dir=data_dir,\n",
    "        with_info=False,\n",
    "        as_supervised=True,\n",
    "    )\n",
    "\n",
    "    train_dataset, test_dataset = dataset[\"train\"], dataset[\"test\"]\n",
    "\n",
    "    train_dataset = (\n",
    "        train_dataset.shuffle(buffer_size).batch(batch_size).prefetch(tf.data.AUTOTUNE)\n",
    "    )\n",
    "    test_dataset = test_dataset.batch(batch_size).prefetch(tf.data.AUTOTUNE)\n",
    "    return train_dataset, test_dataset\n",
    "\n",
    "\n",
    "def get_encoder(train_dataset, vocab_size):\n",
    "    \"\"\"\n",
    "    Returns a TextVectorization object for the encoder\n",
    "    Args:\n",
    "        train_dataset: A tf.data.Dataset object containing the training data\n",
    "    Returns:\n",
    "        TextVectorization: A TextVectorization object for the encoder\n",
    "    \"\"\"\n",
    "\n",
    "    encoder = tf.keras.layers.TextVectorization(max_tokens=vocab_size)\n",
    "    encoder.adapt(\n",
    "        train_dataset.map(lambda text, label: text, num_parallel_calls=tf.data.AUTOTUNE)\n",
    "    )\n",
    "    return encoder\n",
    "\n",
    "\n",
    "def get_model(encoder, model_params, role):\n",
    "    \"\"\"\n",
    "    Returns a tf.keras.Model object for the model\n",
    "    Args:\n",
    "        encoder: A TextVectorization object for the encoder\n",
    "        model_params: A dictionary with model parameters\n",
    "        role: A variable to set the role of model\n",
    "    Returns:\n",
    "        tf.keras.Model: A tf.keras.Model object for the model\n",
    "    \"\"\"\n",
    "    model = tf.keras.Sequential()\n",
    "    model.add(encoder)\n",
    "    model.add(\n",
    "        tf.keras.layers.Embedding(\n",
    "            input_dim=len(encoder.get_vocabulary()), output_dim=64, mask_zero=True\n",
    "        )\n",
    "    )\n",
    "    if role == \"baseline\":\n",
    "        model.add(tf.keras.layers.Bidirectional(tf.keras.layers.LSTM(64)))\n",
    "        model.add(tf.keras.layers.Dense(64, activation=\"relu\"))\n",
    "        model.add(tf.keras.layers.Dense(1))\n",
    "    else:\n",
    "        model.add(\n",
    "            tf.keras.layers.Bidirectional(\n",
    "                tf.keras.layers.LSTM(64, return_sequences=True)\n",
    "            )\n",
    "        )\n",
    "        model.add(tf.keras.layers.Bidirectional(tf.keras.layers.LSTM(32)))\n",
    "        model.add(tf.keras.layers.Dropout(0.5))\n",
    "        model.add(tf.keras.layers.Dense(1))\n",
    "\n",
    "    model.compile(\n",
    "        loss=tf.keras.losses.BinaryCrossentropy(from_logits=True),\n",
    "        optimizer=tf.keras.optimizers.Adam(\n",
    "            learning_rate=model_params[\"learning_rate\"],\n",
    "            beta_1=model_params[\"beta_1\"],\n",
    "            beta_2=model_params[\"beta_2\"],\n",
    "            epsilon=model_params[\"epsilon\"],\n",
    "        ),\n",
    "        metrics=[\"accuracy\"],\n",
    "    )\n",
    "    return model\n",
    "\n",
    "\n",
    "def train(train_dataset, test_dataset, model, epochs, steps, log_dir=LOG_DIR):\n",
    "    \"\"\"\n",
    "    Trains the model\n",
    "    Args:\n",
    "        train_dataset: A tf.data.Dataset object containing the training data\n",
    "        test_dataset: A tf.data.Dataset object containing the testing data\n",
    "        model: A tf.keras.Model object for the model\n",
    "        epochs: The number of epochs\n",
    "        steps: The number of validation steps\n",
    "        log_dir: The location of tf training logs\n",
    "    \"\"\"\n",
    "    tensorboard = tf.keras.callbacks.TensorBoard(log_dir=log_dir)\n",
    "    history = model.fit(\n",
    "        train_dataset,\n",
    "        validation_data=test_dataset,\n",
    "        epochs=epochs,\n",
    "        validation_steps=steps,\n",
    "        callbacks=[tensorboard],\n",
    "    )\n",
    "    return history"
   ]
  },
  {
   "cell_type": "markdown",
   "metadata": {},
   "source": [
    "## Model 1: baseline\n",
    "\n",
    "> Run experiment and evaluate experiment runs using `with` statement\n",
    "\n",
    "\n",
    "Model training takes ~10 minutes"
   ]
  },
  {
   "cell_type": "code",
   "execution_count": 265,
   "metadata": {},
   "outputs": [
    {
     "name": "stderr",
     "output_type": "stream",
     "text": [
      "INFO:root:Initialize the experiment.\n"
     ]
    },
    {
     "name": "stdout",
     "output_type": "stream",
     "text": [
      "Associating projects/934903580331/locations/us-central1/metadataStores/default/contexts/compare-local-v1-rnn-20220729031913-exp-run-id-1 to Experiment: compare-local-v1-rnn-20220729031913\n"
     ]
    },
    {
     "name": "stderr",
     "output_type": "stream",
     "text": [
      "INFO:google.cloud.aiplatform.metadata.experiment_resources:Associating projects/934903580331/locations/us-central1/metadataStores/default/contexts/compare-local-v1-rnn-20220729031913-exp-run-id-1 to Experiment: compare-local-v1-rnn-20220729031913\n",
      "INFO:root:Get the training and testing datasets.\n",
      "INFO:absl:No config specified, defaulting to first: imdb_reviews/plain_text\n",
      "INFO:absl:Load pre-computed DatasetInfo (eg: splits, num examples,...) from GCS: imdb_reviews/plain_text/1.0.0\n",
      "INFO:absl:Load dataset info from /tmp/tmpicq86bxztfds\n",
      "INFO:absl:Field info.config_name from disk and from code do not match. Keeping the one from code.\n",
      "INFO:absl:Field info.config_description from disk and from code do not match. Keeping the one from code.\n",
      "INFO:absl:Field info.citation from disk and from code do not match. Keeping the one from code.\n",
      "INFO:absl:Field info.splits from disk and from code do not match. Keeping the one from code.\n",
      "INFO:absl:Field info.module_name from disk and from code do not match. Keeping the one from code.\n",
      "INFO:absl:Generating dataset imdb_reviews (./data/imdb_reviews/plain_text/1.0.0)\n"
     ]
    },
    {
     "name": "stdout",
     "output_type": "stream",
     "text": [
      "\u001b[1mDownloading and preparing dataset 80.23 MiB (download: 80.23 MiB, generated: Unknown size, total: 80.23 MiB) to ./data/imdb_reviews/plain_text/1.0.0...\u001b[0m\n"
     ]
    },
    {
     "name": "stderr",
     "output_type": "stream",
     "text": [
      "INFO:absl:Downloading http://ai.stanford.edu/~amaas/data/sentiment/aclImdb_v1.tar.gz into data/downloads/ai.stanfor.edu_amaas_sentime_aclImdb_v1PaujRp-TxjBWz59jHXsMDm5WiexbxzaFQkEnXc3Tvo8.tar.gz.tmp.df15ca4b36de41d7804ddb6de3f06061...\n",
      "INFO:absl:Done writing imdb_reviews-train.tfrecord. Number of examples: 25000 (shards: [25000])\n",
      "INFO:absl:Done writing imdb_reviews-test.tfrecord. Number of examples: 25000 (shards: [25000])\n",
      "INFO:absl:Done writing imdb_reviews-unsupervised.tfrecord. Number of examples: 50000 (shards: [50000])\n",
      "INFO:absl:Constructing tf.data.Dataset imdb_reviews for split None, from ./data/imdb_reviews/plain_text/1.0.0\n",
      "2022-07-29 03:20:42.551347: I tensorflow/core/common_runtime/process_util.cc:146] Creating new thread pool with default inter op setting: 2. Tune using inter_op_parallelism_threads for best performance.\n"
     ]
    },
    {
     "name": "stdout",
     "output_type": "stream",
     "text": [
      "\u001b[1mDataset imdb_reviews downloaded and prepared to ./data/imdb_reviews/plain_text/1.0.0. Subsequent calls will reuse this data.\u001b[0m\n"
     ]
    },
    {
     "name": "stderr",
     "output_type": "stream",
     "text": [
      "INFO:root:Get the encoder.\n",
      "INFO:root:Get the model.\n",
      "INFO:root:Train the model.\n"
     ]
    },
    {
     "name": "stdout",
     "output_type": "stream",
     "text": [
      "Epoch 1/2\n",
      "391/391 [==============================] - 1112s 3s/step - loss: 0.6512 - accuracy: 0.5489 - val_loss: 0.5121 - val_accuracy: 0.6883\n"
     ]
    },
    {
     "name": "stderr",
     "output_type": "stream",
     "text": [
      "2022-07-29 03:39:18.993918: W tensorflow/core/kernels/data/cache_dataset_ops.cc:856] The calling iterator did not fully read the dataset being cached. In order to avoid unexpected truncation of the dataset, the partially cached contents of the dataset  will be discarded. This can happen if you have an input pipeline similar to `dataset.cache().take(k).repeat()`. You should use `dataset.take(k).cache().repeat()` instead.\n"
     ]
    },
    {
     "name": "stdout",
     "output_type": "stream",
     "text": [
      "Epoch 2/2\n",
      "391/391 [==============================] - 1065s 3s/step - loss: 0.4263 - accuracy: 0.7967 - val_loss: 0.4045 - val_accuracy: 0.8258\n"
     ]
    },
    {
     "name": "stderr",
     "output_type": "stream",
     "text": [
      "2022-07-29 03:58:01.439140: W tensorflow/core/kernels/data/cache_dataset_ops.cc:856] The calling iterator did not fully read the dataset being cached. In order to avoid unexpected truncation of the dataset, the partially cached contents of the dataset  will be discarded. This can happen if you have an input pipeline similar to `dataset.cache().take(k).repeat()`. You should use `dataset.take(k).cache().repeat()` instead.\n",
      "INFO:root:Evaluate model.\n"
     ]
    },
    {
     "name": "stdout",
     "output_type": "stream",
     "text": [
      "391/391 [==============================] - 219s 559ms/step - loss: 0.3827 - accuracy: 0.8390\n"
     ]
    },
    {
     "name": "stderr",
     "output_type": "stream",
     "text": [
      "INFO:root:Exit the run.\n"
     ]
    }
   ],
   "source": [
    "# Experiment Settings ----------------------------------------------------------\n",
    "ID_1 = \"exp-run-id-1\"\n",
    "BUFFER_SIZE = 10000\n",
    "BATCH_SIZE = 64\n",
    "VOCAB_SIZE = 1000\n",
    "EPOCHS = 2\n",
    "STEPS = 20\n",
    "ROLE = \"baseline\"\n",
    "LR = 1e-4\n",
    "B_1 = 0.9\n",
    "B_2 = 0.999\n",
    "EPS = 1e-07\n",
    "\n",
    "# Initialize the experiment\n",
    "logging.info(\"Initialize the experiment.\")\n",
    "with vertex_ai.start_run(ID_1) as run:\n",
    "\n",
    "    # Get the training and testing datasets\n",
    "    logging.info(\"Get the training and testing datasets.\")\n",
    "    data_params = {\"buffer_size\": BUFFER_SIZE, \"batch_size\": BATCH_SIZE}\n",
    "    train_dataset, test_dataset = get_dataset(\n",
    "        \"./data\",\n",
    "        buffer_size=data_params[\"buffer_size\"],\n",
    "        batch_size=data_params[\"batch_size\"],\n",
    "    )\n",
    "    run.log_params(data_params)\n",
    "\n",
    "    # Get the encoder\n",
    "    logging.info(\"Get the encoder.\")\n",
    "    encoder_params = {\"vocab_size\": VOCAB_SIZE}\n",
    "    encoder = get_encoder(\n",
    "        train_dataset=train_dataset, vocab_size=encoder_params[\"vocab_size\"]\n",
    "    )\n",
    "    run.log_params(encoder_params)\n",
    "\n",
    "    # Get the model\n",
    "    logging.info(\"Get the model.\")\n",
    "    run.log_params({\"role\": ROLE})\n",
    "    model_params = {\"learning_rate\": LR, \"beta_1\": B_1, \"beta_2\": B_2, \"epsilon\": EPS}\n",
    "    model = get_model(encoder=encoder, model_params=model_params, role=ROLE)\n",
    "    run.log_params(model_params)\n",
    "\n",
    "    # Train the model\n",
    "    logging.info(\"Train the model.\")\n",
    "    history = train(\n",
    "        model=model,\n",
    "        train_dataset=train_dataset,\n",
    "        test_dataset=test_dataset,\n",
    "        epochs=EPOCHS,\n",
    "        steps=STEPS,\n",
    "    )\n",
    "\n",
    "    run.log_params(history.params)\n",
    "    for idx in range(0, history.params[\"epochs\"]):\n",
    "        run.log_time_series_metrics(\n",
    "            {\n",
    "                \"train_loss\": history.history[\"loss\"][idx],\n",
    "                \"train_accuracy\": history.history[\"accuracy\"][idx],\n",
    "            }\n",
    "        )\n",
    "\n",
    "    # Evaluate model\n",
    "    logging.info(\"Evaluate model.\")\n",
    "    test_loss, test_accuracy = model.evaluate(test_dataset)\n",
    "    run.log_metrics({\"test_loss\": test_loss, \"test_accuracy\": test_accuracy})\n",
    "\n",
    "    # Exit the experiment\n",
    "    logging.info(\"Exit the run.\")"
   ]
  },
  {
   "cell_type": "markdown",
   "metadata": {},
   "source": [
    "### Evaluate baseline model"
   ]
  },
  {
   "cell_type": "code",
   "execution_count": 266,
   "metadata": {},
   "outputs": [
    {
     "name": "stderr",
     "output_type": "stream",
     "text": [
      "INFO:root:Get experiment status.\n"
     ]
    },
    {
     "data": {
      "text/html": [
       "<div>\n",
       "<style scoped>\n",
       "    .dataframe tbody tr th:only-of-type {\n",
       "        vertical-align: middle;\n",
       "    }\n",
       "\n",
       "    .dataframe tbody tr th {\n",
       "        vertical-align: top;\n",
       "    }\n",
       "\n",
       "    .dataframe thead th {\n",
       "        text-align: right;\n",
       "    }\n",
       "</style>\n",
       "<table border=\"1\" class=\"dataframe\">\n",
       "  <thead>\n",
       "    <tr style=\"text-align: right;\">\n",
       "      <th></th>\n",
       "      <th>experiment_name</th>\n",
       "      <th>run_name</th>\n",
       "      <th>run_type</th>\n",
       "      <th>state</th>\n",
       "      <th>param.role</th>\n",
       "      <th>param.epochs</th>\n",
       "      <th>param.epsilon</th>\n",
       "      <th>param.steps</th>\n",
       "      <th>param.vocab_size</th>\n",
       "      <th>param.batch_size</th>\n",
       "      <th>param.beta_2</th>\n",
       "      <th>param.buffer_size</th>\n",
       "      <th>param.beta_1</th>\n",
       "      <th>param.learning_rate</th>\n",
       "      <th>param.verbose</th>\n",
       "      <th>metric.test_accuracy</th>\n",
       "      <th>metric.test_loss</th>\n",
       "      <th>time_series_metric.train_loss</th>\n",
       "      <th>time_series_metric.train_accuracy</th>\n",
       "    </tr>\n",
       "  </thead>\n",
       "  <tbody>\n",
       "    <tr>\n",
       "      <th>0</th>\n",
       "      <td>compare-local-v1-rnn-20220729031913</td>\n",
       "      <td>exp-run-id-1</td>\n",
       "      <td>system.ExperimentRun</td>\n",
       "      <td>COMPLETE</td>\n",
       "      <td>baseline</td>\n",
       "      <td>2.0</td>\n",
       "      <td>1.000000e-07</td>\n",
       "      <td>391.0</td>\n",
       "      <td>1000.0</td>\n",
       "      <td>64.0</td>\n",
       "      <td>0.999</td>\n",
       "      <td>10000.0</td>\n",
       "      <td>0.9</td>\n",
       "      <td>0.0001</td>\n",
       "      <td>1.0</td>\n",
       "      <td>0.839</td>\n",
       "      <td>0.38272</td>\n",
       "      <td>0.426342</td>\n",
       "      <td>0.79668</td>\n",
       "    </tr>\n",
       "  </tbody>\n",
       "</table>\n",
       "</div>"
      ],
      "text/plain": [
       "                       experiment_name      run_name              run_type  \\\n",
       "0  compare-local-v1-rnn-20220729031913  exp-run-id-1  system.ExperimentRun   \n",
       "\n",
       "      state param.role  param.epochs  param.epsilon  param.steps  \\\n",
       "0  COMPLETE   baseline           2.0   1.000000e-07        391.0   \n",
       "\n",
       "   param.vocab_size  param.batch_size  param.beta_2  param.buffer_size  \\\n",
       "0            1000.0              64.0         0.999            10000.0   \n",
       "\n",
       "   param.beta_1  param.learning_rate  param.verbose  metric.test_accuracy  \\\n",
       "0           0.9               0.0001            1.0                 0.839   \n",
       "\n",
       "   metric.test_loss  time_series_metric.train_loss  \\\n",
       "0           0.38272                       0.426342   \n",
       "\n",
       "   time_series_metric.train_accuracy  \n",
       "0                            0.79668  "
      ]
     },
     "execution_count": 266,
     "metadata": {},
     "output_type": "execute_result"
    }
   ],
   "source": [
    "# Get experiment\n",
    "logging.info(\"Get experiment status.\")\n",
    "experiment_df = vertex_ai.get_experiment_df()\n",
    "experiment_df"
   ]
  },
  {
   "cell_type": "code",
   "execution_count": 267,
   "metadata": {},
   "outputs": [
    {
     "name": "stderr",
     "output_type": "stream",
     "text": [
      "INFO:root:Get time series metrics.\n"
     ]
    },
    {
     "data": {
      "text/html": [
       "<div>\n",
       "<style scoped>\n",
       "    .dataframe tbody tr th:only-of-type {\n",
       "        vertical-align: middle;\n",
       "    }\n",
       "\n",
       "    .dataframe tbody tr th {\n",
       "        vertical-align: top;\n",
       "    }\n",
       "\n",
       "    .dataframe thead th {\n",
       "        text-align: right;\n",
       "    }\n",
       "</style>\n",
       "<table border=\"1\" class=\"dataframe\">\n",
       "  <thead>\n",
       "    <tr style=\"text-align: right;\">\n",
       "      <th></th>\n",
       "      <th>step</th>\n",
       "      <th>wall_time</th>\n",
       "      <th>train_loss</th>\n",
       "      <th>train_accuracy</th>\n",
       "    </tr>\n",
       "  </thead>\n",
       "  <tbody>\n",
       "    <tr>\n",
       "      <th>0</th>\n",
       "      <td>1</td>\n",
       "      <td>2022-07-29 03:58:39.023000+00:00</td>\n",
       "      <td>0.651169</td>\n",
       "      <td>0.54892</td>\n",
       "    </tr>\n",
       "    <tr>\n",
       "      <th>1</th>\n",
       "      <td>2</td>\n",
       "      <td>2022-07-29 03:58:39.094000+00:00</td>\n",
       "      <td>0.426342</td>\n",
       "      <td>0.79668</td>\n",
       "    </tr>\n",
       "  </tbody>\n",
       "</table>\n",
       "</div>"
      ],
      "text/plain": [
       "   step                        wall_time  train_loss  train_accuracy\n",
       "0     1 2022-07-29 03:58:39.023000+00:00    0.651169         0.54892\n",
       "1     2 2022-07-29 03:58:39.094000+00:00    0.426342         0.79668"
      ]
     },
     "execution_count": 267,
     "metadata": {},
     "output_type": "execute_result"
    }
   ],
   "source": [
    "# Get time series metrics\n",
    "logging.info(\"Get time series metrics.\")\n",
    "ts_runs_df = run.get_time_series_data_frame()\n",
    "ts_runs_df"
   ]
  },
  {
   "cell_type": "markdown",
   "metadata": {},
   "source": [
    "## Model 2: improvement\n",
    "\n",
    "> Run experiment and evaluate experiment runs using `with` statement\n",
    "\n",
    "Model training takes ~10 minutes"
   ]
  },
  {
   "cell_type": "code",
   "execution_count": 268,
   "metadata": {},
   "outputs": [
    {
     "name": "stderr",
     "output_type": "stream",
     "text": [
      "INFO:logger:Initialize the experiment.\n"
     ]
    },
    {
     "name": "stdout",
     "output_type": "stream",
     "text": [
      "Associating projects/934903580331/locations/us-central1/metadataStores/default/contexts/compare-local-v1-rnn-20220729031913-exp-run-id-2 to Experiment: compare-local-v1-rnn-20220729031913\n"
     ]
    },
    {
     "name": "stderr",
     "output_type": "stream",
     "text": [
      "INFO:google.cloud.aiplatform.metadata.experiment_resources:Associating projects/934903580331/locations/us-central1/metadataStores/default/contexts/compare-local-v1-rnn-20220729031913-exp-run-id-2 to Experiment: compare-local-v1-rnn-20220729031913\n",
      "INFO:root:Get the model.\n",
      "INFO:root:Train the model.\n"
     ]
    },
    {
     "name": "stdout",
     "output_type": "stream",
     "text": [
      "Epoch 1/2\n",
      "391/391 [==============================] - 1974s 5s/step - loss: 0.6248 - accuracy: 0.5866 - val_loss: 0.4561 - val_accuracy: 0.7703\n",
      "Epoch 2/2\n",
      "391/391 [==============================] - 1930s 5s/step - loss: 0.3850 - accuracy: 0.8300 - val_loss: 0.3717 - val_accuracy: 0.8469\n"
     ]
    },
    {
     "name": "stderr",
     "output_type": "stream",
     "text": [
      "INFO:root:Evaluate model.\n"
     ]
    },
    {
     "name": "stdout",
     "output_type": "stream",
     "text": [
      "391/391 [==============================] - 384s 982ms/step - loss: 0.3549 - accuracy: 0.8536\n"
     ]
    },
    {
     "name": "stderr",
     "output_type": "stream",
     "text": [
      "INFO:root:Exit the experiment.\n"
     ]
    }
   ],
   "source": [
    "# Experiment Settings ----------------------------------------------------------\n",
    "ID_2 = \"exp-run-id-2\"\n",
    "ROLE = \"stacked\"\n",
    "BUFFER_SIZE = 10000\n",
    "BATCH_SIZE = 64\n",
    "VOCAB_SIZE = 1000\n",
    "EPOCHS = 2\n",
    "STEPS = 20\n",
    "LR = 1e-4\n",
    "B_1 = 0.9\n",
    "B_2 = 0.999\n",
    "EPS = 1e-07\n",
    "\n",
    "# Initialize the experiment\n",
    "logging.info(\"Initialize the experiment.\")\n",
    "with vertex_ai.start_run(ID_2) as run:\n",
    "    \n",
    "    data_params = {\"buffer_size\": BUFFER_SIZE, \"batch_size\": BATCH_SIZE}\n",
    "    run.log_params(data_params)\n",
    "    \n",
    "    encoder_params = {\"vocab_size\": VOCAB_SIZE}\n",
    "    run.log_params(encoder_params)\n",
    "    \n",
    "    # Get the model\n",
    "    logging.info(\"Get the model.\")\n",
    "    run.log_params({\"role\": ROLE})\n",
    "    model = get_model(encoder=encoder, model_params=model_params, role=ROLE)\n",
    "    vertex_ai.log_params(model_params)\n",
    "    \n",
    "    # Train the model\n",
    "    logging.info(\"Train the model.\")\n",
    "    history = train(\n",
    "        model=model,\n",
    "        train_dataset=train_dataset,\n",
    "        test_dataset=test_dataset,\n",
    "        epochs=EPOCHS,\n",
    "        steps=STEPS,\n",
    "    )\n",
    "    \n",
    "    vertex_ai.log_params(history.params)\n",
    "    for idx in range(0, history.params[\"epochs\"]):\n",
    "        vertex_ai.log_time_series_metrics(\n",
    "            {\n",
    "                \"train_loss\": history.history[\"loss\"][idx],\n",
    "                \"train_accuracy\": history.history[\"accuracy\"][idx],\n",
    "            }\n",
    "        )\n",
    "        \n",
    "    # Evaluate model\n",
    "    logging.info(\"Evaluate model.\")\n",
    "    test_loss, test_accuracy = model.evaluate(test_dataset)\n",
    "    vertex_ai.log_metrics({\"test_loss\": test_loss, \"test_accuracy\": test_accuracy})\n",
    "\n",
    "    # Exit the experiment\n",
    "    logging.info(\"Exit the experiment.\")\n",
    "    vertex_ai.end_run()"
   ]
  },
  {
   "cell_type": "markdown",
   "metadata": {},
   "source": [
    "### Compare the baseline with the new model implementation"
   ]
  },
  {
   "cell_type": "code",
   "execution_count": 271,
   "metadata": {},
   "outputs": [
    {
     "name": "stderr",
     "output_type": "stream",
     "text": [
      "INFO:root:Get experiment status.\n"
     ]
    },
    {
     "data": {
      "text/html": [
       "<div>\n",
       "<style scoped>\n",
       "    .dataframe tbody tr th:only-of-type {\n",
       "        vertical-align: middle;\n",
       "    }\n",
       "\n",
       "    .dataframe tbody tr th {\n",
       "        vertical-align: top;\n",
       "    }\n",
       "\n",
       "    .dataframe thead th {\n",
       "        text-align: right;\n",
       "    }\n",
       "</style>\n",
       "<table border=\"1\" class=\"dataframe\">\n",
       "  <thead>\n",
       "    <tr style=\"text-align: right;\">\n",
       "      <th></th>\n",
       "      <th>experiment_name</th>\n",
       "      <th>run_name</th>\n",
       "      <th>run_type</th>\n",
       "      <th>state</th>\n",
       "      <th>param.epochs</th>\n",
       "      <th>param.learning_rate</th>\n",
       "      <th>param.epsilon</th>\n",
       "      <th>param.verbose</th>\n",
       "      <th>param.batch_size</th>\n",
       "      <th>param.beta_2</th>\n",
       "      <th>param.vocab_size</th>\n",
       "      <th>param.role</th>\n",
       "      <th>param.steps</th>\n",
       "      <th>param.buffer_size</th>\n",
       "      <th>param.beta_1</th>\n",
       "      <th>metric.test_accuracy</th>\n",
       "      <th>metric.test_loss</th>\n",
       "      <th>time_series_metric.train_loss</th>\n",
       "      <th>time_series_metric.train_accuracy</th>\n",
       "    </tr>\n",
       "  </thead>\n",
       "  <tbody>\n",
       "    <tr>\n",
       "      <th>0</th>\n",
       "      <td>compare-local-v1-rnn-20220729031913</td>\n",
       "      <td>exp-run-id-2</td>\n",
       "      <td>system.ExperimentRun</td>\n",
       "      <td>COMPLETE</td>\n",
       "      <td>2.0</td>\n",
       "      <td>0.0001</td>\n",
       "      <td>1.000000e-07</td>\n",
       "      <td>1.0</td>\n",
       "      <td>64.0</td>\n",
       "      <td>0.999</td>\n",
       "      <td>1000.0</td>\n",
       "      <td>stacked</td>\n",
       "      <td>391.0</td>\n",
       "      <td>10000.0</td>\n",
       "      <td>0.9</td>\n",
       "      <td>0.85356</td>\n",
       "      <td>0.354947</td>\n",
       "      <td>0.384967</td>\n",
       "      <td>0.83004</td>\n",
       "    </tr>\n",
       "    <tr>\n",
       "      <th>1</th>\n",
       "      <td>compare-local-v1-rnn-20220729031913</td>\n",
       "      <td>exp-run-id-1</td>\n",
       "      <td>system.ExperimentRun</td>\n",
       "      <td>COMPLETE</td>\n",
       "      <td>2.0</td>\n",
       "      <td>0.0001</td>\n",
       "      <td>1.000000e-07</td>\n",
       "      <td>1.0</td>\n",
       "      <td>64.0</td>\n",
       "      <td>0.999</td>\n",
       "      <td>1000.0</td>\n",
       "      <td>stacked</td>\n",
       "      <td>391.0</td>\n",
       "      <td>10000.0</td>\n",
       "      <td>0.9</td>\n",
       "      <td>0.83900</td>\n",
       "      <td>0.382720</td>\n",
       "      <td>0.426342</td>\n",
       "      <td>0.79668</td>\n",
       "    </tr>\n",
       "  </tbody>\n",
       "</table>\n",
       "</div>"
      ],
      "text/plain": [
       "                       experiment_name      run_name              run_type  \\\n",
       "0  compare-local-v1-rnn-20220729031913  exp-run-id-2  system.ExperimentRun   \n",
       "1  compare-local-v1-rnn-20220729031913  exp-run-id-1  system.ExperimentRun   \n",
       "\n",
       "      state  param.epochs  param.learning_rate  param.epsilon  param.verbose  \\\n",
       "0  COMPLETE           2.0               0.0001   1.000000e-07            1.0   \n",
       "1  COMPLETE           2.0               0.0001   1.000000e-07            1.0   \n",
       "\n",
       "   param.batch_size  param.beta_2  param.vocab_size param.role  param.steps  \\\n",
       "0              64.0         0.999            1000.0    stacked        391.0   \n",
       "1              64.0         0.999            1000.0    stacked        391.0   \n",
       "\n",
       "   param.buffer_size  param.beta_1  metric.test_accuracy  metric.test_loss  \\\n",
       "0            10000.0           0.9               0.85356          0.354947   \n",
       "1            10000.0           0.9               0.83900          0.382720   \n",
       "\n",
       "   time_series_metric.train_loss  time_series_metric.train_accuracy  \n",
       "0                       0.384967                            0.83004  \n",
       "1                       0.426342                            0.79668  "
      ]
     },
     "execution_count": 271,
     "metadata": {},
     "output_type": "execute_result"
    }
   ],
   "source": [
    "# Get experiment\n",
    "logging.info(\"Get experiment status.\")\n",
    "experiment_df = vertex_ai.get_experiment_df()\n",
    "experiment_df"
   ]
  },
  {
   "cell_type": "code",
   "execution_count": 273,
   "metadata": {},
   "outputs": [
    {
     "name": "stderr",
     "output_type": "stream",
     "text": [
      "INFO:root:Get time series metrics.\n"
     ]
    },
    {
     "name": "stdout",
     "output_type": "stream",
     "text": [
      "   step                        wall_time  train_loss  train_accuracy\n",
      "0     1 2022-07-29 05:09:01.553000+00:00    0.624836         0.58660\n",
      "1     2 2022-07-29 05:09:01.649000+00:00    0.384967         0.83004\n"
     ]
    }
   ],
   "source": [
    "# Get time series metrics\n",
    "exp_run = vertex_ai.ExperimentRun(ID_2, experiment=EXPERIMENT_NAME)\n",
    "logging.info(\"Get time series metrics.\")\n",
    "ts_runs_df = exp_run.get_time_series_data_frame()\n",
    "print(ts_runs_df)"
   ]
  },
  {
   "cell_type": "markdown",
   "metadata": {},
   "source": [
    "### Clean-up"
   ]
  },
  {
   "cell_type": "code",
   "execution_count": null,
   "metadata": {},
   "outputs": [],
   "source": [
    "# # Delete experiment\n",
    "# exp = vertex_ai.Experiment(EXPERIMENT_NAME)\n",
    "# exp.delete(delete_backing_tensorboard_runs=True)\n",
    "\n",
    "# # Delete Tensorboard\n",
    "# vertex_ai_tb.delete()"
   ]
  },
  {
   "cell_type": "markdown",
   "metadata": {
    "id": "jnfKxpj0-Z0H"
   },
   "source": [
    "Before you start running your pipeline experiments, you have to formalize your training as pipeline component.\n",
    "\n",
    "To do that, you will use the `kfp.v2.dsl.component` decorator to convert your training task into a pipeline component. "
   ]
  },
  {
   "cell_type": "code",
   "execution_count": 234,
   "metadata": {
    "id": "jv_-vU46_eFN"
   },
   "outputs": [],
   "source": [
    "@component(\n",
    "    packages_to_install=[\n",
    "        \"numpy==1.18.5\",\n",
    "        \"pandas==1.0.4\",\n",
    "        \"scikit-learn==0.23.1\",\n",
    "        \"xgboost==1.1.1\",\n",
    "    ]\n",
    ")\n",
    "def custom_trainer(\n",
    "    train_uri: str,\n",
    "    label_uri: str,\n",
    "    max_depth: int,\n",
    "    learning_rate: float,\n",
    "    boost_rounds: int,\n",
    "    model_uri: str,\n",
    "    metrics: Output[Metrics],\n",
    "    model_metadata: Output[Model],\n",
    "):\n",
    "\n",
    "    # import libraries\n",
    "    import logging\n",
    "    import uuid\n",
    "    from pathlib import Path as path\n",
    "\n",
    "    import pandas as pd\n",
    "    import xgboost as xgb\n",
    "    from sklearn.metrics import accuracy_score\n",
    "    from sklearn.model_selection import train_test_split\n",
    "\n",
    "    # variables\n",
    "    gs_prefix = \"gs://\"\n",
    "    gcsfuse_prefix = \"/gcs/\"\n",
    "    train_path = train_uri.replace(gs_prefix, gcsfuse_prefix)\n",
    "    label_path = label_uri.replace(gs_prefix, gcsfuse_prefix)\n",
    "    model_path = model_uri.replace(gs_prefix, gcsfuse_prefix)\n",
    "\n",
    "    def get_logger():\n",
    "        \"\"\"\n",
    "        Get the logger\n",
    "        \"\"\"\n",
    "        logger = logging.getLogger(__name__)\n",
    "        logger.setLevel(logging.INFO)\n",
    "        handler = logging.StreamHandler()\n",
    "        handler.setFormatter(\n",
    "            logging.Formatter(\"%(asctime)s - %(name)s - %(levelname)s - %(message)s\")\n",
    "        )\n",
    "        logger.addHandler(handler)\n",
    "        return logger\n",
    "\n",
    "    def get_data(\n",
    "        train_path: str, label_path: str\n",
    "    ) -> (xgb.DMatrix, pd.DataFrame, pd.DataFrame):\n",
    "        \"\"\"\n",
    "        Get the data\n",
    "        Args:\n",
    "            train_path: the path of the train data\n",
    "            label_path: the path of the label data\n",
    "        Returns:\n",
    "            the train data and the label data\n",
    "        \"\"\"\n",
    "        # Load data into pandas, then use `.values` to get NumPy arrays\n",
    "        data = pd.read_csv(train_path).values\n",
    "        labels = pd.read_csv(label_path).values\n",
    "\n",
    "        # Convert one-column 2D array into 1D array for use with XGBoost\n",
    "        labels = labels.reshape((labels.size,))\n",
    "        train_data, test_data, train_labels, test_labels = train_test_split(\n",
    "            data, labels, test_size=0.2, random_state=7\n",
    "        )\n",
    "\n",
    "        # Load data into DMatrix object\n",
    "        dtrain = xgb.DMatrix(train_data, label=train_labels)\n",
    "        return dtrain, test_data, test_labels\n",
    "\n",
    "    def train_model(max_depth: int, eta: int, boost_rounds, dtrain: xgb.DMatrix):\n",
    "        \"\"\"\n",
    "        Train the model\n",
    "        Args:\n",
    "            max_depth: the max depth of the model\n",
    "            eta: the eta of the model\n",
    "            boost_rounds: the boost rounds of the model\n",
    "            dtrain: the train data\n",
    "        Returns:\n",
    "            the trained model\n",
    "        \"\"\"\n",
    "        # Train XGBoost model\n",
    "        param = {\"max_depth\": max_depth, \"eta\": eta}\n",
    "        model = xgb.train(param, dtrain, num_boost_round=boost_rounds)\n",
    "        return model\n",
    "\n",
    "    def evaluate_model(model, test_data, test_labels):\n",
    "        \"\"\"\n",
    "        Evaluate the model\n",
    "        Args:\n",
    "            model: the trained model\n",
    "            test_data: the test data\n",
    "            test_labels: the test labels\n",
    "        Returns:\n",
    "            the accuracy of the model\n",
    "        \"\"\"\n",
    "        dtest = xgb.DMatrix(test_data)\n",
    "        pred = model.predict(dtest)\n",
    "        predictions = [round(value) for value in pred]\n",
    "        # Evaluate predictions\n",
    "        accuracy = accuracy_score(test_labels, predictions)\n",
    "        return accuracy\n",
    "\n",
    "    def save_model(model, model_path):\n",
    "        \"\"\"\n",
    "        Save the model\n",
    "        Args:\n",
    "            model: the trained model\n",
    "            model_path: the path of the model\n",
    "        \"\"\"\n",
    "        model_id = str(uuid.uuid1())\n",
    "        model_path = f\"{model_path}/{model_id}/model.bst\"\n",
    "        path(model_path).parent.mkdir(parents=True, exist_ok=True)\n",
    "        model.save_model(model_path)\n",
    "\n",
    "    # Main ----------------------------------------------\n",
    "\n",
    "    dtrain, test_data, test_labels = get_data(train_path, label_path)\n",
    "    model = train_model(max_depth, learning_rate, boost_rounds, dtrain)\n",
    "    accuracy = evaluate_model(model, test_data, test_labels)\n",
    "    save_model(model, model_path)\n",
    "\n",
    "    # Metadata ------------------------------------------\n",
    "    metrics.log_metric(\"accurancy\", accuracy)\n",
    "    model_metadata.uri = model_uri"
   ]
  },
  {
   "cell_type": "markdown",
   "metadata": {
    "id": "U1UiTZhkVoFM"
   },
   "source": [
    "## Build a pipeline"
   ]
  },
  {
   "cell_type": "markdown",
   "metadata": {
    "id": "7ABYbPz5UmJQ"
   },
   "source": [
    "### Define your workflow using Kubeflow Pipelines DSL package"
   ]
  },
  {
   "cell_type": "code",
   "execution_count": 235,
   "metadata": {
    "id": "9Gfr6pNLU-dB"
   },
   "outputs": [],
   "source": [
    "@dsl.pipeline(name=\"custom-training-pipeline\")\n",
    "def pipeline(\n",
    "    train_uri: str,\n",
    "    label_uri: str,\n",
    "    max_depth: int,\n",
    "    learning_rate: float,\n",
    "    boost_rounds: int,\n",
    "    model_uri: str,\n",
    "):\n",
    "\n",
    "    custom_trainer(\n",
    "        train_uri, label_uri, max_depth, learning_rate, boost_rounds, model_uri\n",
    "    )"
   ]
  },
  {
   "cell_type": "markdown",
   "metadata": {
    "id": "RkfZ7qVAVjBO"
   },
   "source": [
    "### Compile your pipeline into a JSON file"
   ]
  },
  {
   "cell_type": "code",
   "execution_count": 236,
   "metadata": {
    "id": "oYlLBGUSVibG"
   },
   "outputs": [],
   "source": [
    "compiler.Compiler().compile(pipeline_func=pipeline, package_path=\"pipeline.json\")"
   ]
  },
  {
   "cell_type": "markdown",
   "metadata": {
    "id": "95vG4-zPWc0B"
   },
   "source": [
    "## Submit and track pipeline runs"
   ]
  },
  {
   "cell_type": "markdown",
   "metadata": {
    "id": "ZNb6kZ2l5t-O"
   },
   "source": [
    "### Submit Pipeline runs\n",
    "\n",
    "Now that you have the pipeline, you define its training configuration depending on the defined parameters. Below you have an example and how you can submit several pipeline runs. "
   ]
  },
  {
   "cell_type": "code",
   "execution_count": 237,
   "metadata": {
    "id": "XPy0Jc8xXgpa"
   },
   "outputs": [],
   "source": [
    "runs = [\n",
    "    {\"max_depth\": 4, \"learning_rate\": 0.2, \"boost_rounds\": 10},\n",
    "    {\"max_depth\": 5, \"learning_rate\": 0.3, \"boost_rounds\": 20},\n",
    "    {\"max_depth\": 3, \"learning_rate\": 0.1, \"boost_rounds\": 30},\n",
    "    {\"max_depth\": 6, \"learning_rate\": 0.5, \"boost_rounds\": 40},\n",
    "    {\"max_depth\": 5, \"learning_rate\": 0.4, \"boost_rounds\": 30},\n",
    "]"
   ]
  },
  {
   "cell_type": "code",
   "execution_count": 238,
   "metadata": {
    "id": "G0hm1no_WY8o",
    "tags": []
   },
   "outputs": [
    {
     "name": "stdout",
     "output_type": "stream",
     "text": [
      "Creating PipelineJob\n"
     ]
    },
    {
     "name": "stderr",
     "output_type": "stream",
     "text": [
      "INFO:google.cloud.aiplatform.pipeline_jobs:Creating PipelineJob\n"
     ]
    },
    {
     "name": "stdout",
     "output_type": "stream",
     "text": [
      "PipelineJob created. Resource name: projects/934903580331/locations/us-central1/pipelineJobs/custom-training-pipeline-20220729024813\n"
     ]
    },
    {
     "name": "stderr",
     "output_type": "stream",
     "text": [
      "INFO:google.cloud.aiplatform.pipeline_jobs:PipelineJob created. Resource name: projects/934903580331/locations/us-central1/pipelineJobs/custom-training-pipeline-20220729024813\n"
     ]
    },
    {
     "name": "stdout",
     "output_type": "stream",
     "text": [
      "To use this PipelineJob in another session:\n"
     ]
    },
    {
     "name": "stderr",
     "output_type": "stream",
     "text": [
      "INFO:google.cloud.aiplatform.pipeline_jobs:To use this PipelineJob in another session:\n"
     ]
    },
    {
     "name": "stdout",
     "output_type": "stream",
     "text": [
      "pipeline_job = aiplatform.PipelineJob.get('projects/934903580331/locations/us-central1/pipelineJobs/custom-training-pipeline-20220729024813')\n"
     ]
    },
    {
     "name": "stderr",
     "output_type": "stream",
     "text": [
      "INFO:google.cloud.aiplatform.pipeline_jobs:pipeline_job = aiplatform.PipelineJob.get('projects/934903580331/locations/us-central1/pipelineJobs/custom-training-pipeline-20220729024813')\n"
     ]
    },
    {
     "name": "stdout",
     "output_type": "stream",
     "text": [
      "View Pipeline Job:\n",
      "https://console.cloud.google.com/vertex-ai/locations/us-central1/pipelines/runs/custom-training-pipeline-20220729024813?project=934903580331\n"
     ]
    },
    {
     "name": "stderr",
     "output_type": "stream",
     "text": [
      "INFO:google.cloud.aiplatform.pipeline_jobs:View Pipeline Job:\n",
      "https://console.cloud.google.com/vertex-ai/locations/us-central1/pipelines/runs/custom-training-pipeline-20220729024813?project=934903580331\n"
     ]
    },
    {
     "name": "stdout",
     "output_type": "stream",
     "text": [
      "Associating projects/934903580331/locations/us-central1/pipelineJobs/custom-training-pipeline-20220729024813 to Experiment: pipe-run-associated-experiment-v3-xgboost-20220729024800\n"
     ]
    },
    {
     "name": "stderr",
     "output_type": "stream",
     "text": [
      "INFO:google.cloud.aiplatform.metadata.experiment_resources:Associating projects/934903580331/locations/us-central1/pipelineJobs/custom-training-pipeline-20220729024813 to Experiment: pipe-run-associated-experiment-v3-xgboost-20220729024800\n"
     ]
    },
    {
     "name": "stdout",
     "output_type": "stream",
     "text": [
      "Creating PipelineJob\n"
     ]
    },
    {
     "name": "stderr",
     "output_type": "stream",
     "text": [
      "INFO:google.cloud.aiplatform.pipeline_jobs:Creating PipelineJob\n"
     ]
    },
    {
     "name": "stdout",
     "output_type": "stream",
     "text": [
      "PipelineJob created. Resource name: projects/934903580331/locations/us-central1/pipelineJobs/custom-training-pipeline-20220729024815\n"
     ]
    },
    {
     "name": "stderr",
     "output_type": "stream",
     "text": [
      "INFO:google.cloud.aiplatform.pipeline_jobs:PipelineJob created. Resource name: projects/934903580331/locations/us-central1/pipelineJobs/custom-training-pipeline-20220729024815\n"
     ]
    },
    {
     "name": "stdout",
     "output_type": "stream",
     "text": [
      "To use this PipelineJob in another session:\n"
     ]
    },
    {
     "name": "stderr",
     "output_type": "stream",
     "text": [
      "INFO:google.cloud.aiplatform.pipeline_jobs:To use this PipelineJob in another session:\n"
     ]
    },
    {
     "name": "stdout",
     "output_type": "stream",
     "text": [
      "pipeline_job = aiplatform.PipelineJob.get('projects/934903580331/locations/us-central1/pipelineJobs/custom-training-pipeline-20220729024815')\n"
     ]
    },
    {
     "name": "stderr",
     "output_type": "stream",
     "text": [
      "INFO:google.cloud.aiplatform.pipeline_jobs:pipeline_job = aiplatform.PipelineJob.get('projects/934903580331/locations/us-central1/pipelineJobs/custom-training-pipeline-20220729024815')\n"
     ]
    },
    {
     "name": "stdout",
     "output_type": "stream",
     "text": [
      "View Pipeline Job:\n",
      "https://console.cloud.google.com/vertex-ai/locations/us-central1/pipelines/runs/custom-training-pipeline-20220729024815?project=934903580331\n"
     ]
    },
    {
     "name": "stderr",
     "output_type": "stream",
     "text": [
      "INFO:google.cloud.aiplatform.pipeline_jobs:View Pipeline Job:\n",
      "https://console.cloud.google.com/vertex-ai/locations/us-central1/pipelines/runs/custom-training-pipeline-20220729024815?project=934903580331\n"
     ]
    },
    {
     "name": "stdout",
     "output_type": "stream",
     "text": [
      "Associating projects/934903580331/locations/us-central1/pipelineJobs/custom-training-pipeline-20220729024815 to Experiment: pipe-run-associated-experiment-v3-xgboost-20220729024800\n"
     ]
    },
    {
     "name": "stderr",
     "output_type": "stream",
     "text": [
      "INFO:google.cloud.aiplatform.metadata.experiment_resources:Associating projects/934903580331/locations/us-central1/pipelineJobs/custom-training-pipeline-20220729024815 to Experiment: pipe-run-associated-experiment-v3-xgboost-20220729024800\n"
     ]
    },
    {
     "name": "stdout",
     "output_type": "stream",
     "text": [
      "Creating PipelineJob\n"
     ]
    },
    {
     "name": "stderr",
     "output_type": "stream",
     "text": [
      "INFO:google.cloud.aiplatform.pipeline_jobs:Creating PipelineJob\n"
     ]
    },
    {
     "name": "stdout",
     "output_type": "stream",
     "text": [
      "PipelineJob created. Resource name: projects/934903580331/locations/us-central1/pipelineJobs/custom-training-pipeline-20220729024817\n"
     ]
    },
    {
     "name": "stderr",
     "output_type": "stream",
     "text": [
      "INFO:google.cloud.aiplatform.pipeline_jobs:PipelineJob created. Resource name: projects/934903580331/locations/us-central1/pipelineJobs/custom-training-pipeline-20220729024817\n"
     ]
    },
    {
     "name": "stdout",
     "output_type": "stream",
     "text": [
      "To use this PipelineJob in another session:\n"
     ]
    },
    {
     "name": "stderr",
     "output_type": "stream",
     "text": [
      "INFO:google.cloud.aiplatform.pipeline_jobs:To use this PipelineJob in another session:\n"
     ]
    },
    {
     "name": "stdout",
     "output_type": "stream",
     "text": [
      "pipeline_job = aiplatform.PipelineJob.get('projects/934903580331/locations/us-central1/pipelineJobs/custom-training-pipeline-20220729024817')\n"
     ]
    },
    {
     "name": "stderr",
     "output_type": "stream",
     "text": [
      "INFO:google.cloud.aiplatform.pipeline_jobs:pipeline_job = aiplatform.PipelineJob.get('projects/934903580331/locations/us-central1/pipelineJobs/custom-training-pipeline-20220729024817')\n"
     ]
    },
    {
     "name": "stdout",
     "output_type": "stream",
     "text": [
      "View Pipeline Job:\n",
      "https://console.cloud.google.com/vertex-ai/locations/us-central1/pipelines/runs/custom-training-pipeline-20220729024817?project=934903580331\n"
     ]
    },
    {
     "name": "stderr",
     "output_type": "stream",
     "text": [
      "INFO:google.cloud.aiplatform.pipeline_jobs:View Pipeline Job:\n",
      "https://console.cloud.google.com/vertex-ai/locations/us-central1/pipelines/runs/custom-training-pipeline-20220729024817?project=934903580331\n"
     ]
    },
    {
     "name": "stdout",
     "output_type": "stream",
     "text": [
      "Associating projects/934903580331/locations/us-central1/pipelineJobs/custom-training-pipeline-20220729024817 to Experiment: pipe-run-associated-experiment-v3-xgboost-20220729024800\n"
     ]
    },
    {
     "name": "stderr",
     "output_type": "stream",
     "text": [
      "INFO:google.cloud.aiplatform.metadata.experiment_resources:Associating projects/934903580331/locations/us-central1/pipelineJobs/custom-training-pipeline-20220729024817 to Experiment: pipe-run-associated-experiment-v3-xgboost-20220729024800\n"
     ]
    },
    {
     "name": "stdout",
     "output_type": "stream",
     "text": [
      "Creating PipelineJob\n"
     ]
    },
    {
     "name": "stderr",
     "output_type": "stream",
     "text": [
      "INFO:google.cloud.aiplatform.pipeline_jobs:Creating PipelineJob\n"
     ]
    },
    {
     "name": "stdout",
     "output_type": "stream",
     "text": [
      "PipelineJob created. Resource name: projects/934903580331/locations/us-central1/pipelineJobs/custom-training-pipeline-20220729024819\n"
     ]
    },
    {
     "name": "stderr",
     "output_type": "stream",
     "text": [
      "INFO:google.cloud.aiplatform.pipeline_jobs:PipelineJob created. Resource name: projects/934903580331/locations/us-central1/pipelineJobs/custom-training-pipeline-20220729024819\n"
     ]
    },
    {
     "name": "stdout",
     "output_type": "stream",
     "text": [
      "To use this PipelineJob in another session:\n"
     ]
    },
    {
     "name": "stderr",
     "output_type": "stream",
     "text": [
      "INFO:google.cloud.aiplatform.pipeline_jobs:To use this PipelineJob in another session:\n"
     ]
    },
    {
     "name": "stdout",
     "output_type": "stream",
     "text": [
      "pipeline_job = aiplatform.PipelineJob.get('projects/934903580331/locations/us-central1/pipelineJobs/custom-training-pipeline-20220729024819')\n"
     ]
    },
    {
     "name": "stderr",
     "output_type": "stream",
     "text": [
      "INFO:google.cloud.aiplatform.pipeline_jobs:pipeline_job = aiplatform.PipelineJob.get('projects/934903580331/locations/us-central1/pipelineJobs/custom-training-pipeline-20220729024819')\n"
     ]
    },
    {
     "name": "stdout",
     "output_type": "stream",
     "text": [
      "View Pipeline Job:\n",
      "https://console.cloud.google.com/vertex-ai/locations/us-central1/pipelines/runs/custom-training-pipeline-20220729024819?project=934903580331\n"
     ]
    },
    {
     "name": "stderr",
     "output_type": "stream",
     "text": [
      "INFO:google.cloud.aiplatform.pipeline_jobs:View Pipeline Job:\n",
      "https://console.cloud.google.com/vertex-ai/locations/us-central1/pipelines/runs/custom-training-pipeline-20220729024819?project=934903580331\n"
     ]
    },
    {
     "name": "stdout",
     "output_type": "stream",
     "text": [
      "Associating projects/934903580331/locations/us-central1/pipelineJobs/custom-training-pipeline-20220729024819 to Experiment: pipe-run-associated-experiment-v3-xgboost-20220729024800\n"
     ]
    },
    {
     "name": "stderr",
     "output_type": "stream",
     "text": [
      "INFO:google.cloud.aiplatform.metadata.experiment_resources:Associating projects/934903580331/locations/us-central1/pipelineJobs/custom-training-pipeline-20220729024819 to Experiment: pipe-run-associated-experiment-v3-xgboost-20220729024800\n"
     ]
    },
    {
     "name": "stdout",
     "output_type": "stream",
     "text": [
      "Creating PipelineJob\n"
     ]
    },
    {
     "name": "stderr",
     "output_type": "stream",
     "text": [
      "INFO:google.cloud.aiplatform.pipeline_jobs:Creating PipelineJob\n"
     ]
    },
    {
     "name": "stdout",
     "output_type": "stream",
     "text": [
      "PipelineJob created. Resource name: projects/934903580331/locations/us-central1/pipelineJobs/custom-training-pipeline-20220729024820\n"
     ]
    },
    {
     "name": "stderr",
     "output_type": "stream",
     "text": [
      "INFO:google.cloud.aiplatform.pipeline_jobs:PipelineJob created. Resource name: projects/934903580331/locations/us-central1/pipelineJobs/custom-training-pipeline-20220729024820\n"
     ]
    },
    {
     "name": "stdout",
     "output_type": "stream",
     "text": [
      "To use this PipelineJob in another session:\n"
     ]
    },
    {
     "name": "stderr",
     "output_type": "stream",
     "text": [
      "INFO:google.cloud.aiplatform.pipeline_jobs:To use this PipelineJob in another session:\n"
     ]
    },
    {
     "name": "stdout",
     "output_type": "stream",
     "text": [
      "pipeline_job = aiplatform.PipelineJob.get('projects/934903580331/locations/us-central1/pipelineJobs/custom-training-pipeline-20220729024820')\n"
     ]
    },
    {
     "name": "stderr",
     "output_type": "stream",
     "text": [
      "INFO:google.cloud.aiplatform.pipeline_jobs:pipeline_job = aiplatform.PipelineJob.get('projects/934903580331/locations/us-central1/pipelineJobs/custom-training-pipeline-20220729024820')\n"
     ]
    },
    {
     "name": "stdout",
     "output_type": "stream",
     "text": [
      "View Pipeline Job:\n",
      "https://console.cloud.google.com/vertex-ai/locations/us-central1/pipelines/runs/custom-training-pipeline-20220729024820?project=934903580331\n"
     ]
    },
    {
     "name": "stderr",
     "output_type": "stream",
     "text": [
      "INFO:google.cloud.aiplatform.pipeline_jobs:View Pipeline Job:\n",
      "https://console.cloud.google.com/vertex-ai/locations/us-central1/pipelines/runs/custom-training-pipeline-20220729024820?project=934903580331\n"
     ]
    },
    {
     "name": "stdout",
     "output_type": "stream",
     "text": [
      "Associating projects/934903580331/locations/us-central1/pipelineJobs/custom-training-pipeline-20220729024820 to Experiment: pipe-run-associated-experiment-v3-xgboost-20220729024800\n"
     ]
    },
    {
     "name": "stderr",
     "output_type": "stream",
     "text": [
      "INFO:google.cloud.aiplatform.metadata.experiment_resources:Associating projects/934903580331/locations/us-central1/pipelineJobs/custom-training-pipeline-20220729024820 to Experiment: pipe-run-associated-experiment-v3-xgboost-20220729024800\n"
     ]
    }
   ],
   "source": [
    "for i, run in enumerate(runs):\n",
    "\n",
    "    job = vertex_ai.PipelineJob(\n",
    "        display_name=f\"{EXPERIMENT_NAME}-pipeline-run-{i}\",\n",
    "        template_path=\"pipeline.json\",\n",
    "        pipeline_root=PIPELINE_URI,\n",
    "        enable_caching=False,\n",
    "        parameter_values={\n",
    "            \"train_uri\": TRAIN_URI,\n",
    "            \"label_uri\": LABEL_URI,\n",
    "            \"model_uri\": MODEL_URI,\n",
    "            **run,\n",
    "        },\n",
    "    )\n",
    "    job.submit(experiment=EXPERIMENT_NAME)"
   ]
  },
  {
   "cell_type": "markdown",
   "metadata": {
    "id": "O8TV4q535c2M"
   },
   "source": [
    "### Check Pipeline run states\n",
    "\n",
    "Vertex AI SDK provides you `get_experiment_df` method to monitor the status of pipeline runs. You can use it either to return parameters and metrics of the Pipeline Runs in the Vertex AI Experiment or in combination with `get` method of `PipelineJob` to return the pipeline job in Vertex AI Pipeline.\n"
   ]
  },
  {
   "cell_type": "code",
   "execution_count": 239,
   "metadata": {
    "id": "dlCEJKfH5xR7"
   },
   "outputs": [
    {
     "data": {
      "text/html": [
       "<div>\n",
       "<style scoped>\n",
       "    .dataframe tbody tr th:only-of-type {\n",
       "        vertical-align: middle;\n",
       "    }\n",
       "\n",
       "    .dataframe tbody tr th {\n",
       "        vertical-align: top;\n",
       "    }\n",
       "\n",
       "    .dataframe thead th {\n",
       "        text-align: right;\n",
       "    }\n",
       "</style>\n",
       "<table border=\"1\" class=\"dataframe\">\n",
       "  <thead>\n",
       "    <tr style=\"text-align: right;\">\n",
       "      <th></th>\n",
       "      <th>experiment_name</th>\n",
       "      <th>run_name</th>\n",
       "      <th>run_type</th>\n",
       "      <th>state</th>\n",
       "      <th>param.model_uri</th>\n",
       "      <th>param.learning_rate</th>\n",
       "      <th>param.max_depth</th>\n",
       "      <th>param.train_uri</th>\n",
       "      <th>param.boost_rounds</th>\n",
       "      <th>param.label_uri</th>\n",
       "    </tr>\n",
       "  </thead>\n",
       "  <tbody>\n",
       "    <tr>\n",
       "      <th>0</th>\n",
       "      <td>pipe-run-associated-experiment-v3-xgboost-2022...</td>\n",
       "      <td>custom-training-pipeline-20220729024820</td>\n",
       "      <td>system.PipelineRun</td>\n",
       "      <td>RUNNING</td>\n",
       "      <td>gs://test-us-central/model</td>\n",
       "      <td>0.4</td>\n",
       "      <td>5</td>\n",
       "      <td>gs://test-us-central/iris/iris_data.csv</td>\n",
       "      <td>30</td>\n",
       "      <td>gs://test-us-central/iris/iris_target.csv</td>\n",
       "    </tr>\n",
       "    <tr>\n",
       "      <th>1</th>\n",
       "      <td>pipe-run-associated-experiment-v3-xgboost-2022...</td>\n",
       "      <td>custom-training-pipeline-20220729024819</td>\n",
       "      <td>system.PipelineRun</td>\n",
       "      <td>RUNNING</td>\n",
       "      <td>gs://test-us-central/model</td>\n",
       "      <td>0.5</td>\n",
       "      <td>6</td>\n",
       "      <td>gs://test-us-central/iris/iris_data.csv</td>\n",
       "      <td>40</td>\n",
       "      <td>gs://test-us-central/iris/iris_target.csv</td>\n",
       "    </tr>\n",
       "    <tr>\n",
       "      <th>2</th>\n",
       "      <td>pipe-run-associated-experiment-v3-xgboost-2022...</td>\n",
       "      <td>custom-training-pipeline-20220729024817</td>\n",
       "      <td>system.PipelineRun</td>\n",
       "      <td>RUNNING</td>\n",
       "      <td>gs://test-us-central/model</td>\n",
       "      <td>0.1</td>\n",
       "      <td>3</td>\n",
       "      <td>gs://test-us-central/iris/iris_data.csv</td>\n",
       "      <td>30</td>\n",
       "      <td>gs://test-us-central/iris/iris_target.csv</td>\n",
       "    </tr>\n",
       "    <tr>\n",
       "      <th>3</th>\n",
       "      <td>pipe-run-associated-experiment-v3-xgboost-2022...</td>\n",
       "      <td>custom-training-pipeline-20220729024815</td>\n",
       "      <td>system.PipelineRun</td>\n",
       "      <td>RUNNING</td>\n",
       "      <td>gs://test-us-central/model</td>\n",
       "      <td>0.3</td>\n",
       "      <td>5</td>\n",
       "      <td>gs://test-us-central/iris/iris_data.csv</td>\n",
       "      <td>20</td>\n",
       "      <td>gs://test-us-central/iris/iris_target.csv</td>\n",
       "    </tr>\n",
       "    <tr>\n",
       "      <th>4</th>\n",
       "      <td>pipe-run-associated-experiment-v3-xgboost-2022...</td>\n",
       "      <td>custom-training-pipeline-20220729024813</td>\n",
       "      <td>system.PipelineRun</td>\n",
       "      <td>RUNNING</td>\n",
       "      <td>gs://test-us-central/model</td>\n",
       "      <td>0.2</td>\n",
       "      <td>4</td>\n",
       "      <td>gs://test-us-central/iris/iris_data.csv</td>\n",
       "      <td>10</td>\n",
       "      <td>gs://test-us-central/iris/iris_target.csv</td>\n",
       "    </tr>\n",
       "  </tbody>\n",
       "</table>\n",
       "</div>"
      ],
      "text/plain": [
       "                                     experiment_name  \\\n",
       "0  pipe-run-associated-experiment-v3-xgboost-2022...   \n",
       "1  pipe-run-associated-experiment-v3-xgboost-2022...   \n",
       "2  pipe-run-associated-experiment-v3-xgboost-2022...   \n",
       "3  pipe-run-associated-experiment-v3-xgboost-2022...   \n",
       "4  pipe-run-associated-experiment-v3-xgboost-2022...   \n",
       "\n",
       "                                  run_name            run_type    state  \\\n",
       "0  custom-training-pipeline-20220729024820  system.PipelineRun  RUNNING   \n",
       "1  custom-training-pipeline-20220729024819  system.PipelineRun  RUNNING   \n",
       "2  custom-training-pipeline-20220729024817  system.PipelineRun  RUNNING   \n",
       "3  custom-training-pipeline-20220729024815  system.PipelineRun  RUNNING   \n",
       "4  custom-training-pipeline-20220729024813  system.PipelineRun  RUNNING   \n",
       "\n",
       "              param.model_uri  param.learning_rate param.max_depth  \\\n",
       "0  gs://test-us-central/model                  0.4               5   \n",
       "1  gs://test-us-central/model                  0.5               6   \n",
       "2  gs://test-us-central/model                  0.1               3   \n",
       "3  gs://test-us-central/model                  0.3               5   \n",
       "4  gs://test-us-central/model                  0.2               4   \n",
       "\n",
       "                           param.train_uri param.boost_rounds  \\\n",
       "0  gs://test-us-central/iris/iris_data.csv                 30   \n",
       "1  gs://test-us-central/iris/iris_data.csv                 40   \n",
       "2  gs://test-us-central/iris/iris_data.csv                 30   \n",
       "3  gs://test-us-central/iris/iris_data.csv                 20   \n",
       "4  gs://test-us-central/iris/iris_data.csv                 10   \n",
       "\n",
       "                             param.label_uri  \n",
       "0  gs://test-us-central/iris/iris_target.csv  \n",
       "1  gs://test-us-central/iris/iris_target.csv  \n",
       "2  gs://test-us-central/iris/iris_target.csv  \n",
       "3  gs://test-us-central/iris/iris_target.csv  \n",
       "4  gs://test-us-central/iris/iris_target.csv  "
      ]
     },
     "execution_count": 239,
     "metadata": {},
     "output_type": "execute_result"
    }
   ],
   "source": [
    "# see state of all pipelineJob\n",
    "vertex_ai.get_experiment_df(EXPERIMENT_NAME)"
   ]
  },
  {
   "cell_type": "code",
   "execution_count": 240,
   "metadata": {
    "id": "FA9W85vs7LLD"
   },
   "outputs": [
    {
     "name": "stdout",
     "output_type": "stream",
     "text": [
      "Pipeline runs are still running...\n",
      "Pipeline experiment runs have completed\n"
     ]
    }
   ],
   "source": [
    "while True:\n",
    "    pipeline_experiments_df = vertex_ai.get_experiment_df(EXPERIMENT_NAME)\n",
    "    if all(\n",
    "        pipeline_state != \"COMPLETE\" for pipeline_state in pipeline_experiments_df.state\n",
    "    ):\n",
    "        print(\"Pipeline runs are still running...\")\n",
    "        if any(\n",
    "            pipeline_state == \"FAILED\"\n",
    "            for pipeline_state in pipeline_experiments_df.state\n",
    "        ):\n",
    "            print(\"At least one Pipeline run failed\")\n",
    "            break\n",
    "    else:\n",
    "        print(\"Pipeline experiment runs have completed\")\n",
    "        break\n",
    "    time.sleep(60)"
   ]
  },
  {
   "cell_type": "code",
   "execution_count": 241,
   "metadata": {
    "id": "ISsK9Msi-Kqs"
   },
   "outputs": [
    {
     "name": "stdout",
     "output_type": "stream",
     "text": [
      "projects/934903580331/locations/us-central1/pipelineJobs/custom-training-pipeline-20220729024820\n",
      "https://console.cloud.google.com/vertex-ai/locations/us-central1/pipelines/runs/custom-training-pipeline-20220729024820?project=934903580331\n"
     ]
    }
   ],
   "source": [
    "# Get the PipelineJob resource using the experiment run name\n",
    "pipeline_experiments_df = vertex_ai.get_experiment_df(EXPERIMENT_NAME)\n",
    "job = vertex_ai.PipelineJob.get(pipeline_experiments_df.run_name[0])\n",
    "print(job.resource_name)\n",
    "print(job._dashboard_uri())"
   ]
  },
  {
   "cell_type": "markdown",
   "metadata": {},
   "source": [
    "# Example 4 - Associate pipeline run with experiment run\n",
    "* explictly start / stop experiment runs\n",
    "* explicitly log params and metrics"
   ]
  },
  {
   "cell_type": "code",
   "execution_count": 255,
   "metadata": {},
   "outputs": [
    {
     "name": "stdout",
     "output_type": "stream",
     "text": [
      "EXPERIMENT_NAME: pipe-run-explicit-logging-v26-xgboost-20220729030143\n"
     ]
    }
   ],
   "source": [
    "TIMESTAMP = datetime.now().strftime(\"%Y%m%d%H%M%S\")\n",
    "VERSION = 'v26'\n",
    "\n",
    "# Experiments\n",
    "TASK = \"explicit-logging\"\n",
    "MODEL_TYPE = \"xgboost\"\n",
    "EXPERIMENT_NAME = f\"pipe-run-{TASK}-{VERSION}-{MODEL_TYPE}-{TIMESTAMP}\"\n",
    "\n",
    "# Pipeline\n",
    "PIPELINE_URI = f\"{BUCKET_URI}/pipelines\"\n",
    "TRAIN_URI = f\"{BUCKET_URI}/iris/iris_data.csv\"\n",
    "LABEL_URI = f\"{BUCKET_URI}/iris/iris_target.csv\"\n",
    "MODEL_URI = f\"{BUCKET_URI}/model\"\n",
    "\n",
    "print(f\"EXPERIMENT_NAME: {EXPERIMENT_NAME}\")"
   ]
  },
  {
   "cell_type": "code",
   "execution_count": 257,
   "metadata": {},
   "outputs": [],
   "source": [
    "@component(\n",
    "    packages_to_install=[\n",
    "        \"numpy==1.18.5\",\n",
    "        \"pandas==1.0.4\",\n",
    "        \"scikit-learn==0.23.1\",\n",
    "        \"xgboost==1.1.1\",\n",
    "        \"google-cloud-aiplatform\",\n",
    "    ]\n",
    ")\n",
    "def custom_trainer(\n",
    "    train_uri: str,\n",
    "    label_uri: str,\n",
    "    max_depth: int,\n",
    "    learning_rate: float,\n",
    "    epochs: int,\n",
    "    batch_size: int,\n",
    "    boost_rounds: int,\n",
    "    model_uri: str,\n",
    "    experiment_name: str,\n",
    "    experiment_run: str,\n",
    "    pipeline_name: str,\n",
    "    metrics: Output[Metrics],\n",
    "    model_metadata: Output[Model],\n",
    "):\n",
    "\n",
    "    # import libraries\n",
    "    import logging\n",
    "    import uuid\n",
    "    from pathlib import Path as path\n",
    "\n",
    "    import pandas as pd\n",
    "    import xgboost as xgb\n",
    "    from sklearn.metrics import accuracy_score\n",
    "    from sklearn.model_selection import train_test_split\n",
    "    import google.cloud.aiplatform as vertex_ai\n",
    "    \n",
    "    vertex_ai.init(project='hybrid-vertex', location='us-central1', staging_bucket='gs://test-us-central')\n",
    "\n",
    "    # variables\n",
    "    gs_prefix = \"gs://\"\n",
    "    gcsfuse_prefix = \"/gcs/\"\n",
    "    train_path = train_uri.replace(gs_prefix, gcsfuse_prefix)\n",
    "    label_path = label_uri.replace(gs_prefix, gcsfuse_prefix)\n",
    "    model_path = model_uri.replace(gs_prefix, gcsfuse_prefix)\n",
    "    \n",
    "    metaparams = {}\n",
    "    metaparams[\"train_uri\"] = train_uri\n",
    "    metaparams[\"label_uri\"] = label_uri\n",
    "    metaparams[\"model_uri\"] = model_uri\n",
    "    metaparams[\"experiment_name\"] = experiment_name\n",
    "    metaparams[\"experiment_run\"] = experiment_run\n",
    "    \n",
    "    hyperparams = {}\n",
    "    hyperparams[\"epochs\"] = epochs\n",
    "    hyperparams[\"batch_size\"] = batch_size\n",
    "    hyperparams[\"learning_rate\"] = learning_rate\n",
    "    hyperparams[\"max_depth\"] = max_depth\n",
    "    hyperparams[\"boost_rounds\"] = boost_rounds\n",
    "    \n",
    "    # ====================================================\n",
    "    # Experiments\n",
    "    # ====================================================\n",
    "    \n",
    "    EXPERIMENT_NAME = f\"{experiment_name}\"\n",
    "    RUN_NAME = f\"{experiment_run}\"\n",
    "    \n",
    "    logging.info(f\"Creating run: {RUN_NAME}; for experiment: {EXPERIMENT_NAME}\")\n",
    "    \n",
    "    # Create experiment\n",
    "    vertex_ai.init(experiment=EXPERIMENT_NAME)\n",
    "    # vertex_ai.start_run(RUN_NAME,resume=True) # RUN_NAME\n",
    "    \n",
    "    with vertex_ai.start_run(RUN_NAME) as my_run:\n",
    "        logging.info(f\"logging metaparams\")\n",
    "        my_run.log_params(metaparams)\n",
    "        \n",
    "        logging.info(f\"logging hyperparams\")\n",
    "        my_run.log_params(hyperparams)\n",
    "    \n",
    "    # ====================================================\n",
    "\n",
    "    def get_logger():\n",
    "        \"\"\"\n",
    "        Get the logger\n",
    "        \"\"\"\n",
    "        logger = logging.getLogger(__name__)\n",
    "        logger.setLevel(logging.INFO)\n",
    "        handler = logging.StreamHandler()\n",
    "        handler.setFormatter(\n",
    "            logging.Formatter(\"%(asctime)s - %(name)s - %(levelname)s - %(message)s\")\n",
    "        )\n",
    "        logger.addHandler(handler)\n",
    "        return logger\n",
    "\n",
    "    def get_data(\n",
    "        train_path: str, label_path: str\n",
    "    ) -> (xgb.DMatrix, pd.DataFrame, pd.DataFrame):\n",
    "        \"\"\"\n",
    "        Get the data\n",
    "        Args:\n",
    "            train_path: the path of the train data\n",
    "            label_path: the path of the label data\n",
    "        Returns:\n",
    "            the train data and the label data\n",
    "        \"\"\"\n",
    "        # Load data into pandas, then use `.values` to get NumPy arrays\n",
    "        data = pd.read_csv(train_path).values\n",
    "        labels = pd.read_csv(label_path).values\n",
    "\n",
    "        # Convert one-column 2D array into 1D array for use with XGBoost\n",
    "        labels = labels.reshape((labels.size,))\n",
    "        train_data, test_data, train_labels, test_labels = train_test_split(\n",
    "            data, labels, test_size=0.2, random_state=7\n",
    "        )\n",
    "\n",
    "        # Load data into DMatrix object\n",
    "        dtrain = xgb.DMatrix(train_data, label=train_labels)\n",
    "        return dtrain, test_data, test_labels\n",
    "\n",
    "    def train_model(max_depth: int, eta: int, boost_rounds, dtrain: xgb.DMatrix):\n",
    "        \"\"\"\n",
    "        Train the model\n",
    "        Args:\n",
    "            max_depth: the max depth of the model\n",
    "            eta: the eta of the model\n",
    "            boost_rounds: the boost rounds of the model\n",
    "            dtrain: the train data\n",
    "        Returns:\n",
    "            the trained model\n",
    "        \"\"\"\n",
    "        # Train XGBoost model\n",
    "        param = {\"max_depth\": max_depth, \"eta\": eta}\n",
    "        model = xgb.train(param, dtrain, num_boost_round=boost_rounds)\n",
    "        return model\n",
    "\n",
    "    def evaluate_model(model, test_data, test_labels):\n",
    "        \"\"\"\n",
    "        Evaluate the model\n",
    "        Args:\n",
    "            model: the trained model\n",
    "            test_data: the test data\n",
    "            test_labels: the test labels\n",
    "        Returns:\n",
    "            the accuracy of the model\n",
    "        \"\"\"\n",
    "        dtest = xgb.DMatrix(test_data)\n",
    "        pred = model.predict(dtest)\n",
    "        predictions = [round(value) for value in pred]\n",
    "        # Evaluate predictions\n",
    "        accuracy = accuracy_score(test_labels, predictions)\n",
    "        return accuracy\n",
    "\n",
    "    def save_model(model, model_path):\n",
    "        \"\"\"\n",
    "        Save the model\n",
    "        Args:\n",
    "            model: the trained model\n",
    "            model_path: the path of the model\n",
    "        \"\"\"\n",
    "        model_id = str(uuid.uuid1())\n",
    "        model_path = f\"{model_path}/{model_id}/model.bst\"\n",
    "        path(model_path).parent.mkdir(parents=True, exist_ok=True)\n",
    "        model.save_model(model_path)\n",
    "\n",
    "    # Main ----------------------------------------------\n",
    "\n",
    "    dtrain, test_data, test_labels = get_data(train_path, label_path)\n",
    "    model = train_model(max_depth, learning_rate, boost_rounds, dtrain)\n",
    "    accuracy = evaluate_model(model, test_data, test_labels)\n",
    "    save_model(model, model_path)\n",
    "\n",
    "    # Metadata ------------------------------------------\n",
    "    logging.info(f\"logging metrics\")\n",
    "    metrics.log_metric(\"accuracy\", accuracy)\n",
    "    model_metadata.uri = model_uri\n",
    "\n",
    "    with vertex_ai.start_run(RUN_NAME,resume=True) as my_run:\n",
    "        logging.info(f\"logging accuracy to experiment run {RUN_NAME}\")\n",
    "        my_run.log_metrics({\"accuracy\": accuracy})\n",
    "    \n",
    "    # logging.info(f\"Ending experiment run: {RUN_NAME}\")\n",
    "    # vertex_ai.end_run()"
   ]
  },
  {
   "cell_type": "code",
   "execution_count": 258,
   "metadata": {},
   "outputs": [],
   "source": [
    "@dsl.pipeline(name=f\"custom-training-pipeline-{VERSION}\")\n",
    "def pipeline(\n",
    "    train_uri: str,\n",
    "    label_uri: str,\n",
    "    max_depth: int,\n",
    "    learning_rate: float,\n",
    "    boost_rounds: int,\n",
    "    model_uri: str,\n",
    "    experiment_name: str,\n",
    "    experiment_run: str,\n",
    "    epochs: int,\n",
    "    batch_size: int,\n",
    "    pipeline_name: str,\n",
    "):\n",
    "\n",
    "    custom_trainer(\n",
    "        train_uri=train_uri, \n",
    "        label_uri=label_uri, \n",
    "        max_depth=max_depth, \n",
    "        learning_rate=learning_rate, \n",
    "        epochs=epochs, \n",
    "        pipeline_name=pipeline_name,\n",
    "        batch_size=batch_size, \n",
    "        boost_rounds=boost_rounds, \n",
    "        model_uri=model_uri, \n",
    "        experiment_name=experiment_name,\n",
    "        experiment_run=experiment_run\n",
    "    )"
   ]
  },
  {
   "cell_type": "code",
   "execution_count": 259,
   "metadata": {},
   "outputs": [],
   "source": [
    "compiler.Compiler().compile(pipeline_func=pipeline, package_path=\"pipeline.json\")"
   ]
  },
  {
   "cell_type": "code",
   "execution_count": 260,
   "metadata": {},
   "outputs": [],
   "source": [
    "runs = [\n",
    "    {\"experiment_name\": f'{EXPERIMENT_NAME}', \"run_name\": 'run-1', \"max_depth\": 4, \"learning_rate\": 0.2, \"boost_rounds\": 10, \"epochs\": 10, \"batch_size\": 200},\n",
    "    {\"experiment_name\": f'{EXPERIMENT_NAME}', \"run_name\": 'run-2', \"max_depth\": 5, \"learning_rate\": 0.3, \"boost_rounds\": 20, \"epochs\": 12, \"batch_size\": 250},\n",
    "    {\"experiment_name\": f'{EXPERIMENT_NAME}', \"run_name\": 'run-3', \"max_depth\": 3, \"learning_rate\": 0.1, \"boost_rounds\": 30, \"epochs\": 14, \"batch_size\": 300},\n",
    "    {\"experiment_name\": f'{EXPERIMENT_NAME}', \"run_name\": 'run-4', \"max_depth\": 6, \"learning_rate\": 0.5, \"boost_rounds\": 40, \"epochs\": 16, \"batch_size\": 350},\n",
    "    {\"experiment_name\": f'{EXPERIMENT_NAME}', \"run_name\": 'run-5', \"max_depth\": 5, \"learning_rate\": 0.4, \"boost_rounds\": 30, \"epochs\": 18, \"batch_size\": 400},\n",
    "]"
   ]
  },
  {
   "cell_type": "code",
   "execution_count": 261,
   "metadata": {},
   "outputs": [
    {
     "name": "stdout",
     "output_type": "stream",
     "text": [
      "Creating PipelineJob\n"
     ]
    },
    {
     "name": "stderr",
     "output_type": "stream",
     "text": [
      "INFO:google.cloud.aiplatform.pipeline_jobs:Creating PipelineJob\n"
     ]
    },
    {
     "name": "stdout",
     "output_type": "stream",
     "text": [
      "PipelineJob created. Resource name: projects/934903580331/locations/us-central1/pipelineJobs/pipe-run-explicit-logging-v26-xgboost-20220729030143-pipeline-run-0\n"
     ]
    },
    {
     "name": "stderr",
     "output_type": "stream",
     "text": [
      "INFO:google.cloud.aiplatform.pipeline_jobs:PipelineJob created. Resource name: projects/934903580331/locations/us-central1/pipelineJobs/pipe-run-explicit-logging-v26-xgboost-20220729030143-pipeline-run-0\n"
     ]
    },
    {
     "name": "stdout",
     "output_type": "stream",
     "text": [
      "To use this PipelineJob in another session:\n"
     ]
    },
    {
     "name": "stderr",
     "output_type": "stream",
     "text": [
      "INFO:google.cloud.aiplatform.pipeline_jobs:To use this PipelineJob in another session:\n"
     ]
    },
    {
     "name": "stdout",
     "output_type": "stream",
     "text": [
      "pipeline_job = aiplatform.PipelineJob.get('projects/934903580331/locations/us-central1/pipelineJobs/pipe-run-explicit-logging-v26-xgboost-20220729030143-pipeline-run-0')\n"
     ]
    },
    {
     "name": "stderr",
     "output_type": "stream",
     "text": [
      "INFO:google.cloud.aiplatform.pipeline_jobs:pipeline_job = aiplatform.PipelineJob.get('projects/934903580331/locations/us-central1/pipelineJobs/pipe-run-explicit-logging-v26-xgboost-20220729030143-pipeline-run-0')\n"
     ]
    },
    {
     "name": "stdout",
     "output_type": "stream",
     "text": [
      "View Pipeline Job:\n",
      "https://console.cloud.google.com/vertex-ai/locations/us-central1/pipelines/runs/pipe-run-explicit-logging-v26-xgboost-20220729030143-pipeline-run-0?project=934903580331\n"
     ]
    },
    {
     "name": "stderr",
     "output_type": "stream",
     "text": [
      "INFO:google.cloud.aiplatform.pipeline_jobs:View Pipeline Job:\n",
      "https://console.cloud.google.com/vertex-ai/locations/us-central1/pipelines/runs/pipe-run-explicit-logging-v26-xgboost-20220729030143-pipeline-run-0?project=934903580331\n"
     ]
    },
    {
     "name": "stdout",
     "output_type": "stream",
     "text": [
      "Creating PipelineJob\n"
     ]
    },
    {
     "name": "stderr",
     "output_type": "stream",
     "text": [
      "INFO:google.cloud.aiplatform.pipeline_jobs:Creating PipelineJob\n"
     ]
    },
    {
     "name": "stdout",
     "output_type": "stream",
     "text": [
      "PipelineJob created. Resource name: projects/934903580331/locations/us-central1/pipelineJobs/pipe-run-explicit-logging-v26-xgboost-20220729030143-pipeline-run-1\n"
     ]
    },
    {
     "name": "stderr",
     "output_type": "stream",
     "text": [
      "INFO:google.cloud.aiplatform.pipeline_jobs:PipelineJob created. Resource name: projects/934903580331/locations/us-central1/pipelineJobs/pipe-run-explicit-logging-v26-xgboost-20220729030143-pipeline-run-1\n"
     ]
    },
    {
     "name": "stdout",
     "output_type": "stream",
     "text": [
      "To use this PipelineJob in another session:\n"
     ]
    },
    {
     "name": "stderr",
     "output_type": "stream",
     "text": [
      "INFO:google.cloud.aiplatform.pipeline_jobs:To use this PipelineJob in another session:\n"
     ]
    },
    {
     "name": "stdout",
     "output_type": "stream",
     "text": [
      "pipeline_job = aiplatform.PipelineJob.get('projects/934903580331/locations/us-central1/pipelineJobs/pipe-run-explicit-logging-v26-xgboost-20220729030143-pipeline-run-1')\n"
     ]
    },
    {
     "name": "stderr",
     "output_type": "stream",
     "text": [
      "INFO:google.cloud.aiplatform.pipeline_jobs:pipeline_job = aiplatform.PipelineJob.get('projects/934903580331/locations/us-central1/pipelineJobs/pipe-run-explicit-logging-v26-xgboost-20220729030143-pipeline-run-1')\n"
     ]
    },
    {
     "name": "stdout",
     "output_type": "stream",
     "text": [
      "View Pipeline Job:\n",
      "https://console.cloud.google.com/vertex-ai/locations/us-central1/pipelines/runs/pipe-run-explicit-logging-v26-xgboost-20220729030143-pipeline-run-1?project=934903580331\n"
     ]
    },
    {
     "name": "stderr",
     "output_type": "stream",
     "text": [
      "INFO:google.cloud.aiplatform.pipeline_jobs:View Pipeline Job:\n",
      "https://console.cloud.google.com/vertex-ai/locations/us-central1/pipelines/runs/pipe-run-explicit-logging-v26-xgboost-20220729030143-pipeline-run-1?project=934903580331\n"
     ]
    },
    {
     "name": "stdout",
     "output_type": "stream",
     "text": [
      "Creating PipelineJob\n"
     ]
    },
    {
     "name": "stderr",
     "output_type": "stream",
     "text": [
      "INFO:google.cloud.aiplatform.pipeline_jobs:Creating PipelineJob\n"
     ]
    },
    {
     "name": "stdout",
     "output_type": "stream",
     "text": [
      "PipelineJob created. Resource name: projects/934903580331/locations/us-central1/pipelineJobs/pipe-run-explicit-logging-v26-xgboost-20220729030143-pipeline-run-2\n"
     ]
    },
    {
     "name": "stderr",
     "output_type": "stream",
     "text": [
      "INFO:google.cloud.aiplatform.pipeline_jobs:PipelineJob created. Resource name: projects/934903580331/locations/us-central1/pipelineJobs/pipe-run-explicit-logging-v26-xgboost-20220729030143-pipeline-run-2\n"
     ]
    },
    {
     "name": "stdout",
     "output_type": "stream",
     "text": [
      "To use this PipelineJob in another session:\n"
     ]
    },
    {
     "name": "stderr",
     "output_type": "stream",
     "text": [
      "INFO:google.cloud.aiplatform.pipeline_jobs:To use this PipelineJob in another session:\n"
     ]
    },
    {
     "name": "stdout",
     "output_type": "stream",
     "text": [
      "pipeline_job = aiplatform.PipelineJob.get('projects/934903580331/locations/us-central1/pipelineJobs/pipe-run-explicit-logging-v26-xgboost-20220729030143-pipeline-run-2')\n"
     ]
    },
    {
     "name": "stderr",
     "output_type": "stream",
     "text": [
      "INFO:google.cloud.aiplatform.pipeline_jobs:pipeline_job = aiplatform.PipelineJob.get('projects/934903580331/locations/us-central1/pipelineJobs/pipe-run-explicit-logging-v26-xgboost-20220729030143-pipeline-run-2')\n"
     ]
    },
    {
     "name": "stdout",
     "output_type": "stream",
     "text": [
      "View Pipeline Job:\n",
      "https://console.cloud.google.com/vertex-ai/locations/us-central1/pipelines/runs/pipe-run-explicit-logging-v26-xgboost-20220729030143-pipeline-run-2?project=934903580331\n"
     ]
    },
    {
     "name": "stderr",
     "output_type": "stream",
     "text": [
      "INFO:google.cloud.aiplatform.pipeline_jobs:View Pipeline Job:\n",
      "https://console.cloud.google.com/vertex-ai/locations/us-central1/pipelines/runs/pipe-run-explicit-logging-v26-xgboost-20220729030143-pipeline-run-2?project=934903580331\n"
     ]
    },
    {
     "name": "stdout",
     "output_type": "stream",
     "text": [
      "Creating PipelineJob\n"
     ]
    },
    {
     "name": "stderr",
     "output_type": "stream",
     "text": [
      "INFO:google.cloud.aiplatform.pipeline_jobs:Creating PipelineJob\n"
     ]
    },
    {
     "name": "stdout",
     "output_type": "stream",
     "text": [
      "PipelineJob created. Resource name: projects/934903580331/locations/us-central1/pipelineJobs/pipe-run-explicit-logging-v26-xgboost-20220729030143-pipeline-run-3\n"
     ]
    },
    {
     "name": "stderr",
     "output_type": "stream",
     "text": [
      "INFO:google.cloud.aiplatform.pipeline_jobs:PipelineJob created. Resource name: projects/934903580331/locations/us-central1/pipelineJobs/pipe-run-explicit-logging-v26-xgboost-20220729030143-pipeline-run-3\n"
     ]
    },
    {
     "name": "stdout",
     "output_type": "stream",
     "text": [
      "To use this PipelineJob in another session:\n"
     ]
    },
    {
     "name": "stderr",
     "output_type": "stream",
     "text": [
      "INFO:google.cloud.aiplatform.pipeline_jobs:To use this PipelineJob in another session:\n"
     ]
    },
    {
     "name": "stdout",
     "output_type": "stream",
     "text": [
      "pipeline_job = aiplatform.PipelineJob.get('projects/934903580331/locations/us-central1/pipelineJobs/pipe-run-explicit-logging-v26-xgboost-20220729030143-pipeline-run-3')\n"
     ]
    },
    {
     "name": "stderr",
     "output_type": "stream",
     "text": [
      "INFO:google.cloud.aiplatform.pipeline_jobs:pipeline_job = aiplatform.PipelineJob.get('projects/934903580331/locations/us-central1/pipelineJobs/pipe-run-explicit-logging-v26-xgboost-20220729030143-pipeline-run-3')\n"
     ]
    },
    {
     "name": "stdout",
     "output_type": "stream",
     "text": [
      "View Pipeline Job:\n",
      "https://console.cloud.google.com/vertex-ai/locations/us-central1/pipelines/runs/pipe-run-explicit-logging-v26-xgboost-20220729030143-pipeline-run-3?project=934903580331\n"
     ]
    },
    {
     "name": "stderr",
     "output_type": "stream",
     "text": [
      "INFO:google.cloud.aiplatform.pipeline_jobs:View Pipeline Job:\n",
      "https://console.cloud.google.com/vertex-ai/locations/us-central1/pipelines/runs/pipe-run-explicit-logging-v26-xgboost-20220729030143-pipeline-run-3?project=934903580331\n"
     ]
    },
    {
     "name": "stdout",
     "output_type": "stream",
     "text": [
      "Creating PipelineJob\n"
     ]
    },
    {
     "name": "stderr",
     "output_type": "stream",
     "text": [
      "INFO:google.cloud.aiplatform.pipeline_jobs:Creating PipelineJob\n"
     ]
    },
    {
     "name": "stdout",
     "output_type": "stream",
     "text": [
      "PipelineJob created. Resource name: projects/934903580331/locations/us-central1/pipelineJobs/pipe-run-explicit-logging-v26-xgboost-20220729030143-pipeline-run-4\n"
     ]
    },
    {
     "name": "stderr",
     "output_type": "stream",
     "text": [
      "INFO:google.cloud.aiplatform.pipeline_jobs:PipelineJob created. Resource name: projects/934903580331/locations/us-central1/pipelineJobs/pipe-run-explicit-logging-v26-xgboost-20220729030143-pipeline-run-4\n"
     ]
    },
    {
     "name": "stdout",
     "output_type": "stream",
     "text": [
      "To use this PipelineJob in another session:\n"
     ]
    },
    {
     "name": "stderr",
     "output_type": "stream",
     "text": [
      "INFO:google.cloud.aiplatform.pipeline_jobs:To use this PipelineJob in another session:\n"
     ]
    },
    {
     "name": "stdout",
     "output_type": "stream",
     "text": [
      "pipeline_job = aiplatform.PipelineJob.get('projects/934903580331/locations/us-central1/pipelineJobs/pipe-run-explicit-logging-v26-xgboost-20220729030143-pipeline-run-4')\n"
     ]
    },
    {
     "name": "stderr",
     "output_type": "stream",
     "text": [
      "INFO:google.cloud.aiplatform.pipeline_jobs:pipeline_job = aiplatform.PipelineJob.get('projects/934903580331/locations/us-central1/pipelineJobs/pipe-run-explicit-logging-v26-xgboost-20220729030143-pipeline-run-4')\n"
     ]
    },
    {
     "name": "stdout",
     "output_type": "stream",
     "text": [
      "View Pipeline Job:\n",
      "https://console.cloud.google.com/vertex-ai/locations/us-central1/pipelines/runs/pipe-run-explicit-logging-v26-xgboost-20220729030143-pipeline-run-4?project=934903580331\n"
     ]
    },
    {
     "name": "stderr",
     "output_type": "stream",
     "text": [
      "INFO:google.cloud.aiplatform.pipeline_jobs:View Pipeline Job:\n",
      "https://console.cloud.google.com/vertex-ai/locations/us-central1/pipelines/runs/pipe-run-explicit-logging-v26-xgboost-20220729030143-pipeline-run-4?project=934903580331\n"
     ]
    }
   ],
   "source": [
    "import google.cloud.aiplatform as vertex_ai\n",
    "\n",
    "vertex_ai.init(experiment=EXPERIMENT_NAME, project='hybrid-vertex', location='us-central1', staging_bucket='gs://test-us-central')\n",
    "    \n",
    "for i, run in enumerate(runs):\n",
    "\n",
    "    job = vertex_ai.PipelineJob(\n",
    "        display_name=f\"{EXPERIMENT_NAME}-pipeline-run-{i}\",\n",
    "        template_path=\"pipeline.json\",\n",
    "        pipeline_root=f'{PIPELINE_URI}',\n",
    "        job_id=f\"{EXPERIMENT_NAME}-pipeline-run-{i}\",\n",
    "        enable_caching=False,\n",
    "        parameter_values={\n",
    "            \"train_uri\": TRAIN_URI,\n",
    "            \"label_uri\": LABEL_URI,\n",
    "            \"model_uri\": MODEL_URI,\n",
    "            \"experiment_name\": run[\"experiment_name\"],\n",
    "            \"experiment_run\": run[\"run_name\"],\n",
    "            \"max_depth\": run[\"max_depth\"],\n",
    "            \"learning_rate\": run[\"learning_rate\"],\n",
    "            \"boost_rounds\": run[\"boost_rounds\"],\n",
    "            \"epochs\": run[\"epochs\"],\n",
    "            \"batch_size\": run[\"batch_size\"],\n",
    "            \"pipeline_name\": f\"{EXPERIMENT_NAME}-pipeline-run-{i}\",\n",
    "        },\n",
    "    )\n",
    "    # job.submit(experiment=EXPERIMENT_NAME)\n",
    "    job.submit()"
   ]
  },
  {
   "cell_type": "code",
   "execution_count": 262,
   "metadata": {},
   "outputs": [
    {
     "data": {
      "text/html": [
       "<div>\n",
       "<style scoped>\n",
       "    .dataframe tbody tr th:only-of-type {\n",
       "        vertical-align: middle;\n",
       "    }\n",
       "\n",
       "    .dataframe tbody tr th {\n",
       "        vertical-align: top;\n",
       "    }\n",
       "\n",
       "    .dataframe thead th {\n",
       "        text-align: right;\n",
       "    }\n",
       "</style>\n",
       "<table border=\"1\" class=\"dataframe\">\n",
       "  <thead>\n",
       "    <tr style=\"text-align: right;\">\n",
       "      <th></th>\n",
       "      <th>experiment_name</th>\n",
       "      <th>run_name</th>\n",
       "      <th>run_type</th>\n",
       "      <th>state</th>\n",
       "      <th>param.learning_rate</th>\n",
       "      <th>param.model_uri</th>\n",
       "      <th>param.max_depth</th>\n",
       "      <th>param.label_uri</th>\n",
       "      <th>param.batch_size</th>\n",
       "      <th>param.train_uri</th>\n",
       "      <th>param.epochs</th>\n",
       "      <th>param.experiment_name</th>\n",
       "      <th>param.experiment_run</th>\n",
       "      <th>param.boost_rounds</th>\n",
       "      <th>metric.accuracy</th>\n",
       "    </tr>\n",
       "  </thead>\n",
       "  <tbody>\n",
       "    <tr>\n",
       "      <th>0</th>\n",
       "      <td>pipe-run-explicit-logging-v26-xgboost-20220729...</td>\n",
       "      <td>run-4</td>\n",
       "      <td>system.ExperimentRun</td>\n",
       "      <td>COMPLETE</td>\n",
       "      <td>0.5</td>\n",
       "      <td>gs://test-us-central/model</td>\n",
       "      <td>6.0</td>\n",
       "      <td>gs://test-us-central/iris/iris_target.csv</td>\n",
       "      <td>350.0</td>\n",
       "      <td>gs://test-us-central/iris/iris_data.csv</td>\n",
       "      <td>16.0</td>\n",
       "      <td>pipe-run-explicit-logging-v26-xgboost-20220729...</td>\n",
       "      <td>run-4</td>\n",
       "      <td>40.0</td>\n",
       "      <td>0.900000</td>\n",
       "    </tr>\n",
       "    <tr>\n",
       "      <th>1</th>\n",
       "      <td>pipe-run-explicit-logging-v26-xgboost-20220729...</td>\n",
       "      <td>run-5</td>\n",
       "      <td>system.ExperimentRun</td>\n",
       "      <td>COMPLETE</td>\n",
       "      <td>0.4</td>\n",
       "      <td>gs://test-us-central/model</td>\n",
       "      <td>5.0</td>\n",
       "      <td>gs://test-us-central/iris/iris_target.csv</td>\n",
       "      <td>400.0</td>\n",
       "      <td>gs://test-us-central/iris/iris_data.csv</td>\n",
       "      <td>18.0</td>\n",
       "      <td>pipe-run-explicit-logging-v26-xgboost-20220729...</td>\n",
       "      <td>run-5</td>\n",
       "      <td>30.0</td>\n",
       "      <td>0.900000</td>\n",
       "    </tr>\n",
       "    <tr>\n",
       "      <th>2</th>\n",
       "      <td>pipe-run-explicit-logging-v26-xgboost-20220729...</td>\n",
       "      <td>run-2</td>\n",
       "      <td>system.ExperimentRun</td>\n",
       "      <td>COMPLETE</td>\n",
       "      <td>0.3</td>\n",
       "      <td>gs://test-us-central/model</td>\n",
       "      <td>5.0</td>\n",
       "      <td>gs://test-us-central/iris/iris_target.csv</td>\n",
       "      <td>250.0</td>\n",
       "      <td>gs://test-us-central/iris/iris_data.csv</td>\n",
       "      <td>12.0</td>\n",
       "      <td>pipe-run-explicit-logging-v26-xgboost-20220729...</td>\n",
       "      <td>run-2</td>\n",
       "      <td>20.0</td>\n",
       "      <td>0.866667</td>\n",
       "    </tr>\n",
       "    <tr>\n",
       "      <th>3</th>\n",
       "      <td>pipe-run-explicit-logging-v26-xgboost-20220729...</td>\n",
       "      <td>run-3</td>\n",
       "      <td>system.ExperimentRun</td>\n",
       "      <td>COMPLETE</td>\n",
       "      <td>0.1</td>\n",
       "      <td>gs://test-us-central/model</td>\n",
       "      <td>3.0</td>\n",
       "      <td>gs://test-us-central/iris/iris_target.csv</td>\n",
       "      <td>300.0</td>\n",
       "      <td>gs://test-us-central/iris/iris_data.csv</td>\n",
       "      <td>14.0</td>\n",
       "      <td>pipe-run-explicit-logging-v26-xgboost-20220729...</td>\n",
       "      <td>run-3</td>\n",
       "      <td>30.0</td>\n",
       "      <td>0.900000</td>\n",
       "    </tr>\n",
       "    <tr>\n",
       "      <th>4</th>\n",
       "      <td>pipe-run-explicit-logging-v26-xgboost-20220729...</td>\n",
       "      <td>run-1</td>\n",
       "      <td>system.ExperimentRun</td>\n",
       "      <td>COMPLETE</td>\n",
       "      <td>0.2</td>\n",
       "      <td>gs://test-us-central/model</td>\n",
       "      <td>4.0</td>\n",
       "      <td>gs://test-us-central/iris/iris_target.csv</td>\n",
       "      <td>200.0</td>\n",
       "      <td>gs://test-us-central/iris/iris_data.csv</td>\n",
       "      <td>10.0</td>\n",
       "      <td>pipe-run-explicit-logging-v26-xgboost-20220729...</td>\n",
       "      <td>run-1</td>\n",
       "      <td>10.0</td>\n",
       "      <td>0.900000</td>\n",
       "    </tr>\n",
       "  </tbody>\n",
       "</table>\n",
       "</div>"
      ],
      "text/plain": [
       "                                     experiment_name run_name  \\\n",
       "0  pipe-run-explicit-logging-v26-xgboost-20220729...    run-4   \n",
       "1  pipe-run-explicit-logging-v26-xgboost-20220729...    run-5   \n",
       "2  pipe-run-explicit-logging-v26-xgboost-20220729...    run-2   \n",
       "3  pipe-run-explicit-logging-v26-xgboost-20220729...    run-3   \n",
       "4  pipe-run-explicit-logging-v26-xgboost-20220729...    run-1   \n",
       "\n",
       "               run_type     state  param.learning_rate  \\\n",
       "0  system.ExperimentRun  COMPLETE                  0.5   \n",
       "1  system.ExperimentRun  COMPLETE                  0.4   \n",
       "2  system.ExperimentRun  COMPLETE                  0.3   \n",
       "3  system.ExperimentRun  COMPLETE                  0.1   \n",
       "4  system.ExperimentRun  COMPLETE                  0.2   \n",
       "\n",
       "              param.model_uri  param.max_depth  \\\n",
       "0  gs://test-us-central/model              6.0   \n",
       "1  gs://test-us-central/model              5.0   \n",
       "2  gs://test-us-central/model              5.0   \n",
       "3  gs://test-us-central/model              3.0   \n",
       "4  gs://test-us-central/model              4.0   \n",
       "\n",
       "                             param.label_uri  param.batch_size  \\\n",
       "0  gs://test-us-central/iris/iris_target.csv             350.0   \n",
       "1  gs://test-us-central/iris/iris_target.csv             400.0   \n",
       "2  gs://test-us-central/iris/iris_target.csv             250.0   \n",
       "3  gs://test-us-central/iris/iris_target.csv             300.0   \n",
       "4  gs://test-us-central/iris/iris_target.csv             200.0   \n",
       "\n",
       "                           param.train_uri  param.epochs  \\\n",
       "0  gs://test-us-central/iris/iris_data.csv          16.0   \n",
       "1  gs://test-us-central/iris/iris_data.csv          18.0   \n",
       "2  gs://test-us-central/iris/iris_data.csv          12.0   \n",
       "3  gs://test-us-central/iris/iris_data.csv          14.0   \n",
       "4  gs://test-us-central/iris/iris_data.csv          10.0   \n",
       "\n",
       "                               param.experiment_name param.experiment_run  \\\n",
       "0  pipe-run-explicit-logging-v26-xgboost-20220729...                run-4   \n",
       "1  pipe-run-explicit-logging-v26-xgboost-20220729...                run-5   \n",
       "2  pipe-run-explicit-logging-v26-xgboost-20220729...                run-2   \n",
       "3  pipe-run-explicit-logging-v26-xgboost-20220729...                run-3   \n",
       "4  pipe-run-explicit-logging-v26-xgboost-20220729...                run-1   \n",
       "\n",
       "   param.boost_rounds  metric.accuracy  \n",
       "0                40.0         0.900000  \n",
       "1                30.0         0.900000  \n",
       "2                20.0         0.866667  \n",
       "3                30.0         0.900000  \n",
       "4                10.0         0.900000  "
      ]
     },
     "execution_count": 262,
     "metadata": {},
     "output_type": "execute_result"
    }
   ],
   "source": [
    "# see state of all pipelineJob\n",
    "vertex_ai.get_experiment_df(EXPERIMENT_NAME)"
   ]
  },
  {
   "cell_type": "code",
   "execution_count": null,
   "metadata": {},
   "outputs": [],
   "source": [
    "# runs = [\n",
    "#     {\"experiment_name\": f'{EXPERIMENT_NAME}', \"max_depth\": 4, \"learning_rate\": 0.2, \"boost_rounds\": 10, \"epochs\": 10, \"batch_size\": 200},\n",
    "#     {\"experiment_name\": f'{EXPERIMENT_NAME}', \"max_depth\": 5, \"learning_rate\": 0.3, \"boost_rounds\": 20, \"epochs\": 12, \"batch_size\": 250},\n",
    "#     {\"experiment_name\": f'{EXPERIMENT_NAME}', \"max_depth\": 3, \"learning_rate\": 0.1, \"boost_rounds\": 30, \"epochs\": 14, \"batch_size\": 300},\n",
    "#     {\"experiment_name\": f'{EXPERIMENT_NAME}', \"max_depth\": 6, \"learning_rate\": 0.5, \"boost_rounds\": 40, \"epochs\": 16, \"batch_size\": 350},\n",
    "#     {\"experiment_name\": f'{EXPERIMENT_NAME}', \"max_depth\": 5, \"learning_rate\": 0.4, \"boost_rounds\": 30, \"epochs\": 18, \"batch_size\": 400},\n",
    "# ]"
   ]
  },
  {
   "cell_type": "markdown",
   "metadata": {
    "id": "TpV-iwP9qw9c"
   },
   "source": [
    "## Cleaning up\n",
    "\n",
    "To clean up all Google Cloud resources used in this project, you can [delete the Google Cloud\n",
    "project](https://cloud.google.com/resource-manager/docs/creating-managing-projects#shutting_down_projects) you used for the tutorial.\n",
    "\n",
    "Otherwise, you can delete the individual resources you created in this tutorial"
   ]
  },
  {
   "cell_type": "code",
   "execution_count": null,
   "metadata": {
    "id": "6xbYQn5t5Noe"
   },
   "outputs": [],
   "source": [
    "# Delete the pipeline\n",
    "for i in range(0, len(runs)):\n",
    "    pipeline_job = vertex_ai.PipelineJob.get(pipeline_experiments_df.run_name[i])\n",
    "    pipeline_job.delete()"
   ]
  },
  {
   "cell_type": "code",
   "execution_count": null,
   "metadata": {
    "id": "eRC5iZOh_I8B"
   },
   "outputs": [],
   "source": [
    "# Delete experiment\n",
    "exp = vertex_ai.Experiment(EXPERIMENT_NAME)\n",
    "exp.delete()"
   ]
  },
  {
   "cell_type": "code",
   "execution_count": null,
   "metadata": {
    "id": "sx_vKniMq9ZX"
   },
   "outputs": [],
   "source": [
    "delete_bucket = False\n",
    "\n",
    "if delete_bucket or os.getenv(\"IS_TESTING\"):\n",
    "    ! gsutil rm -rf {BUCKET_URI}"
   ]
  }
 ],
 "metadata": {
  "colab": {
   "collapsed_sections": [],
   "name": "comparing_pipeline_runs.ipynb",
   "toc_visible": true
  },
  "environment": {
   "kernel": "python3",
   "name": "tf2-gpu.2-9.m94",
   "type": "gcloud",
   "uri": "gcr.io/deeplearning-platform-release/tf2-gpu.2-9:m94"
  },
  "kernelspec": {
   "display_name": "Python 3",
   "language": "python",
   "name": "python3"
  },
  "language_info": {
   "codemirror_mode": {
    "name": "ipython",
    "version": 3
   },
   "file_extension": ".py",
   "mimetype": "text/x-python",
   "name": "python",
   "nbconvert_exporter": "python",
   "pygments_lexer": "ipython3",
   "version": "3.7.12"
  }
 },
 "nbformat": 4,
 "nbformat_minor": 4
}
